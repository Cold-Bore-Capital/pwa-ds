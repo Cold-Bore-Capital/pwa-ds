{
 "cells": [
  {
   "cell_type": "markdown",
   "source": [
    "## Import Modules\n"
   ],
   "metadata": {
    "collapsed": false,
    "pycharm": {
     "name": "#%% md\n"
    }
   }
  },
  {
   "cell_type": "code",
   "execution_count": 1,
   "source": [
    "import pandas as pd\n",
    "import numpy as np\n",
    "\n",
    "from  cbcdb import DBManager\n",
    "import datetime\n",
    "from dotenv import load_dotenv, find_dotenv\n",
    "import matplotlib.pyplot as plt\n",
    "%matplotlib inline\n",
    "import seaborn as sns\n",
    "from sklearn.preprocessing import OneHotEncoder\n",
    "from sklearn.model_selection import train_test_split\n",
    "from sklearn.metrics import confusion_matrix, roc_curve, auc,  mean_squared_error, explained_variance_score, r2_score, f1_score, recall_score, precision_score, classification_report\n",
    "import statsmodels.api as sm\n",
    "\n",
    "\n",
    "\n",
    "def Find_Optimal_Cutoff(target, predicted):\n",
    "    \"\"\" Find the optimal probability cutoff point for a classification model related to event rate\n",
    "    Parameters\n",
    "    ----------\n",
    "    target : Matrix with dependent or target data, where rows are observations\n",
    "\n",
    "    predicted : Matrix with predicted data, where rows are observations\n",
    "\n",
    "    Returns\n",
    "    -------\n",
    "    list type, with optimal cutoff value\n",
    "\n",
    "    \"\"\"\n",
    "    fpr, tpr, threshold = roc_curve(target, predicted)\n",
    "    i = np.arange(len(tpr))\n",
    "    roc = pd.DataFrame({'tf' : pd.Series(tpr-(1-fpr), index=i), 'threshold' : pd.Series(threshold, index=i)})\n",
    "    roc_t = roc.iloc[(roc.tf-0).abs().argsort()[:1]]\n",
    "\n",
    "    return list(roc_t['threshold'])"
   ],
   "outputs": [],
   "metadata": {
    "collapsed": false,
    "pycharm": {
     "name": "#%%\n"
    }
   }
  },
  {
   "cell_type": "markdown",
   "source": [
    "## Read in Data"
   ],
   "metadata": {
    "collapsed": false
   }
  },
  {
   "cell_type": "code",
   "execution_count": 2,
   "source": [
    "load_dotenv(find_dotenv())\n",
    "db = DBManager()"
   ],
   "outputs": [],
   "metadata": {
    "collapsed": false,
    "pycharm": {
     "name": "#%%\n"
    }
   }
  },
  {
   "cell_type": "code",
   "execution_count": 3,
   "source": [
    "sql = \"\"\"\n",
    "        create temporary table consecutive_days as (\n",
    "            select uid\n",
    "                 , datetime_\n",
    "                 , rank_group\n",
    "                 , visit_number\n",
    "                 , max(visit_number) over (partition by uid) as max_num_visit\n",
    "                 , case\n",
    "                       when (max_num_visit) > 1 then 1\n",
    "                       else 0 end                            as visit_more_than_once\n",
    "            from (\n",
    "                     select uid\n",
    "                          , datetime_\n",
    "                          , rank_group\n",
    "                          , rank() over (partition by uid order by rank_group asc) as visit_number\n",
    "                     from (\n",
    "                              SELECT uid\n",
    "                                   , datetime                                                                  as datetime_\n",
    "                                   , dateadd(day, -rank() OVER (partition by uid ORDER BY datetime), datetime) AS rank_group\n",
    "                              FROM (SELECT DISTINCT t.location_id || '_' || t.animal_id as uid\n",
    "                                                  , trunc(t.datetime_date)              as datetime\n",
    "                                                    , sum(t.revenue) as revenue_\n",
    "                                    from bi.transactions t\n",
    "                                             inner join bi.animals a\n",
    "                                                        on a.ezyvet_id = t.animal_id\n",
    "                                                            and a.location_id = t.location_id\n",
    "                                    group by 1,2\n",
    "                              having revenue_ > 0\n",
    "                                    order by 1, 2))));\n",
    "        \n",
    "        create temporary table wellness as (\n",
    "            select wm.location_id || '_' || wm.animal_id                 as uid\n",
    "                 , date(datetime_start_date)                             as datetime_\n",
    "                 , wm.wellness_plan                                      as wellness_plan_num\n",
    "                 , DATEDIFF(MONTH, wm.datetime_start_date, CURRENT_DATE) as months_a_member\n",
    "                 , wp.name                                               as wellness_plan\n",
    "            from pwa_bi.bi.wellness_membership wm\n",
    "                     left join bi.wellness_plans wp\n",
    "                               on wp.location_id = wm.location_id\n",
    "                                   and wp.ezyvet_id = wm.wellness_plan\n",
    "                     left join bi.animals a\n",
    "                               on a.location_id = wm.location_id\n",
    "                                   and a.ezyvet_id = wm.animal_id);\n",
    "        -- where wp.active = 1\n",
    "        --  and wm.status = 'Active');\n",
    "        \n",
    "            select f1.uid\n",
    "             , f1.breed\n",
    "             , f1.ani_age\n",
    "             , f1.date\n",
    "             , f1.weight\n",
    "             , f1.is_medical\n",
    "             , f1.product_group\n",
    "             , f1.product_name\n",
    "             ,  sum(case when f1.product_name like 'First Day Daycare Fre%' then 1 else 0 end)\n",
    "                     over (partition by f1.uid)  as product_count\n",
    "             --, f1.type_id\n",
    "             , f1.wellness_plan\n",
    "             --, f1.months_a_member\n",
    "             , f1.visit_number\n",
    "             , f1.visit_more_than_once\n",
    "             , f1.max_num_visit\n",
    "             , f1.first_visit_spend\n",
    "             , f1.total_future_spend\n",
    "        from (\n",
    "                     select f.uid\n",
    "                      , f.breed\n",
    "                      , f.ani_age\n",
    "                      , f.date\n",
    "                      , f.weight\n",
    "                      , f.is_medical\n",
    "                      --, f.tracking_level\n",
    "                      , f.product_group\n",
    "                      , f.product_name\n",
    "                      --, f.type_id\n",
    "                      , cd.visit_number\n",
    "                      , cd.visit_more_than_once\n",
    "                      , cd.max_num_visit\n",
    "                      , f.revenue\n",
    "                      ,  sum(case when w.wellness_plan is null then 0 else 1 end)\n",
    "                        over (partition by f.uid)  as wellness_plan\n",
    "                      --, w.months_a_member\n",
    "                      , sum(case when cd.visit_number != 1 then f.revenue else 0 end)\n",
    "                        over (partition by f.uid) as total_future_spend\n",
    "                      , sum(case when cd.visit_number = 1 then f.revenue else 0 end)\n",
    "                        over (partition by f.uid) as first_visit_spend\n",
    "                 from (\n",
    "\n",
    "                          select t.location_id || '_' || t.animal_id                                                         as uid\n",
    "                               , a.breed\n",
    "                               , max(\n",
    "                                  date_diff('years', timestamp 'epoch' + a.date_of_birth * interval '1 second',\n",
    "                                            current_date))                                                                   as ani_age\n",
    "                               --, min(trunc(t.datetime_date)) over (partition by t.location_id || '_' || t.animal_id) as      date_of_first_visit\n",
    "                               , case when trunc(t.datetime_date) - min(trunc(t.datetime_date)) over (partition by t.location_id || '_' || t.animal_id) > 548 then 0\n",
    "                                   else 1 end as less_than_1_5_yeras\n",
    "                                , case when current_date - min(trunc(t.datetime_date)) over (partition by t.location_id || '_' || t.animal_id) <  270 then 0\n",
    "                                   else 1 end as recent_patient\n",
    "                               , trunc(t.datetime_date)                                                                      as date\n",
    "                               , a.weight\n",
    "                               , p.is_medical\n",
    "                                , case when  p.product_group like 'Retail%' then 'Retail'\n",
    "                                        when p.product_group in ('Boarding','Daycare','Daycare Packages') then 'Boarding'\n",
    "                                        when p.product_group like 'Medication%' then 'Medication'\n",
    "                                        when p.product_group like  ('Referrals%') then 'Referrals'\n",
    "                                        when p.product_group in ('to print','To Print','Administration') then 'admin'\n",
    "                                        else p.product_group end as product_group\n",
    "                               , case\n",
    "                                     when apt.type_id like 'Grooming%' then 'groom'\n",
    "                                     when apt.type_id like '%Neuter%' then 'neurtering'\n",
    "                                     when apt.type_id like '%ental%' then 'dental'\n",
    "                                     else apt.type_id end                                                                    as type_id\n",
    "                               --, p.name\n",
    "                               --, p.type\n",
    "                               --, p.tracking_level\n",
    "                               , t.product_name\n",
    "                               , sum(t.revenue)                                                                                   as revenue\n",
    "                               , dense_rank()\n",
    "                                 over (partition by t.location_id || '_' || t.animal_id order by trunc(t.datetime_date) asc) as rank_\n",
    "                          from bi.transactions t\n",
    "                                   --inner join bi.products p\n",
    "                                   left join bi.products p\n",
    "                                              on t.product_id = p.ezyvet_id\n",
    "                                                  and t.location_id = p.location_id\n",
    "                                   left join bi.animals a\n",
    "                                              on a.id = t.animal_id\n",
    "                                   left join bi.contacts c\n",
    "                                             on a.contact_id = c.ezyvet_id\n",
    "                                                 and t.location_id = c.location_id\n",
    "                                   left join bi.appointments apt\n",
    "                                             on a.contact_id = apt.ezyvet_id\n",
    "                                                 and t.location_id = apt.location_id\n",
    "                                --where t.product_name like 'First Day Daycare Free%'\n",
    "                                -- type_id not in ('Cancellation')\n",
    "                                -- p.name not like '%Subscri%'\n",
    "                                --  and p.product_group != 'Surgical Services'\n",
    "                                -- and a.breed != '0.0'\n",
    "                          group by 1, 2, 6, 7, 8, 9, 10, 11\n",
    "                     ) f\n",
    "                  inner join consecutive_days cd\n",
    "                            on f.uid = cd.uid\n",
    "                                and f.date = cd.datetime_\n",
    "                  left join wellness w\n",
    "                            on f.uid = w.uid\n",
    "                                and f.date = w.datetime_\n",
    "                    where less_than_1_5_yeras = 1\n",
    "                            and recent_patient = 1) f1\n",
    "        --where f1.visit_number = 1\n",
    "        order by 1, 4;\"\"\"\n",
    "df = db.get_sql_dataframe(sql)\n",
    "#df.to_csv('customer_retention_prod/data/data.csv')"
   ],
   "outputs": [
    {
     "output_type": "stream",
     "name": "stderr",
     "text": [
      "2021-08-19 15:28:36,258| ERROR   | Password is required for key /Users/adhamsuliman/.ssh/id_rsa\n"
     ]
    }
   ],
   "metadata": {
    "collapsed": false,
    "pycharm": {
     "name": "#%%\n"
    }
   }
  },
  {
   "cell_type": "code",
   "execution_count": 4,
   "source": [
    "df_breed = db.get_sql_dataframe(\"select * from bi.breeds\")\n",
    "df = df.merge(df_breed, on=['breed'])"
   ],
   "outputs": [
    {
     "output_type": "stream",
     "name": "stderr",
     "text": [
      "2021-08-19 15:28:43,552| ERROR   | Password is required for key /Users/adhamsuliman/.ssh/id_rsa\n"
     ]
    }
   ],
   "metadata": {}
  },
  {
   "cell_type": "code",
   "execution_count": 5,
   "source": [
    "        print(\n",
    "            f\"Out of {df.uid.nunique()}, there are {df[((df.weight.isnull()) | (df.weight == 0.0))]['uid'].nunique()} animals with null weight)\")\n",
    "        print(f\"Out of {df.uid.nunique()}, there are {df[df.ani_age.isnull()]['uid'].nunique()} animals with null age)\")\n",
    "\n",
    "        print(f\"Number of unique id\\'s : {df.uid.nunique()}\")\n",
    "        print(f\"There are {df[df.total_future_spend > 5000]['uid'].nunique()} patients who have spent more than 5k\")\n",
    "        print(\n",
    "            f\"There are {df[df.total_future_spend < 0]['uid'].nunique()} patients who have somehow spent less than $0\")\n",
    "        df.reset_index(drop=True, inplace=True)\n",
    "        df_ = df[['uid', 'ani_age', 'weight', 'product_group', 'breed_group', 'tier', 'is_medical',\n",
    "                  'wellness_plan', 'first_visit_spend', 'total_future_spend']]"
   ],
   "outputs": [
    {
     "output_type": "stream",
     "name": "stdout",
     "text": [
      "Out of 2060, there are 581 animals with null weight)\n",
      "Out of 2060, there are 484 animals with null age)\n",
      "Number of unique id's : 2060\n",
      "There are 24 patients who have spent more than 5k\n",
      "There are 0 patients who have somehow spent less than $0\n"
     ]
    }
   ],
   "metadata": {}
  },
  {
   "cell_type": "markdown",
   "source": [
    "## Create categorical df. Number of rows should equate to the number of unique uid"
   ],
   "metadata": {}
  },
  {
   "cell_type": "code",
   "execution_count": 6,
   "source": [
    "cat_features = ['wellness_plan', 'breed_group', 'tier']\n",
    "df_cat = df_[['uid'] + cat_features].drop_duplicates()\n",
    "# df_product_group = pd.get_dummies(df_.product_group)\n",
    "df_breed_group = pd.get_dummies(df_cat.breed_group)\n",
    "df_tier = pd.get_dummies(df_cat.tier)\n",
    "\n",
    "df_cat = pd.concat([df_cat[['uid']],\n",
    "                    # df_cat.product_group,\n",
    "                    df_breed_group,\n",
    "                    df_tier], axis=1)  #\n",
    "df_categories = df_cat.groupby(['uid'], as_index=False).max()"
   ],
   "outputs": [],
   "metadata": {}
  },
  {
   "cell_type": "markdown",
   "source": [
    "# Create Continuous df"
   ],
   "metadata": {}
  },
  {
   "cell_type": "code",
   "execution_count": 22,
   "source": [
    "df.groupby(['is_medical'])['first_visit_spend'].mean()"
   ],
   "outputs": [
    {
     "output_type": "execute_result",
     "data": {
      "text/plain": [
       "is_medical\n",
       "0    139.773264\n",
       "1    210.730066\n",
       "Name: first_visit_spend, dtype: float64"
      ]
     },
     "metadata": {},
     "execution_count": 22
    }
   ],
   "metadata": {}
  },
  {
   "cell_type": "code",
   "execution_count": 23,
   "source": [
    "cont_features = ['ani_age', 'weight', 'breed_group', 'is_medical', 'wellness_plan', 'first_visit_spend',\n",
    "                'total_future_spend']\n",
    "df_cont = df_[['uid'] + cont_features].drop_duplicates()\n",
    "\n",
    "# look into a binary indicator for weight\n",
    "df_cont['ani_age'] = df_cont['ani_age'].fillna((df_cont['ani_age'].mean()))\n",
    "df_cont['weight'] = df_cont['weight'].replace(0, np.nan)\n",
    "df_cont['weight'] = df_cont.groupby(['ani_age', 'breed_group'])['weight'].transform(\n",
    "lambda x: x.fillna(x.mean()))\n",
    "df_cont['weight'] = df_cont.groupby(['breed_group'])['weight'].transform(lambda x: x.fillna(x.mean()))\n",
    "\n",
    "df_cont = df_cont.groupby(['uid', 'ani_age', 'weight', 'first_visit_spend', 'total_future_spend'],\n",
    "                        as_index=False).agg(\n",
    "is_medical_max=('is_medical', 'max'),\n",
    "is_medical_count=('is_medical', 'count'),\n",
    "wellness_plan_max=('wellness_plan', 'max'),\n",
    "wellness_plan_count=('wellness_plan', 'count')\n",
    ")\n",
    "\n",
    "df_final = df_cont.merge(df_categories, on='uid')\n",
    "df_final['total_future_spend'] = df_final.total_future_spend.apply(lambda x: 5000 if x > 5000 else x)\n",
    "df_final['total_future_spend'] = df_final['total_future_spend'].apply(lambda x: 0 if x < 0 else x)\n",
    "# self.df_final = self.df_final[((self.df_final.ani_age.notnull()) & (self.df_final.weight.notnull()))]\n",
    "# self.df_final['weight'] = self.df_final['weight'].fillna((self.df_final['weight'].mean()))\n",
    "# self.df_final['weight'] = self.df_final['weight'].apply(lambda x: self.df_final['weight'].mean() if x == 0 else x)\n",
    "\n",
    "# Get dummies on tier and breed group\n",
    "bins = [0, 1, 200, 350, 500, 1000, 99999]\n",
    "labels = [0, 1, 2, 3, 4, 5]\n",
    "df_final['total_future_spend_bin'] = pd.cut(df_final['total_future_spend'], bins=bins, include_lowest=True,\n",
    "                                labels=labels)\n",
    "print(f\"Value Counts for labels: {df_final['total_future_spend_bin'].value_counts()}\")"
   ],
   "outputs": [
    {
     "output_type": "error",
     "ename": "ValueError",
     "evalue": "Bin labels must be one fewer than the number of bin edges",
     "traceback": [
      "\u001B[0;31m---------------------------------------------------------------------------\u001B[0m",
      "\u001B[0;31mValueError\u001B[0m                                Traceback (most recent call last)",
      "\u001B[0;32m<ipython-input-23-02f1bf006ba1>\u001B[0m in \u001B[0;36m<module>\u001B[0;34m\u001B[0m\n\u001B[1;32m     29\u001B[0m \u001B[0mlabels\u001B[0m \u001B[0;34m=\u001B[0m \u001B[0;34m[\u001B[0m\u001B[0;36m0\u001B[0m\u001B[0;34m,\u001B[0m \u001B[0;36m1\u001B[0m\u001B[0;34m,\u001B[0m \u001B[0;36m2\u001B[0m\u001B[0;34m,\u001B[0m \u001B[0;36m3\u001B[0m\u001B[0;34m,\u001B[0m \u001B[0;36m4\u001B[0m\u001B[0;34m,\u001B[0m \u001B[0;36m5\u001B[0m\u001B[0;34m,\u001B[0m\u001B[0;36m6\u001B[0m\u001B[0;34m]\u001B[0m\u001B[0;34m\u001B[0m\u001B[0;34m\u001B[0m\u001B[0m\n\u001B[1;32m     30\u001B[0m df_final['total_future_spend_bin'] = pd.cut(df_final['total_future_spend'], bins=bins, include_lowest=True,\n\u001B[0;32m---> 31\u001B[0;31m                                 labels=labels)\n\u001B[0m\u001B[1;32m     32\u001B[0m \u001B[0mprint\u001B[0m\u001B[0;34m(\u001B[0m\u001B[0;34mf\"Value Counts for labels: {df_final['total_future_spend_bin'].value_counts()}\"\u001B[0m\u001B[0;34m)\u001B[0m\u001B[0;34m\u001B[0m\u001B[0;34m\u001B[0m\u001B[0m\n",
      "\u001B[0;32m/opt/anaconda3/envs/cbc-ds/lib/python3.7/site-packages/pandas/core/reshape/tile.py\u001B[0m in \u001B[0;36mcut\u001B[0;34m(x, bins, right, labels, retbins, precision, include_lowest, duplicates, ordered)\u001B[0m\n\u001B[1;32m    294\u001B[0m         \u001B[0mdtype\u001B[0m\u001B[0;34m=\u001B[0m\u001B[0mdtype\u001B[0m\u001B[0;34m,\u001B[0m\u001B[0;34m\u001B[0m\u001B[0;34m\u001B[0m\u001B[0m\n\u001B[1;32m    295\u001B[0m         \u001B[0mduplicates\u001B[0m\u001B[0;34m=\u001B[0m\u001B[0mduplicates\u001B[0m\u001B[0;34m,\u001B[0m\u001B[0;34m\u001B[0m\u001B[0;34m\u001B[0m\u001B[0m\n\u001B[0;32m--> 296\u001B[0;31m         \u001B[0mordered\u001B[0m\u001B[0;34m=\u001B[0m\u001B[0mordered\u001B[0m\u001B[0;34m,\u001B[0m\u001B[0;34m\u001B[0m\u001B[0;34m\u001B[0m\u001B[0m\n\u001B[0m\u001B[1;32m    297\u001B[0m     )\n\u001B[1;32m    298\u001B[0m \u001B[0;34m\u001B[0m\u001B[0m\n",
      "\u001B[0;32m/opt/anaconda3/envs/cbc-ds/lib/python3.7/site-packages/pandas/core/reshape/tile.py\u001B[0m in \u001B[0;36m_bins_to_cuts\u001B[0;34m(x, bins, right, labels, precision, include_lowest, dtype, duplicates, ordered)\u001B[0m\n\u001B[1;32m    445\u001B[0m             \u001B[0;32mif\u001B[0m \u001B[0mlen\u001B[0m\u001B[0;34m(\u001B[0m\u001B[0mlabels\u001B[0m\u001B[0;34m)\u001B[0m \u001B[0;34m!=\u001B[0m \u001B[0mlen\u001B[0m\u001B[0;34m(\u001B[0m\u001B[0mbins\u001B[0m\u001B[0;34m)\u001B[0m \u001B[0;34m-\u001B[0m \u001B[0;36m1\u001B[0m\u001B[0;34m:\u001B[0m\u001B[0;34m\u001B[0m\u001B[0;34m\u001B[0m\u001B[0m\n\u001B[1;32m    446\u001B[0m                 raise ValueError(\n\u001B[0;32m--> 447\u001B[0;31m                     \u001B[0;34m\"Bin labels must be one fewer than the number of bin edges\"\u001B[0m\u001B[0;34m\u001B[0m\u001B[0;34m\u001B[0m\u001B[0m\n\u001B[0m\u001B[1;32m    448\u001B[0m                 )\n\u001B[1;32m    449\u001B[0m         \u001B[0;32mif\u001B[0m \u001B[0;32mnot\u001B[0m \u001B[0mis_categorical_dtype\u001B[0m\u001B[0;34m(\u001B[0m\u001B[0mlabels\u001B[0m\u001B[0;34m)\u001B[0m\u001B[0;34m:\u001B[0m\u001B[0;34m\u001B[0m\u001B[0;34m\u001B[0m\u001B[0m\n",
      "\u001B[0;31mValueError\u001B[0m: Bin labels must be one fewer than the number of bin edges"
     ]
    }
   ],
   "metadata": {}
  },
  {
   "cell_type": "markdown",
   "source": [
    "### How are we seeing spend with cancellation"
   ],
   "metadata": {}
  },
  {
   "cell_type": "code",
   "execution_count": 17,
   "source": [
    "final_columns = list(df_final.columns)\n",
    "for i in ['uid', 'total_future_spend', 'total_future_spend_bin']:\n",
    "    final_columns.remove(i)\n",
    "\n",
    "X = df_final[final_columns]\n",
    "y = df_final['total_future_spend_bin'].apply(lambda x: int(x))\n",
    "X_train, X_test, y_train, y_test = train_test_split(X,\n",
    "                                                    y,\n",
    "                                                    test_size=.2,\n",
    "                                                    random_state=42)"
   ],
   "outputs": [],
   "metadata": {}
  },
  {
   "cell_type": "code",
   "execution_count": null,
   "source": [],
   "outputs": [],
   "metadata": {}
  },
  {
   "cell_type": "code",
   "execution_count": 18,
   "source": [
    "import xgboost as xgb"
   ],
   "outputs": [],
   "metadata": {}
  },
  {
   "cell_type": "code",
   "execution_count": 19,
   "source": [
    "X_train"
   ],
   "outputs": [
    {
     "output_type": "execute_result",
     "data": {
      "text/plain": [
       "      ani_age      weight  first_visit_spend  is_medical_max  \\\n",
       "266       6.0  103.000000              30.00               0   \n",
       "1133      3.0   10.150000              57.05               1   \n",
       "1480     13.0   19.570588             272.00               0   \n",
       "1839      4.0   55.000000             112.00               0   \n",
       "67        2.0    7.000000              25.00               0   \n",
       "...       ...         ...                ...             ...   \n",
       "1638      2.0   20.000000             245.88               1   \n",
       "1095     11.0   25.000000              65.00               0   \n",
       "1130      4.0   26.000000              50.00               0   \n",
       "1294      7.0   75.000000             135.00               0   \n",
       "860       7.0   48.847619              60.00               0   \n",
       "\n",
       "      is_medical_count  wellness_plan_max  wellness_plan_count  cat  \\\n",
       "266                  1                  0                    1    0   \n",
       "1133                 2                  0                    2    0   \n",
       "1480                 1                  0                    1    0   \n",
       "1839                 1                  0                    1    0   \n",
       "67                   1                  0                    1    0   \n",
       "...                ...                ...                  ...  ...   \n",
       "1638                 2                  0                    2    0   \n",
       "1095                 1                  0                    1    0   \n",
       "1130                 1                  0                    1    0   \n",
       "1294                 1                  0                    1    1   \n",
       "860                  1                  0                    1    0   \n",
       "\n",
       "      companion  herding  ...  sporting  terrier  toy  working  None  \\\n",
       "266           0        0  ...         0        0    0        0     0   \n",
       "1133          0        0  ...         0        0    0        0     0   \n",
       "1480          0        0  ...         0        0    1        0     0   \n",
       "1839          0        1  ...         0        0    0        0     0   \n",
       "67            0        0  ...         0        0    1        0     0   \n",
       "...         ...      ...  ...       ...      ...  ...      ...   ...   \n",
       "1638          0        0  ...         1        0    0        0     0   \n",
       "1095          0        0  ...         0        0    1        0     0   \n",
       "1130          1        0  ...         0        0    0        0     0   \n",
       "1294          0        0  ...         0        0    0        0     0   \n",
       "860           0        0  ...         0        0    0        0     0   \n",
       "\n",
       "      fancy_cat  regular_cat  tier_1  tier_2  tier_3  \n",
       "266           0            0       0       1       0  \n",
       "1133          0            0       0       1       0  \n",
       "1480          0            0       0       1       0  \n",
       "1839          0            0       1       0       0  \n",
       "67            0            0       1       0       0  \n",
       "...         ...          ...     ...     ...     ...  \n",
       "1638          0            0       0       1       0  \n",
       "1095          0            0       1       0       0  \n",
       "1130          0            0       0       1       0  \n",
       "1294          0            0       0       1       0  \n",
       "860           0            0       0       1       0  \n",
       "\n",
       "[1648 rows x 24 columns]"
      ],
      "text/html": [
       "<div>\n",
       "<style scoped>\n",
       "    .dataframe tbody tr th:only-of-type {\n",
       "        vertical-align: middle;\n",
       "    }\n",
       "\n",
       "    .dataframe tbody tr th {\n",
       "        vertical-align: top;\n",
       "    }\n",
       "\n",
       "    .dataframe thead th {\n",
       "        text-align: right;\n",
       "    }\n",
       "</style>\n",
       "<table border=\"1\" class=\"dataframe\">\n",
       "  <thead>\n",
       "    <tr style=\"text-align: right;\">\n",
       "      <th></th>\n",
       "      <th>ani_age</th>\n",
       "      <th>weight</th>\n",
       "      <th>first_visit_spend</th>\n",
       "      <th>is_medical_max</th>\n",
       "      <th>is_medical_count</th>\n",
       "      <th>wellness_plan_max</th>\n",
       "      <th>wellness_plan_count</th>\n",
       "      <th>cat</th>\n",
       "      <th>companion</th>\n",
       "      <th>herding</th>\n",
       "      <th>...</th>\n",
       "      <th>sporting</th>\n",
       "      <th>terrier</th>\n",
       "      <th>toy</th>\n",
       "      <th>working</th>\n",
       "      <th>None</th>\n",
       "      <th>fancy_cat</th>\n",
       "      <th>regular_cat</th>\n",
       "      <th>tier_1</th>\n",
       "      <th>tier_2</th>\n",
       "      <th>tier_3</th>\n",
       "    </tr>\n",
       "  </thead>\n",
       "  <tbody>\n",
       "    <tr>\n",
       "      <th>266</th>\n",
       "      <td>6.0</td>\n",
       "      <td>103.000000</td>\n",
       "      <td>30.00</td>\n",
       "      <td>0</td>\n",
       "      <td>1</td>\n",
       "      <td>0</td>\n",
       "      <td>1</td>\n",
       "      <td>0</td>\n",
       "      <td>0</td>\n",
       "      <td>0</td>\n",
       "      <td>...</td>\n",
       "      <td>0</td>\n",
       "      <td>0</td>\n",
       "      <td>0</td>\n",
       "      <td>0</td>\n",
       "      <td>0</td>\n",
       "      <td>0</td>\n",
       "      <td>0</td>\n",
       "      <td>0</td>\n",
       "      <td>1</td>\n",
       "      <td>0</td>\n",
       "    </tr>\n",
       "    <tr>\n",
       "      <th>1133</th>\n",
       "      <td>3.0</td>\n",
       "      <td>10.150000</td>\n",
       "      <td>57.05</td>\n",
       "      <td>1</td>\n",
       "      <td>2</td>\n",
       "      <td>0</td>\n",
       "      <td>2</td>\n",
       "      <td>0</td>\n",
       "      <td>0</td>\n",
       "      <td>0</td>\n",
       "      <td>...</td>\n",
       "      <td>0</td>\n",
       "      <td>0</td>\n",
       "      <td>0</td>\n",
       "      <td>0</td>\n",
       "      <td>0</td>\n",
       "      <td>0</td>\n",
       "      <td>0</td>\n",
       "      <td>0</td>\n",
       "      <td>1</td>\n",
       "      <td>0</td>\n",
       "    </tr>\n",
       "    <tr>\n",
       "      <th>1480</th>\n",
       "      <td>13.0</td>\n",
       "      <td>19.570588</td>\n",
       "      <td>272.00</td>\n",
       "      <td>0</td>\n",
       "      <td>1</td>\n",
       "      <td>0</td>\n",
       "      <td>1</td>\n",
       "      <td>0</td>\n",
       "      <td>0</td>\n",
       "      <td>0</td>\n",
       "      <td>...</td>\n",
       "      <td>0</td>\n",
       "      <td>0</td>\n",
       "      <td>1</td>\n",
       "      <td>0</td>\n",
       "      <td>0</td>\n",
       "      <td>0</td>\n",
       "      <td>0</td>\n",
       "      <td>0</td>\n",
       "      <td>1</td>\n",
       "      <td>0</td>\n",
       "    </tr>\n",
       "    <tr>\n",
       "      <th>1839</th>\n",
       "      <td>4.0</td>\n",
       "      <td>55.000000</td>\n",
       "      <td>112.00</td>\n",
       "      <td>0</td>\n",
       "      <td>1</td>\n",
       "      <td>0</td>\n",
       "      <td>1</td>\n",
       "      <td>0</td>\n",
       "      <td>0</td>\n",
       "      <td>1</td>\n",
       "      <td>...</td>\n",
       "      <td>0</td>\n",
       "      <td>0</td>\n",
       "      <td>0</td>\n",
       "      <td>0</td>\n",
       "      <td>0</td>\n",
       "      <td>0</td>\n",
       "      <td>0</td>\n",
       "      <td>1</td>\n",
       "      <td>0</td>\n",
       "      <td>0</td>\n",
       "    </tr>\n",
       "    <tr>\n",
       "      <th>67</th>\n",
       "      <td>2.0</td>\n",
       "      <td>7.000000</td>\n",
       "      <td>25.00</td>\n",
       "      <td>0</td>\n",
       "      <td>1</td>\n",
       "      <td>0</td>\n",
       "      <td>1</td>\n",
       "      <td>0</td>\n",
       "      <td>0</td>\n",
       "      <td>0</td>\n",
       "      <td>...</td>\n",
       "      <td>0</td>\n",
       "      <td>0</td>\n",
       "      <td>1</td>\n",
       "      <td>0</td>\n",
       "      <td>0</td>\n",
       "      <td>0</td>\n",
       "      <td>0</td>\n",
       "      <td>1</td>\n",
       "      <td>0</td>\n",
       "      <td>0</td>\n",
       "    </tr>\n",
       "    <tr>\n",
       "      <th>...</th>\n",
       "      <td>...</td>\n",
       "      <td>...</td>\n",
       "      <td>...</td>\n",
       "      <td>...</td>\n",
       "      <td>...</td>\n",
       "      <td>...</td>\n",
       "      <td>...</td>\n",
       "      <td>...</td>\n",
       "      <td>...</td>\n",
       "      <td>...</td>\n",
       "      <td>...</td>\n",
       "      <td>...</td>\n",
       "      <td>...</td>\n",
       "      <td>...</td>\n",
       "      <td>...</td>\n",
       "      <td>...</td>\n",
       "      <td>...</td>\n",
       "      <td>...</td>\n",
       "      <td>...</td>\n",
       "      <td>...</td>\n",
       "      <td>...</td>\n",
       "    </tr>\n",
       "    <tr>\n",
       "      <th>1638</th>\n",
       "      <td>2.0</td>\n",
       "      <td>20.000000</td>\n",
       "      <td>245.88</td>\n",
       "      <td>1</td>\n",
       "      <td>2</td>\n",
       "      <td>0</td>\n",
       "      <td>2</td>\n",
       "      <td>0</td>\n",
       "      <td>0</td>\n",
       "      <td>0</td>\n",
       "      <td>...</td>\n",
       "      <td>1</td>\n",
       "      <td>0</td>\n",
       "      <td>0</td>\n",
       "      <td>0</td>\n",
       "      <td>0</td>\n",
       "      <td>0</td>\n",
       "      <td>0</td>\n",
       "      <td>0</td>\n",
       "      <td>1</td>\n",
       "      <td>0</td>\n",
       "    </tr>\n",
       "    <tr>\n",
       "      <th>1095</th>\n",
       "      <td>11.0</td>\n",
       "      <td>25.000000</td>\n",
       "      <td>65.00</td>\n",
       "      <td>0</td>\n",
       "      <td>1</td>\n",
       "      <td>0</td>\n",
       "      <td>1</td>\n",
       "      <td>0</td>\n",
       "      <td>0</td>\n",
       "      <td>0</td>\n",
       "      <td>...</td>\n",
       "      <td>0</td>\n",
       "      <td>0</td>\n",
       "      <td>1</td>\n",
       "      <td>0</td>\n",
       "      <td>0</td>\n",
       "      <td>0</td>\n",
       "      <td>0</td>\n",
       "      <td>1</td>\n",
       "      <td>0</td>\n",
       "      <td>0</td>\n",
       "    </tr>\n",
       "    <tr>\n",
       "      <th>1130</th>\n",
       "      <td>4.0</td>\n",
       "      <td>26.000000</td>\n",
       "      <td>50.00</td>\n",
       "      <td>0</td>\n",
       "      <td>1</td>\n",
       "      <td>0</td>\n",
       "      <td>1</td>\n",
       "      <td>0</td>\n",
       "      <td>1</td>\n",
       "      <td>0</td>\n",
       "      <td>...</td>\n",
       "      <td>0</td>\n",
       "      <td>0</td>\n",
       "      <td>0</td>\n",
       "      <td>0</td>\n",
       "      <td>0</td>\n",
       "      <td>0</td>\n",
       "      <td>0</td>\n",
       "      <td>0</td>\n",
       "      <td>1</td>\n",
       "      <td>0</td>\n",
       "    </tr>\n",
       "    <tr>\n",
       "      <th>1294</th>\n",
       "      <td>7.0</td>\n",
       "      <td>75.000000</td>\n",
       "      <td>135.00</td>\n",
       "      <td>0</td>\n",
       "      <td>1</td>\n",
       "      <td>0</td>\n",
       "      <td>1</td>\n",
       "      <td>1</td>\n",
       "      <td>0</td>\n",
       "      <td>0</td>\n",
       "      <td>...</td>\n",
       "      <td>0</td>\n",
       "      <td>0</td>\n",
       "      <td>0</td>\n",
       "      <td>0</td>\n",
       "      <td>0</td>\n",
       "      <td>0</td>\n",
       "      <td>0</td>\n",
       "      <td>0</td>\n",
       "      <td>1</td>\n",
       "      <td>0</td>\n",
       "    </tr>\n",
       "    <tr>\n",
       "      <th>860</th>\n",
       "      <td>7.0</td>\n",
       "      <td>48.847619</td>\n",
       "      <td>60.00</td>\n",
       "      <td>0</td>\n",
       "      <td>1</td>\n",
       "      <td>0</td>\n",
       "      <td>1</td>\n",
       "      <td>0</td>\n",
       "      <td>0</td>\n",
       "      <td>0</td>\n",
       "      <td>...</td>\n",
       "      <td>0</td>\n",
       "      <td>0</td>\n",
       "      <td>0</td>\n",
       "      <td>0</td>\n",
       "      <td>0</td>\n",
       "      <td>0</td>\n",
       "      <td>0</td>\n",
       "      <td>0</td>\n",
       "      <td>1</td>\n",
       "      <td>0</td>\n",
       "    </tr>\n",
       "  </tbody>\n",
       "</table>\n",
       "<p>1648 rows × 24 columns</p>\n",
       "</div>"
      ]
     },
     "metadata": {},
     "execution_count": 19
    }
   ],
   "metadata": {}
  },
  {
   "cell_type": "code",
   "execution_count": 20,
   "source": [
    "import xgboost as xgb\n",
    "dtrain = xgb.DMatrix(X_train, label=y_train, missing=-999.0)\n",
    "dtest = xgb.DMatrix(X_test, label=y_test, missing=-999.0)\n",
    "evallist = [(dtest, 'eval'), (dtrain, 'train')]\n",
    "param = {'max_depth': 5, 'objective': 'binary:logistic'}\n",
    "param['nthread'] = 4\n",
    "param['eval_metric'] = ['auc']\n",
    "num_round = 10\n",
    "bst = xgb.train(param, dtrain, num_round, evallist)\n"
   ],
   "outputs": [
    {
     "output_type": "error",
     "ename": "XGBoostError",
     "evalue": "[15:29:44] ../src/objective/regression_obj.cu:103: label must be in [0,1] for logistic regression\nStack trace:\n  [bt] (0) 1   libxgboost.dylib                    0x0000000187ec0074 dmlc::LogMessageFatal::~LogMessageFatal() + 116\n  [bt] (1) 2   libxgboost.dylib                    0x0000000187fc9649 xgboost::obj::RegLossObj<xgboost::obj::LogisticClassification>::GetGradient(xgboost::HostDeviceVector<float> const&, xgboost::MetaInfo const&, int, xgboost::HostDeviceVector<xgboost::detail::GradientPairInternal<float> >*) + 1465\n  [bt] (2) 3   libxgboost.dylib                    0x0000000187f6fff4 xgboost::LearnerImpl::UpdateOneIter(int, std::__1::shared_ptr<xgboost::DMatrix>) + 612\n  [bt] (3) 4   libxgboost.dylib                    0x0000000187ec4627 XGBoosterUpdateOneIter + 151\n  [bt] (4) 5   libffi.7.dylib                      0x000000010d595e9d ffi_call_unix64 + 85\n  [bt] (5) 6   ???                                 0x00007ffee321d2a0 0x0 + 140732709065376\n\n",
     "traceback": [
      "\u001B[0;31m---------------------------------------------------------------------------\u001B[0m",
      "\u001B[0;31mXGBoostError\u001B[0m                              Traceback (most recent call last)",
      "\u001B[0;32m<ipython-input-20-58729a0ce216>\u001B[0m in \u001B[0;36m<module>\u001B[0;34m\u001B[0m\n\u001B[1;32m      7\u001B[0m \u001B[0mparam\u001B[0m\u001B[0;34m[\u001B[0m\u001B[0;34m'eval_metric'\u001B[0m\u001B[0;34m]\u001B[0m \u001B[0;34m=\u001B[0m \u001B[0;34m[\u001B[0m\u001B[0;34m'auc'\u001B[0m\u001B[0;34m]\u001B[0m\u001B[0;34m\u001B[0m\u001B[0;34m\u001B[0m\u001B[0m\n\u001B[1;32m      8\u001B[0m \u001B[0mnum_round\u001B[0m \u001B[0;34m=\u001B[0m \u001B[0;36m10\u001B[0m\u001B[0;34m\u001B[0m\u001B[0;34m\u001B[0m\u001B[0m\n\u001B[0;32m----> 9\u001B[0;31m \u001B[0mbst\u001B[0m \u001B[0;34m=\u001B[0m \u001B[0mxgb\u001B[0m\u001B[0;34m.\u001B[0m\u001B[0mtrain\u001B[0m\u001B[0;34m(\u001B[0m\u001B[0mparam\u001B[0m\u001B[0;34m,\u001B[0m \u001B[0mdtrain\u001B[0m\u001B[0;34m,\u001B[0m \u001B[0mnum_round\u001B[0m\u001B[0;34m,\u001B[0m \u001B[0mevallist\u001B[0m\u001B[0;34m)\u001B[0m\u001B[0;34m\u001B[0m\u001B[0;34m\u001B[0m\u001B[0m\n\u001B[0m",
      "\u001B[0;32m/opt/anaconda3/envs/cbc-ds/lib/python3.7/site-packages/xgboost/training.py\u001B[0m in \u001B[0;36mtrain\u001B[0;34m(params, dtrain, num_boost_round, evals, obj, feval, maximize, early_stopping_rounds, evals_result, verbose_eval, xgb_model, callbacks)\u001B[0m\n\u001B[1;32m    195\u001B[0m                           \u001B[0mevals_result\u001B[0m\u001B[0;34m=\u001B[0m\u001B[0mevals_result\u001B[0m\u001B[0;34m,\u001B[0m\u001B[0;34m\u001B[0m\u001B[0;34m\u001B[0m\u001B[0m\n\u001B[1;32m    196\u001B[0m                           \u001B[0mmaximize\u001B[0m\u001B[0;34m=\u001B[0m\u001B[0mmaximize\u001B[0m\u001B[0;34m,\u001B[0m\u001B[0;34m\u001B[0m\u001B[0;34m\u001B[0m\u001B[0m\n\u001B[0;32m--> 197\u001B[0;31m                           early_stopping_rounds=early_stopping_rounds)\n\u001B[0m\u001B[1;32m    198\u001B[0m     \u001B[0;32mreturn\u001B[0m \u001B[0mbst\u001B[0m\u001B[0;34m\u001B[0m\u001B[0;34m\u001B[0m\u001B[0m\n\u001B[1;32m    199\u001B[0m \u001B[0;34m\u001B[0m\u001B[0m\n",
      "\u001B[0;32m/opt/anaconda3/envs/cbc-ds/lib/python3.7/site-packages/xgboost/training.py\u001B[0m in \u001B[0;36m_train_internal\u001B[0;34m(params, dtrain, num_boost_round, evals, obj, feval, xgb_model, callbacks, evals_result, maximize, verbose_eval, early_stopping_rounds)\u001B[0m\n\u001B[1;32m     79\u001B[0m         \u001B[0;32mif\u001B[0m \u001B[0mcallbacks\u001B[0m\u001B[0;34m.\u001B[0m\u001B[0mbefore_iteration\u001B[0m\u001B[0;34m(\u001B[0m\u001B[0mbst\u001B[0m\u001B[0;34m,\u001B[0m \u001B[0mi\u001B[0m\u001B[0;34m,\u001B[0m \u001B[0mdtrain\u001B[0m\u001B[0;34m,\u001B[0m \u001B[0mevals\u001B[0m\u001B[0;34m)\u001B[0m\u001B[0;34m:\u001B[0m\u001B[0;34m\u001B[0m\u001B[0;34m\u001B[0m\u001B[0m\n\u001B[1;32m     80\u001B[0m             \u001B[0;32mbreak\u001B[0m\u001B[0;34m\u001B[0m\u001B[0;34m\u001B[0m\u001B[0m\n\u001B[0;32m---> 81\u001B[0;31m         \u001B[0mbst\u001B[0m\u001B[0;34m.\u001B[0m\u001B[0mupdate\u001B[0m\u001B[0;34m(\u001B[0m\u001B[0mdtrain\u001B[0m\u001B[0;34m,\u001B[0m \u001B[0mi\u001B[0m\u001B[0;34m,\u001B[0m \u001B[0mobj\u001B[0m\u001B[0;34m)\u001B[0m\u001B[0;34m\u001B[0m\u001B[0;34m\u001B[0m\u001B[0m\n\u001B[0m\u001B[1;32m     82\u001B[0m         \u001B[0;32mif\u001B[0m \u001B[0mcallbacks\u001B[0m\u001B[0;34m.\u001B[0m\u001B[0mafter_iteration\u001B[0m\u001B[0;34m(\u001B[0m\u001B[0mbst\u001B[0m\u001B[0;34m,\u001B[0m \u001B[0mi\u001B[0m\u001B[0;34m,\u001B[0m \u001B[0mdtrain\u001B[0m\u001B[0;34m,\u001B[0m \u001B[0mevals\u001B[0m\u001B[0;34m)\u001B[0m\u001B[0;34m:\u001B[0m\u001B[0;34m\u001B[0m\u001B[0;34m\u001B[0m\u001B[0m\n\u001B[1;32m     83\u001B[0m             \u001B[0;32mbreak\u001B[0m\u001B[0;34m\u001B[0m\u001B[0;34m\u001B[0m\u001B[0m\n",
      "\u001B[0;32m/opt/anaconda3/envs/cbc-ds/lib/python3.7/site-packages/xgboost/core.py\u001B[0m in \u001B[0;36mupdate\u001B[0;34m(self, dtrain, iteration, fobj)\u001B[0m\n\u001B[1;32m   1496\u001B[0m             _check_call(_LIB.XGBoosterUpdateOneIter(self.handle,\n\u001B[1;32m   1497\u001B[0m                                                     \u001B[0mctypes\u001B[0m\u001B[0;34m.\u001B[0m\u001B[0mc_int\u001B[0m\u001B[0;34m(\u001B[0m\u001B[0miteration\u001B[0m\u001B[0;34m)\u001B[0m\u001B[0;34m,\u001B[0m\u001B[0;34m\u001B[0m\u001B[0;34m\u001B[0m\u001B[0m\n\u001B[0;32m-> 1498\u001B[0;31m                                                     dtrain.handle))\n\u001B[0m\u001B[1;32m   1499\u001B[0m         \u001B[0;32melse\u001B[0m\u001B[0;34m:\u001B[0m\u001B[0;34m\u001B[0m\u001B[0;34m\u001B[0m\u001B[0m\n\u001B[1;32m   1500\u001B[0m             \u001B[0mpred\u001B[0m \u001B[0;34m=\u001B[0m \u001B[0mself\u001B[0m\u001B[0;34m.\u001B[0m\u001B[0mpredict\u001B[0m\u001B[0;34m(\u001B[0m\u001B[0mdtrain\u001B[0m\u001B[0;34m,\u001B[0m \u001B[0moutput_margin\u001B[0m\u001B[0;34m=\u001B[0m\u001B[0;32mTrue\u001B[0m\u001B[0;34m,\u001B[0m \u001B[0mtraining\u001B[0m\u001B[0;34m=\u001B[0m\u001B[0;32mTrue\u001B[0m\u001B[0;34m)\u001B[0m\u001B[0;34m\u001B[0m\u001B[0;34m\u001B[0m\u001B[0m\n",
      "\u001B[0;32m/opt/anaconda3/envs/cbc-ds/lib/python3.7/site-packages/xgboost/core.py\u001B[0m in \u001B[0;36m_check_call\u001B[0;34m(ret)\u001B[0m\n\u001B[1;32m    208\u001B[0m     \"\"\"\n\u001B[1;32m    209\u001B[0m     \u001B[0;32mif\u001B[0m \u001B[0mret\u001B[0m \u001B[0;34m!=\u001B[0m \u001B[0;36m0\u001B[0m\u001B[0;34m:\u001B[0m\u001B[0;34m\u001B[0m\u001B[0;34m\u001B[0m\u001B[0m\n\u001B[0;32m--> 210\u001B[0;31m         \u001B[0;32mraise\u001B[0m \u001B[0mXGBoostError\u001B[0m\u001B[0;34m(\u001B[0m\u001B[0mpy_str\u001B[0m\u001B[0;34m(\u001B[0m\u001B[0m_LIB\u001B[0m\u001B[0;34m.\u001B[0m\u001B[0mXGBGetLastError\u001B[0m\u001B[0;34m(\u001B[0m\u001B[0;34m)\u001B[0m\u001B[0;34m)\u001B[0m\u001B[0;34m)\u001B[0m\u001B[0;34m\u001B[0m\u001B[0;34m\u001B[0m\u001B[0m\n\u001B[0m\u001B[1;32m    211\u001B[0m \u001B[0;34m\u001B[0m\u001B[0m\n\u001B[1;32m    212\u001B[0m \u001B[0;34m\u001B[0m\u001B[0m\n",
      "\u001B[0;31mXGBoostError\u001B[0m: [15:29:44] ../src/objective/regression_obj.cu:103: label must be in [0,1] for logistic regression\nStack trace:\n  [bt] (0) 1   libxgboost.dylib                    0x0000000187ec0074 dmlc::LogMessageFatal::~LogMessageFatal() + 116\n  [bt] (1) 2   libxgboost.dylib                    0x0000000187fc9649 xgboost::obj::RegLossObj<xgboost::obj::LogisticClassification>::GetGradient(xgboost::HostDeviceVector<float> const&, xgboost::MetaInfo const&, int, xgboost::HostDeviceVector<xgboost::detail::GradientPairInternal<float> >*) + 1465\n  [bt] (2) 3   libxgboost.dylib                    0x0000000187f6fff4 xgboost::LearnerImpl::UpdateOneIter(int, std::__1::shared_ptr<xgboost::DMatrix>) + 612\n  [bt] (3) 4   libxgboost.dylib                    0x0000000187ec4627 XGBoosterUpdateOneIter + 151\n  [bt] (4) 5   libffi.7.dylib                      0x000000010d595e9d ffi_call_unix64 + 85\n  [bt] (5) 6   ???                                 0x00007ffee321d2a0 0x0 + 140732709065376\n\n"
     ]
    }
   ],
   "metadata": {}
  },
  {
   "cell_type": "code",
   "execution_count": null,
   "source": [
    "xgb.plot_importance(bst)\n"
   ],
   "outputs": [
    {
     "output_type": "execute_result",
     "data": {
      "text/plain": [
       "<AxesSubplot:title={'center':'Feature importance'}, xlabel='F score', ylabel='Features'>"
      ]
     },
     "metadata": {},
     "execution_count": 12
    },
    {
     "output_type": "display_data",
     "data": {
      "text/plain": [
       "<Figure size 432x288 with 1 Axes>"
      ],
      "image/svg+xml": "<?xml version=\"1.0\" encoding=\"utf-8\" standalone=\"no\"?>\n<!DOCTYPE svg PUBLIC \"-//W3C//DTD SVG 1.1//EN\"\n  \"http://www.w3.org/Graphics/SVG/1.1/DTD/svg11.dtd\">\n<svg height=\"277.314375pt\" version=\"1.1\" viewBox=\"0 0 466.054687 277.314375\" width=\"466.054687pt\" xmlns=\"http://www.w3.org/2000/svg\" xmlns:xlink=\"http://www.w3.org/1999/xlink\">\n <metadata>\n  <rdf:RDF xmlns:cc=\"http://creativecommons.org/ns#\" xmlns:dc=\"http://purl.org/dc/elements/1.1/\" xmlns:rdf=\"http://www.w3.org/1999/02/22-rdf-syntax-ns#\">\n   <cc:Work>\n    <dc:type rdf:resource=\"http://purl.org/dc/dcmitype/StillImage\"/>\n    <dc:date>2021-08-19T15:28:47.685541</dc:date>\n    <dc:format>image/svg+xml</dc:format>\n    <dc:creator>\n     <cc:Agent>\n      <dc:title>Matplotlib v3.4.2, https://matplotlib.org/</dc:title>\n     </cc:Agent>\n    </dc:creator>\n   </cc:Work>\n  </rdf:RDF>\n </metadata>\n <defs>\n  <style type=\"text/css\">*{stroke-linecap:butt;stroke-linejoin:round;}</style>\n </defs>\n <g id=\"figure_1\">\n  <g id=\"patch_1\">\n   <path d=\"M 0 277.314375 \nL 466.054687 277.314375 \nL 466.054687 0 \nL 0 0 \nz\n\" style=\"fill:none;\"/>\n  </g>\n  <g id=\"axes_1\">\n   <g id=\"patch_2\">\n    <path d=\"M 124.054688 239.758125 \nL 458.854688 239.758125 \nL 458.854688 22.318125 \nL 124.054688 22.318125 \nz\n\" style=\"fill:#ffffff;\"/>\n   </g>\n   <g id=\"patch_3\">\n    <path clip-path=\"url(#p299c17f24e)\" d=\"M 124.054688 226.711725 \nL 130.395597 226.711725 \nL 130.395597 223.812525 \nL 124.054688 223.812525 \nz\n\" style=\"fill:#1f77b4;\"/>\n   </g>\n   <g id=\"patch_4\">\n    <path clip-path=\"url(#p299c17f24e)\" d=\"M 124.054688 212.215725 \nL 130.395597 212.215725 \nL 130.395597 209.316525 \nL 124.054688 209.316525 \nz\n\" style=\"fill:#1f77b4;\"/>\n   </g>\n   <g id=\"patch_5\">\n    <path clip-path=\"url(#p299c17f24e)\" d=\"M 124.054688 197.719725 \nL 130.395597 197.719725 \nL 130.395597 194.820525 \nL 124.054688 194.820525 \nz\n\" style=\"fill:#1f77b4;\"/>\n   </g>\n   <g id=\"patch_6\">\n    <path clip-path=\"url(#p299c17f24e)\" d=\"M 124.054688 183.223725 \nL 136.736506 183.223725 \nL 136.736506 180.324525 \nL 124.054688 180.324525 \nz\n\" style=\"fill:#1f77b4;\"/>\n   </g>\n   <g id=\"patch_7\">\n    <path clip-path=\"url(#p299c17f24e)\" d=\"M 124.054688 168.727725 \nL 136.736506 168.727725 \nL 136.736506 165.828525 \nL 124.054688 165.828525 \nz\n\" style=\"fill:#1f77b4;\"/>\n   </g>\n   <g id=\"patch_8\">\n    <path clip-path=\"url(#p299c17f24e)\" d=\"M 124.054688 154.231725 \nL 136.736506 154.231725 \nL 136.736506 151.332525 \nL 124.054688 151.332525 \nz\n\" style=\"fill:#1f77b4;\"/>\n   </g>\n   <g id=\"patch_9\">\n    <path clip-path=\"url(#p299c17f24e)\" d=\"M 124.054688 139.735725 \nL 143.077415 139.735725 \nL 143.077415 136.836525 \nL 124.054688 136.836525 \nz\n\" style=\"fill:#1f77b4;\"/>\n   </g>\n   <g id=\"patch_10\">\n    <path clip-path=\"url(#p299c17f24e)\" d=\"M 124.054688 125.239725 \nL 155.759233 125.239725 \nL 155.759233 122.340525 \nL 124.054688 122.340525 \nz\n\" style=\"fill:#1f77b4;\"/>\n   </g>\n   <g id=\"patch_11\">\n    <path clip-path=\"url(#p299c17f24e)\" d=\"M 124.054688 110.743725 \nL 168.441051 110.743725 \nL 168.441051 107.844525 \nL 124.054688 107.844525 \nz\n\" style=\"fill:#1f77b4;\"/>\n   </g>\n   <g id=\"patch_12\">\n    <path clip-path=\"url(#p299c17f24e)\" d=\"M 124.054688 96.247725 \nL 181.122869 96.247725 \nL 181.122869 93.348525 \nL 124.054688 93.348525 \nz\n\" style=\"fill:#1f77b4;\"/>\n   </g>\n   <g id=\"patch_13\">\n    <path clip-path=\"url(#p299c17f24e)\" d=\"M 124.054688 81.751725 \nL 212.827415 81.751725 \nL 212.827415 78.852525 \nL 124.054688 78.852525 \nz\n\" style=\"fill:#1f77b4;\"/>\n   </g>\n   <g id=\"patch_14\">\n    <path clip-path=\"url(#p299c17f24e)\" d=\"M 124.054688 67.255725 \nL 269.895597 67.255725 \nL 269.895597 64.356525 \nL 124.054688 64.356525 \nz\n\" style=\"fill:#1f77b4;\"/>\n   </g>\n   <g id=\"patch_15\">\n    <path clip-path=\"url(#p299c17f24e)\" d=\"M 124.054688 52.759725 \nL 403.054687 52.759725 \nL 403.054687 49.860525 \nL 124.054688 49.860525 \nz\n\" style=\"fill:#1f77b4;\"/>\n   </g>\n   <g id=\"patch_16\">\n    <path clip-path=\"url(#p299c17f24e)\" d=\"M 124.054688 38.263725 \nL 428.418324 38.263725 \nL 428.418324 35.364525 \nL 124.054688 35.364525 \nz\n\" style=\"fill:#1f77b4;\"/>\n   </g>\n   <g id=\"matplotlib.axis_1\">\n    <g id=\"xtick_1\">\n     <g id=\"line2d_1\">\n      <path clip-path=\"url(#p299c17f24e)\" d=\"M 124.054688 239.758125 \nL 124.054688 22.318125 \n\" style=\"fill:none;stroke:#b0b0b0;stroke-linecap:square;stroke-width:0.8;\"/>\n     </g>\n     <g id=\"line2d_2\">\n      <defs>\n       <path d=\"M 0 0 \nL 0 3.5 \n\" id=\"m1a10dc6004\" style=\"stroke:#000000;stroke-width:0.8;\"/>\n      </defs>\n      <g>\n       <use style=\"stroke:#000000;stroke-width:0.8;\" x=\"124.054688\" xlink:href=\"#m1a10dc6004\" y=\"239.758125\"/>\n      </g>\n     </g>\n     <g id=\"text_1\">\n      <!-- 0 -->\n      <g transform=\"translate(120.873437 254.356562)scale(0.1 -0.1)\">\n       <defs>\n        <path d=\"M 2034 4250 \nQ 1547 4250 1301 3770 \nQ 1056 3291 1056 2328 \nQ 1056 1369 1301 889 \nQ 1547 409 2034 409 \nQ 2525 409 2770 889 \nQ 3016 1369 3016 2328 \nQ 3016 3291 2770 3770 \nQ 2525 4250 2034 4250 \nz\nM 2034 4750 \nQ 2819 4750 3233 4129 \nQ 3647 3509 3647 2328 \nQ 3647 1150 3233 529 \nQ 2819 -91 2034 -91 \nQ 1250 -91 836 529 \nQ 422 1150 422 2328 \nQ 422 3509 836 4129 \nQ 1250 4750 2034 4750 \nz\n\" id=\"DejaVuSans-30\" transform=\"scale(0.015625)\"/>\n       </defs>\n       <use xlink:href=\"#DejaVuSans-30\"/>\n      </g>\n     </g>\n    </g>\n    <g id=\"xtick_2\">\n     <g id=\"line2d_3\">\n      <path clip-path=\"url(#p299c17f24e)\" d=\"M 187.463778 239.758125 \nL 187.463778 22.318125 \n\" style=\"fill:none;stroke:#b0b0b0;stroke-linecap:square;stroke-width:0.8;\"/>\n     </g>\n     <g id=\"line2d_4\">\n      <g>\n       <use style=\"stroke:#000000;stroke-width:0.8;\" x=\"187.463778\" xlink:href=\"#m1a10dc6004\" y=\"239.758125\"/>\n      </g>\n     </g>\n     <g id=\"text_2\">\n      <!-- 10 -->\n      <g transform=\"translate(181.101278 254.356562)scale(0.1 -0.1)\">\n       <defs>\n        <path d=\"M 794 531 \nL 1825 531 \nL 1825 4091 \nL 703 3866 \nL 703 4441 \nL 1819 4666 \nL 2450 4666 \nL 2450 531 \nL 3481 531 \nL 3481 0 \nL 794 0 \nL 794 531 \nz\n\" id=\"DejaVuSans-31\" transform=\"scale(0.015625)\"/>\n       </defs>\n       <use xlink:href=\"#DejaVuSans-31\"/>\n       <use x=\"63.623047\" xlink:href=\"#DejaVuSans-30\"/>\n      </g>\n     </g>\n    </g>\n    <g id=\"xtick_3\">\n     <g id=\"line2d_5\">\n      <path clip-path=\"url(#p299c17f24e)\" d=\"M 250.872869 239.758125 \nL 250.872869 22.318125 \n\" style=\"fill:none;stroke:#b0b0b0;stroke-linecap:square;stroke-width:0.8;\"/>\n     </g>\n     <g id=\"line2d_6\">\n      <g>\n       <use style=\"stroke:#000000;stroke-width:0.8;\" x=\"250.872869\" xlink:href=\"#m1a10dc6004\" y=\"239.758125\"/>\n      </g>\n     </g>\n     <g id=\"text_3\">\n      <!-- 20 -->\n      <g transform=\"translate(244.510369 254.356562)scale(0.1 -0.1)\">\n       <defs>\n        <path d=\"M 1228 531 \nL 3431 531 \nL 3431 0 \nL 469 0 \nL 469 531 \nQ 828 903 1448 1529 \nQ 2069 2156 2228 2338 \nQ 2531 2678 2651 2914 \nQ 2772 3150 2772 3378 \nQ 2772 3750 2511 3984 \nQ 2250 4219 1831 4219 \nQ 1534 4219 1204 4116 \nQ 875 4013 500 3803 \nL 500 4441 \nQ 881 4594 1212 4672 \nQ 1544 4750 1819 4750 \nQ 2544 4750 2975 4387 \nQ 3406 4025 3406 3419 \nQ 3406 3131 3298 2873 \nQ 3191 2616 2906 2266 \nQ 2828 2175 2409 1742 \nQ 1991 1309 1228 531 \nz\n\" id=\"DejaVuSans-32\" transform=\"scale(0.015625)\"/>\n       </defs>\n       <use xlink:href=\"#DejaVuSans-32\"/>\n       <use x=\"63.623047\" xlink:href=\"#DejaVuSans-30\"/>\n      </g>\n     </g>\n    </g>\n    <g id=\"xtick_4\">\n     <g id=\"line2d_7\">\n      <path clip-path=\"url(#p299c17f24e)\" d=\"M 314.28196 239.758125 \nL 314.28196 22.318125 \n\" style=\"fill:none;stroke:#b0b0b0;stroke-linecap:square;stroke-width:0.8;\"/>\n     </g>\n     <g id=\"line2d_8\">\n      <g>\n       <use style=\"stroke:#000000;stroke-width:0.8;\" x=\"314.28196\" xlink:href=\"#m1a10dc6004\" y=\"239.758125\"/>\n      </g>\n     </g>\n     <g id=\"text_4\">\n      <!-- 30 -->\n      <g transform=\"translate(307.91946 254.356562)scale(0.1 -0.1)\">\n       <defs>\n        <path d=\"M 2597 2516 \nQ 3050 2419 3304 2112 \nQ 3559 1806 3559 1356 \nQ 3559 666 3084 287 \nQ 2609 -91 1734 -91 \nQ 1441 -91 1130 -33 \nQ 819 25 488 141 \nL 488 750 \nQ 750 597 1062 519 \nQ 1375 441 1716 441 \nQ 2309 441 2620 675 \nQ 2931 909 2931 1356 \nQ 2931 1769 2642 2001 \nQ 2353 2234 1838 2234 \nL 1294 2234 \nL 1294 2753 \nL 1863 2753 \nQ 2328 2753 2575 2939 \nQ 2822 3125 2822 3475 \nQ 2822 3834 2567 4026 \nQ 2313 4219 1838 4219 \nQ 1578 4219 1281 4162 \nQ 984 4106 628 3988 \nL 628 4550 \nQ 988 4650 1302 4700 \nQ 1616 4750 1894 4750 \nQ 2613 4750 3031 4423 \nQ 3450 4097 3450 3541 \nQ 3450 3153 3228 2886 \nQ 3006 2619 2597 2516 \nz\n\" id=\"DejaVuSans-33\" transform=\"scale(0.015625)\"/>\n       </defs>\n       <use xlink:href=\"#DejaVuSans-33\"/>\n       <use x=\"63.623047\" xlink:href=\"#DejaVuSans-30\"/>\n      </g>\n     </g>\n    </g>\n    <g id=\"xtick_5\">\n     <g id=\"line2d_9\">\n      <path clip-path=\"url(#p299c17f24e)\" d=\"M 377.691051 239.758125 \nL 377.691051 22.318125 \n\" style=\"fill:none;stroke:#b0b0b0;stroke-linecap:square;stroke-width:0.8;\"/>\n     </g>\n     <g id=\"line2d_10\">\n      <g>\n       <use style=\"stroke:#000000;stroke-width:0.8;\" x=\"377.691051\" xlink:href=\"#m1a10dc6004\" y=\"239.758125\"/>\n      </g>\n     </g>\n     <g id=\"text_5\">\n      <!-- 40 -->\n      <g transform=\"translate(371.328551 254.356562)scale(0.1 -0.1)\">\n       <defs>\n        <path d=\"M 2419 4116 \nL 825 1625 \nL 2419 1625 \nL 2419 4116 \nz\nM 2253 4666 \nL 3047 4666 \nL 3047 1625 \nL 3713 1625 \nL 3713 1100 \nL 3047 1100 \nL 3047 0 \nL 2419 0 \nL 2419 1100 \nL 313 1100 \nL 313 1709 \nL 2253 4666 \nz\n\" id=\"DejaVuSans-34\" transform=\"scale(0.015625)\"/>\n       </defs>\n       <use xlink:href=\"#DejaVuSans-34\"/>\n       <use x=\"63.623047\" xlink:href=\"#DejaVuSans-30\"/>\n      </g>\n     </g>\n    </g>\n    <g id=\"xtick_6\">\n     <g id=\"line2d_11\">\n      <path clip-path=\"url(#p299c17f24e)\" d=\"M 441.100142 239.758125 \nL 441.100142 22.318125 \n\" style=\"fill:none;stroke:#b0b0b0;stroke-linecap:square;stroke-width:0.8;\"/>\n     </g>\n     <g id=\"line2d_12\">\n      <g>\n       <use style=\"stroke:#000000;stroke-width:0.8;\" x=\"441.100142\" xlink:href=\"#m1a10dc6004\" y=\"239.758125\"/>\n      </g>\n     </g>\n     <g id=\"text_6\">\n      <!-- 50 -->\n      <g transform=\"translate(434.737642 254.356562)scale(0.1 -0.1)\">\n       <defs>\n        <path d=\"M 691 4666 \nL 3169 4666 \nL 3169 4134 \nL 1269 4134 \nL 1269 2991 \nQ 1406 3038 1543 3061 \nQ 1681 3084 1819 3084 \nQ 2600 3084 3056 2656 \nQ 3513 2228 3513 1497 \nQ 3513 744 3044 326 \nQ 2575 -91 1722 -91 \nQ 1428 -91 1123 -41 \nQ 819 9 494 109 \nL 494 744 \nQ 775 591 1075 516 \nQ 1375 441 1709 441 \nQ 2250 441 2565 725 \nQ 2881 1009 2881 1497 \nQ 2881 1984 2565 2268 \nQ 2250 2553 1709 2553 \nQ 1456 2553 1204 2497 \nQ 953 2441 691 2322 \nL 691 4666 \nz\n\" id=\"DejaVuSans-35\" transform=\"scale(0.015625)\"/>\n       </defs>\n       <use xlink:href=\"#DejaVuSans-35\"/>\n       <use x=\"63.623047\" xlink:href=\"#DejaVuSans-30\"/>\n      </g>\n     </g>\n    </g>\n    <g id=\"text_7\">\n     <!-- F score -->\n     <g transform=\"translate(273.557031 268.034687)scale(0.1 -0.1)\">\n      <defs>\n       <path d=\"M 628 4666 \nL 3309 4666 \nL 3309 4134 \nL 1259 4134 \nL 1259 2759 \nL 3109 2759 \nL 3109 2228 \nL 1259 2228 \nL 1259 0 \nL 628 0 \nL 628 4666 \nz\n\" id=\"DejaVuSans-46\" transform=\"scale(0.015625)\"/>\n       <path id=\"DejaVuSans-20\" transform=\"scale(0.015625)\"/>\n       <path d=\"M 2834 3397 \nL 2834 2853 \nQ 2591 2978 2328 3040 \nQ 2066 3103 1784 3103 \nQ 1356 3103 1142 2972 \nQ 928 2841 928 2578 \nQ 928 2378 1081 2264 \nQ 1234 2150 1697 2047 \nL 1894 2003 \nQ 2506 1872 2764 1633 \nQ 3022 1394 3022 966 \nQ 3022 478 2636 193 \nQ 2250 -91 1575 -91 \nQ 1294 -91 989 -36 \nQ 684 19 347 128 \nL 347 722 \nQ 666 556 975 473 \nQ 1284 391 1588 391 \nQ 1994 391 2212 530 \nQ 2431 669 2431 922 \nQ 2431 1156 2273 1281 \nQ 2116 1406 1581 1522 \nL 1381 1569 \nQ 847 1681 609 1914 \nQ 372 2147 372 2553 \nQ 372 3047 722 3315 \nQ 1072 3584 1716 3584 \nQ 2034 3584 2315 3537 \nQ 2597 3491 2834 3397 \nz\n\" id=\"DejaVuSans-73\" transform=\"scale(0.015625)\"/>\n       <path d=\"M 3122 3366 \nL 3122 2828 \nQ 2878 2963 2633 3030 \nQ 2388 3097 2138 3097 \nQ 1578 3097 1268 2742 \nQ 959 2388 959 1747 \nQ 959 1106 1268 751 \nQ 1578 397 2138 397 \nQ 2388 397 2633 464 \nQ 2878 531 3122 666 \nL 3122 134 \nQ 2881 22 2623 -34 \nQ 2366 -91 2075 -91 \nQ 1284 -91 818 406 \nQ 353 903 353 1747 \nQ 353 2603 823 3093 \nQ 1294 3584 2113 3584 \nQ 2378 3584 2631 3529 \nQ 2884 3475 3122 3366 \nz\n\" id=\"DejaVuSans-63\" transform=\"scale(0.015625)\"/>\n       <path d=\"M 1959 3097 \nQ 1497 3097 1228 2736 \nQ 959 2375 959 1747 \nQ 959 1119 1226 758 \nQ 1494 397 1959 397 \nQ 2419 397 2687 759 \nQ 2956 1122 2956 1747 \nQ 2956 2369 2687 2733 \nQ 2419 3097 1959 3097 \nz\nM 1959 3584 \nQ 2709 3584 3137 3096 \nQ 3566 2609 3566 1747 \nQ 3566 888 3137 398 \nQ 2709 -91 1959 -91 \nQ 1206 -91 779 398 \nQ 353 888 353 1747 \nQ 353 2609 779 3096 \nQ 1206 3584 1959 3584 \nz\n\" id=\"DejaVuSans-6f\" transform=\"scale(0.015625)\"/>\n       <path d=\"M 2631 2963 \nQ 2534 3019 2420 3045 \nQ 2306 3072 2169 3072 \nQ 1681 3072 1420 2755 \nQ 1159 2438 1159 1844 \nL 1159 0 \nL 581 0 \nL 581 3500 \nL 1159 3500 \nL 1159 2956 \nQ 1341 3275 1631 3429 \nQ 1922 3584 2338 3584 \nQ 2397 3584 2469 3576 \nQ 2541 3569 2628 3553 \nL 2631 2963 \nz\n\" id=\"DejaVuSans-72\" transform=\"scale(0.015625)\"/>\n       <path d=\"M 3597 1894 \nL 3597 1613 \nL 953 1613 \nQ 991 1019 1311 708 \nQ 1631 397 2203 397 \nQ 2534 397 2845 478 \nQ 3156 559 3463 722 \nL 3463 178 \nQ 3153 47 2828 -22 \nQ 2503 -91 2169 -91 \nQ 1331 -91 842 396 \nQ 353 884 353 1716 \nQ 353 2575 817 3079 \nQ 1281 3584 2069 3584 \nQ 2775 3584 3186 3129 \nQ 3597 2675 3597 1894 \nz\nM 3022 2063 \nQ 3016 2534 2758 2815 \nQ 2500 3097 2075 3097 \nQ 1594 3097 1305 2825 \nQ 1016 2553 972 2059 \nL 3022 2063 \nz\n\" id=\"DejaVuSans-65\" transform=\"scale(0.015625)\"/>\n      </defs>\n      <use xlink:href=\"#DejaVuSans-46\"/>\n      <use x=\"57.519531\" xlink:href=\"#DejaVuSans-20\"/>\n      <use x=\"89.306641\" xlink:href=\"#DejaVuSans-73\"/>\n      <use x=\"141.40625\" xlink:href=\"#DejaVuSans-63\"/>\n      <use x=\"196.386719\" xlink:href=\"#DejaVuSans-6f\"/>\n      <use x=\"257.568359\" xlink:href=\"#DejaVuSans-72\"/>\n      <use x=\"296.431641\" xlink:href=\"#DejaVuSans-65\"/>\n     </g>\n    </g>\n   </g>\n   <g id=\"matplotlib.axis_2\">\n    <g id=\"ytick_1\">\n     <g id=\"line2d_13\">\n      <path clip-path=\"url(#p299c17f24e)\" d=\"M 124.054688 225.262125 \nL 458.854688 225.262125 \n\" style=\"fill:none;stroke:#b0b0b0;stroke-linecap:square;stroke-width:0.8;\"/>\n     </g>\n     <g id=\"line2d_14\">\n      <defs>\n       <path d=\"M 0 0 \nL -3.5 0 \n\" id=\"m46a60a41ca\" style=\"stroke:#000000;stroke-width:0.8;\"/>\n      </defs>\n      <g>\n       <use style=\"stroke:#000000;stroke-width:0.8;\" x=\"124.054688\" xlink:href=\"#m46a60a41ca\" y=\"225.262125\"/>\n      </g>\n     </g>\n     <g id=\"text_8\">\n      <!-- working -->\n      <g transform=\"translate(77.392188 229.061344)scale(0.1 -0.1)\">\n       <defs>\n        <path d=\"M 269 3500 \nL 844 3500 \nL 1563 769 \nL 2278 3500 \nL 2956 3500 \nL 3675 769 \nL 4391 3500 \nL 4966 3500 \nL 4050 0 \nL 3372 0 \nL 2619 2869 \nL 1863 0 \nL 1184 0 \nL 269 3500 \nz\n\" id=\"DejaVuSans-77\" transform=\"scale(0.015625)\"/>\n        <path d=\"M 581 4863 \nL 1159 4863 \nL 1159 1991 \nL 2875 3500 \nL 3609 3500 \nL 1753 1863 \nL 3688 0 \nL 2938 0 \nL 1159 1709 \nL 1159 0 \nL 581 0 \nL 581 4863 \nz\n\" id=\"DejaVuSans-6b\" transform=\"scale(0.015625)\"/>\n        <path d=\"M 603 3500 \nL 1178 3500 \nL 1178 0 \nL 603 0 \nL 603 3500 \nz\nM 603 4863 \nL 1178 4863 \nL 1178 4134 \nL 603 4134 \nL 603 4863 \nz\n\" id=\"DejaVuSans-69\" transform=\"scale(0.015625)\"/>\n        <path d=\"M 3513 2113 \nL 3513 0 \nL 2938 0 \nL 2938 2094 \nQ 2938 2591 2744 2837 \nQ 2550 3084 2163 3084 \nQ 1697 3084 1428 2787 \nQ 1159 2491 1159 1978 \nL 1159 0 \nL 581 0 \nL 581 3500 \nL 1159 3500 \nL 1159 2956 \nQ 1366 3272 1645 3428 \nQ 1925 3584 2291 3584 \nQ 2894 3584 3203 3211 \nQ 3513 2838 3513 2113 \nz\n\" id=\"DejaVuSans-6e\" transform=\"scale(0.015625)\"/>\n        <path d=\"M 2906 1791 \nQ 2906 2416 2648 2759 \nQ 2391 3103 1925 3103 \nQ 1463 3103 1205 2759 \nQ 947 2416 947 1791 \nQ 947 1169 1205 825 \nQ 1463 481 1925 481 \nQ 2391 481 2648 825 \nQ 2906 1169 2906 1791 \nz\nM 3481 434 \nQ 3481 -459 3084 -895 \nQ 2688 -1331 1869 -1331 \nQ 1566 -1331 1297 -1286 \nQ 1028 -1241 775 -1147 \nL 775 -588 \nQ 1028 -725 1275 -790 \nQ 1522 -856 1778 -856 \nQ 2344 -856 2625 -561 \nQ 2906 -266 2906 331 \nL 2906 616 \nQ 2728 306 2450 153 \nQ 2172 0 1784 0 \nQ 1141 0 747 490 \nQ 353 981 353 1791 \nQ 353 2603 747 3093 \nQ 1141 3584 1784 3584 \nQ 2172 3584 2450 3431 \nQ 2728 3278 2906 2969 \nL 2906 3500 \nL 3481 3500 \nL 3481 434 \nz\n\" id=\"DejaVuSans-67\" transform=\"scale(0.015625)\"/>\n       </defs>\n       <use xlink:href=\"#DejaVuSans-77\"/>\n       <use x=\"81.787109\" xlink:href=\"#DejaVuSans-6f\"/>\n       <use x=\"142.96875\" xlink:href=\"#DejaVuSans-72\"/>\n       <use x=\"184.082031\" xlink:href=\"#DejaVuSans-6b\"/>\n       <use x=\"241.992188\" xlink:href=\"#DejaVuSans-69\"/>\n       <use x=\"269.775391\" xlink:href=\"#DejaVuSans-6e\"/>\n       <use x=\"333.154297\" xlink:href=\"#DejaVuSans-67\"/>\n      </g>\n     </g>\n    </g>\n    <g id=\"ytick_2\">\n     <g id=\"line2d_15\">\n      <path clip-path=\"url(#p299c17f24e)\" d=\"M 124.054688 210.766125 \nL 458.854688 210.766125 \n\" style=\"fill:none;stroke:#b0b0b0;stroke-linecap:square;stroke-width:0.8;\"/>\n     </g>\n     <g id=\"line2d_16\">\n      <g>\n       <use style=\"stroke:#000000;stroke-width:0.8;\" x=\"124.054688\" xlink:href=\"#m46a60a41ca\" y=\"210.766125\"/>\n      </g>\n     </g>\n     <g id=\"text_9\">\n      <!-- None -->\n      <g transform=\"translate(90.964062 214.565344)scale(0.1 -0.1)\">\n       <defs>\n        <path d=\"M 628 4666 \nL 1478 4666 \nL 3547 763 \nL 3547 4666 \nL 4159 4666 \nL 4159 0 \nL 3309 0 \nL 1241 3903 \nL 1241 0 \nL 628 0 \nL 628 4666 \nz\n\" id=\"DejaVuSans-4e\" transform=\"scale(0.015625)\"/>\n       </defs>\n       <use xlink:href=\"#DejaVuSans-4e\"/>\n       <use x=\"74.804688\" xlink:href=\"#DejaVuSans-6f\"/>\n       <use x=\"135.986328\" xlink:href=\"#DejaVuSans-6e\"/>\n       <use x=\"199.365234\" xlink:href=\"#DejaVuSans-65\"/>\n      </g>\n     </g>\n    </g>\n    <g id=\"ytick_3\">\n     <g id=\"line2d_17\">\n      <path clip-path=\"url(#p299c17f24e)\" d=\"M 124.054688 196.270125 \nL 458.854688 196.270125 \n\" style=\"fill:none;stroke:#b0b0b0;stroke-linecap:square;stroke-width:0.8;\"/>\n     </g>\n     <g id=\"line2d_18\">\n      <g>\n       <use style=\"stroke:#000000;stroke-width:0.8;\" x=\"124.054688\" xlink:href=\"#m46a60a41ca\" y=\"196.270125\"/>\n      </g>\n     </g>\n     <g id=\"text_10\">\n      <!-- tier_1 -->\n      <g transform=\"translate(88.729687 200.069344)scale(0.1 -0.1)\">\n       <defs>\n        <path d=\"M 1172 4494 \nL 1172 3500 \nL 2356 3500 \nL 2356 3053 \nL 1172 3053 \nL 1172 1153 \nQ 1172 725 1289 603 \nQ 1406 481 1766 481 \nL 2356 481 \nL 2356 0 \nL 1766 0 \nQ 1100 0 847 248 \nQ 594 497 594 1153 \nL 594 3053 \nL 172 3053 \nL 172 3500 \nL 594 3500 \nL 594 4494 \nL 1172 4494 \nz\n\" id=\"DejaVuSans-74\" transform=\"scale(0.015625)\"/>\n        <path d=\"M 3263 -1063 \nL 3263 -1509 \nL -63 -1509 \nL -63 -1063 \nL 3263 -1063 \nz\n\" id=\"DejaVuSans-5f\" transform=\"scale(0.015625)\"/>\n       </defs>\n       <use xlink:href=\"#DejaVuSans-74\"/>\n       <use x=\"39.208984\" xlink:href=\"#DejaVuSans-69\"/>\n       <use x=\"66.992188\" xlink:href=\"#DejaVuSans-65\"/>\n       <use x=\"128.515625\" xlink:href=\"#DejaVuSans-72\"/>\n       <use x=\"169.628906\" xlink:href=\"#DejaVuSans-5f\"/>\n       <use x=\"219.628906\" xlink:href=\"#DejaVuSans-31\"/>\n      </g>\n     </g>\n    </g>\n    <g id=\"ytick_4\">\n     <g id=\"line2d_19\">\n      <path clip-path=\"url(#p299c17f24e)\" d=\"M 124.054688 181.774125 \nL 458.854688 181.774125 \n\" style=\"fill:none;stroke:#b0b0b0;stroke-linecap:square;stroke-width:0.8;\"/>\n     </g>\n     <g id=\"line2d_20\">\n      <g>\n       <use style=\"stroke:#000000;stroke-width:0.8;\" x=\"124.054688\" xlink:href=\"#m46a60a41ca\" y=\"181.774125\"/>\n      </g>\n     </g>\n     <g id=\"text_11\">\n      <!-- companion -->\n      <g transform=\"translate(61.648438 185.573344)scale(0.1 -0.1)\">\n       <defs>\n        <path d=\"M 3328 2828 \nQ 3544 3216 3844 3400 \nQ 4144 3584 4550 3584 \nQ 5097 3584 5394 3201 \nQ 5691 2819 5691 2113 \nL 5691 0 \nL 5113 0 \nL 5113 2094 \nQ 5113 2597 4934 2840 \nQ 4756 3084 4391 3084 \nQ 3944 3084 3684 2787 \nQ 3425 2491 3425 1978 \nL 3425 0 \nL 2847 0 \nL 2847 2094 \nQ 2847 2600 2669 2842 \nQ 2491 3084 2119 3084 \nQ 1678 3084 1418 2786 \nQ 1159 2488 1159 1978 \nL 1159 0 \nL 581 0 \nL 581 3500 \nL 1159 3500 \nL 1159 2956 \nQ 1356 3278 1631 3431 \nQ 1906 3584 2284 3584 \nQ 2666 3584 2933 3390 \nQ 3200 3197 3328 2828 \nz\n\" id=\"DejaVuSans-6d\" transform=\"scale(0.015625)\"/>\n        <path d=\"M 1159 525 \nL 1159 -1331 \nL 581 -1331 \nL 581 3500 \nL 1159 3500 \nL 1159 2969 \nQ 1341 3281 1617 3432 \nQ 1894 3584 2278 3584 \nQ 2916 3584 3314 3078 \nQ 3713 2572 3713 1747 \nQ 3713 922 3314 415 \nQ 2916 -91 2278 -91 \nQ 1894 -91 1617 61 \nQ 1341 213 1159 525 \nz\nM 3116 1747 \nQ 3116 2381 2855 2742 \nQ 2594 3103 2138 3103 \nQ 1681 3103 1420 2742 \nQ 1159 2381 1159 1747 \nQ 1159 1113 1420 752 \nQ 1681 391 2138 391 \nQ 2594 391 2855 752 \nQ 3116 1113 3116 1747 \nz\n\" id=\"DejaVuSans-70\" transform=\"scale(0.015625)\"/>\n        <path d=\"M 2194 1759 \nQ 1497 1759 1228 1600 \nQ 959 1441 959 1056 \nQ 959 750 1161 570 \nQ 1363 391 1709 391 \nQ 2188 391 2477 730 \nQ 2766 1069 2766 1631 \nL 2766 1759 \nL 2194 1759 \nz\nM 3341 1997 \nL 3341 0 \nL 2766 0 \nL 2766 531 \nQ 2569 213 2275 61 \nQ 1981 -91 1556 -91 \nQ 1019 -91 701 211 \nQ 384 513 384 1019 \nQ 384 1609 779 1909 \nQ 1175 2209 1959 2209 \nL 2766 2209 \nL 2766 2266 \nQ 2766 2663 2505 2880 \nQ 2244 3097 1772 3097 \nQ 1472 3097 1187 3025 \nQ 903 2953 641 2809 \nL 641 3341 \nQ 956 3463 1253 3523 \nQ 1550 3584 1831 3584 \nQ 2591 3584 2966 3190 \nQ 3341 2797 3341 1997 \nz\n\" id=\"DejaVuSans-61\" transform=\"scale(0.015625)\"/>\n       </defs>\n       <use xlink:href=\"#DejaVuSans-63\"/>\n       <use x=\"54.980469\" xlink:href=\"#DejaVuSans-6f\"/>\n       <use x=\"116.162109\" xlink:href=\"#DejaVuSans-6d\"/>\n       <use x=\"213.574219\" xlink:href=\"#DejaVuSans-70\"/>\n       <use x=\"277.050781\" xlink:href=\"#DejaVuSans-61\"/>\n       <use x=\"338.330078\" xlink:href=\"#DejaVuSans-6e\"/>\n       <use x=\"401.708984\" xlink:href=\"#DejaVuSans-69\"/>\n       <use x=\"429.492188\" xlink:href=\"#DejaVuSans-6f\"/>\n       <use x=\"490.673828\" xlink:href=\"#DejaVuSans-6e\"/>\n      </g>\n     </g>\n    </g>\n    <g id=\"ytick_5\">\n     <g id=\"line2d_21\">\n      <path clip-path=\"url(#p299c17f24e)\" d=\"M 124.054688 167.278125 \nL 458.854688 167.278125 \n\" style=\"fill:none;stroke:#b0b0b0;stroke-linecap:square;stroke-width:0.8;\"/>\n     </g>\n     <g id=\"line2d_22\">\n      <g>\n       <use style=\"stroke:#000000;stroke-width:0.8;\" x=\"124.054688\" xlink:href=\"#m46a60a41ca\" y=\"167.278125\"/>\n      </g>\n     </g>\n     <g id=\"text_12\">\n      <!-- oth -->\n      <g transform=\"translate(100.678125 171.077344)scale(0.1 -0.1)\">\n       <defs>\n        <path d=\"M 3513 2113 \nL 3513 0 \nL 2938 0 \nL 2938 2094 \nQ 2938 2591 2744 2837 \nQ 2550 3084 2163 3084 \nQ 1697 3084 1428 2787 \nQ 1159 2491 1159 1978 \nL 1159 0 \nL 581 0 \nL 581 4863 \nL 1159 4863 \nL 1159 2956 \nQ 1366 3272 1645 3428 \nQ 1925 3584 2291 3584 \nQ 2894 3584 3203 3211 \nQ 3513 2838 3513 2113 \nz\n\" id=\"DejaVuSans-68\" transform=\"scale(0.015625)\"/>\n       </defs>\n       <use xlink:href=\"#DejaVuSans-6f\"/>\n       <use x=\"61.181641\" xlink:href=\"#DejaVuSans-74\"/>\n       <use x=\"100.390625\" xlink:href=\"#DejaVuSans-68\"/>\n      </g>\n     </g>\n    </g>\n    <g id=\"ytick_6\">\n     <g id=\"line2d_23\">\n      <path clip-path=\"url(#p299c17f24e)\" d=\"M 124.054688 152.782125 \nL 458.854688 152.782125 \n\" style=\"fill:none;stroke:#b0b0b0;stroke-linecap:square;stroke-width:0.8;\"/>\n     </g>\n     <g id=\"line2d_24\">\n      <g>\n       <use style=\"stroke:#000000;stroke-width:0.8;\" x=\"124.054688\" xlink:href=\"#m46a60a41ca\" y=\"152.782125\"/>\n      </g>\n     </g>\n     <g id=\"text_13\">\n      <!-- cat -->\n      <g transform=\"translate(101.507812 156.581344)scale(0.1 -0.1)\">\n       <use xlink:href=\"#DejaVuSans-63\"/>\n       <use x=\"54.980469\" xlink:href=\"#DejaVuSans-61\"/>\n       <use x=\"116.259766\" xlink:href=\"#DejaVuSans-74\"/>\n      </g>\n     </g>\n    </g>\n    <g id=\"ytick_7\">\n     <g id=\"line2d_25\">\n      <path clip-path=\"url(#p299c17f24e)\" d=\"M 124.054688 138.286125 \nL 458.854688 138.286125 \n\" style=\"fill:none;stroke:#b0b0b0;stroke-linecap:square;stroke-width:0.8;\"/>\n     </g>\n     <g id=\"line2d_26\">\n      <g>\n       <use style=\"stroke:#000000;stroke-width:0.8;\" x=\"124.054688\" xlink:href=\"#m46a60a41ca\" y=\"138.286125\"/>\n      </g>\n     </g>\n     <g id=\"text_14\">\n      <!-- mix -->\n      <g transform=\"translate(98.617188 142.085344)scale(0.1 -0.1)\">\n       <defs>\n        <path d=\"M 3513 3500 \nL 2247 1797 \nL 3578 0 \nL 2900 0 \nL 1881 1375 \nL 863 0 \nL 184 0 \nL 1544 1831 \nL 300 3500 \nL 978 3500 \nL 1906 2253 \nL 2834 3500 \nL 3513 3500 \nz\n\" id=\"DejaVuSans-78\" transform=\"scale(0.015625)\"/>\n       </defs>\n       <use xlink:href=\"#DejaVuSans-6d\"/>\n       <use x=\"97.412109\" xlink:href=\"#DejaVuSans-69\"/>\n       <use x=\"125.195312\" xlink:href=\"#DejaVuSans-78\"/>\n      </g>\n     </g>\n    </g>\n    <g id=\"ytick_8\">\n     <g id=\"line2d_27\">\n      <path clip-path=\"url(#p299c17f24e)\" d=\"M 124.054688 123.790125 \nL 458.854688 123.790125 \n\" style=\"fill:none;stroke:#b0b0b0;stroke-linecap:square;stroke-width:0.8;\"/>\n     </g>\n     <g id=\"line2d_28\">\n      <g>\n       <use style=\"stroke:#000000;stroke-width:0.8;\" x=\"124.054688\" xlink:href=\"#m46a60a41ca\" y=\"123.790125\"/>\n      </g>\n     </g>\n     <g id=\"text_15\">\n      <!-- tier_2 -->\n      <g transform=\"translate(88.729687 127.589344)scale(0.1 -0.1)\">\n       <use xlink:href=\"#DejaVuSans-74\"/>\n       <use x=\"39.208984\" xlink:href=\"#DejaVuSans-69\"/>\n       <use x=\"66.992188\" xlink:href=\"#DejaVuSans-65\"/>\n       <use x=\"128.515625\" xlink:href=\"#DejaVuSans-72\"/>\n       <use x=\"169.628906\" xlink:href=\"#DejaVuSans-5f\"/>\n       <use x=\"219.628906\" xlink:href=\"#DejaVuSans-32\"/>\n      </g>\n     </g>\n    </g>\n    <g id=\"ytick_9\">\n     <g id=\"line2d_29\">\n      <path clip-path=\"url(#p299c17f24e)\" d=\"M 124.054688 109.294125 \nL 458.854688 109.294125 \n\" style=\"fill:none;stroke:#b0b0b0;stroke-linecap:square;stroke-width:0.8;\"/>\n     </g>\n     <g id=\"line2d_30\">\n      <g>\n       <use style=\"stroke:#000000;stroke-width:0.8;\" x=\"124.054688\" xlink:href=\"#m46a60a41ca\" y=\"109.294125\"/>\n      </g>\n     </g>\n     <g id=\"text_16\">\n      <!-- is_medical_max -->\n      <g transform=\"translate(37.854687 113.093344)scale(0.1 -0.1)\">\n       <defs>\n        <path d=\"M 2906 2969 \nL 2906 4863 \nL 3481 4863 \nL 3481 0 \nL 2906 0 \nL 2906 525 \nQ 2725 213 2448 61 \nQ 2172 -91 1784 -91 \nQ 1150 -91 751 415 \nQ 353 922 353 1747 \nQ 353 2572 751 3078 \nQ 1150 3584 1784 3584 \nQ 2172 3584 2448 3432 \nQ 2725 3281 2906 2969 \nz\nM 947 1747 \nQ 947 1113 1208 752 \nQ 1469 391 1925 391 \nQ 2381 391 2643 752 \nQ 2906 1113 2906 1747 \nQ 2906 2381 2643 2742 \nQ 2381 3103 1925 3103 \nQ 1469 3103 1208 2742 \nQ 947 2381 947 1747 \nz\n\" id=\"DejaVuSans-64\" transform=\"scale(0.015625)\"/>\n        <path d=\"M 603 4863 \nL 1178 4863 \nL 1178 0 \nL 603 0 \nL 603 4863 \nz\n\" id=\"DejaVuSans-6c\" transform=\"scale(0.015625)\"/>\n       </defs>\n       <use xlink:href=\"#DejaVuSans-69\"/>\n       <use x=\"27.783203\" xlink:href=\"#DejaVuSans-73\"/>\n       <use x=\"79.882812\" xlink:href=\"#DejaVuSans-5f\"/>\n       <use x=\"129.882812\" xlink:href=\"#DejaVuSans-6d\"/>\n       <use x=\"227.294922\" xlink:href=\"#DejaVuSans-65\"/>\n       <use x=\"288.818359\" xlink:href=\"#DejaVuSans-64\"/>\n       <use x=\"352.294922\" xlink:href=\"#DejaVuSans-69\"/>\n       <use x=\"380.078125\" xlink:href=\"#DejaVuSans-63\"/>\n       <use x=\"435.058594\" xlink:href=\"#DejaVuSans-61\"/>\n       <use x=\"496.337891\" xlink:href=\"#DejaVuSans-6c\"/>\n       <use x=\"524.121094\" xlink:href=\"#DejaVuSans-5f\"/>\n       <use x=\"574.121094\" xlink:href=\"#DejaVuSans-6d\"/>\n       <use x=\"671.533203\" xlink:href=\"#DejaVuSans-61\"/>\n       <use x=\"732.8125\" xlink:href=\"#DejaVuSans-78\"/>\n      </g>\n     </g>\n    </g>\n    <g id=\"ytick_10\">\n     <g id=\"line2d_31\">\n      <path clip-path=\"url(#p299c17f24e)\" d=\"M 124.054688 94.798125 \nL 458.854688 94.798125 \n\" style=\"fill:none;stroke:#b0b0b0;stroke-linecap:square;stroke-width:0.8;\"/>\n     </g>\n     <g id=\"line2d_32\">\n      <g>\n       <use style=\"stroke:#000000;stroke-width:0.8;\" x=\"124.054688\" xlink:href=\"#m46a60a41ca\" y=\"94.798125\"/>\n      </g>\n     </g>\n     <g id=\"text_17\">\n      <!-- is_medical_count -->\n      <g transform=\"translate(31.429688 98.597344)scale(0.1 -0.1)\">\n       <defs>\n        <path d=\"M 544 1381 \nL 544 3500 \nL 1119 3500 \nL 1119 1403 \nQ 1119 906 1312 657 \nQ 1506 409 1894 409 \nQ 2359 409 2629 706 \nQ 2900 1003 2900 1516 \nL 2900 3500 \nL 3475 3500 \nL 3475 0 \nL 2900 0 \nL 2900 538 \nQ 2691 219 2414 64 \nQ 2138 -91 1772 -91 \nQ 1169 -91 856 284 \nQ 544 659 544 1381 \nz\nM 1991 3584 \nL 1991 3584 \nz\n\" id=\"DejaVuSans-75\" transform=\"scale(0.015625)\"/>\n       </defs>\n       <use xlink:href=\"#DejaVuSans-69\"/>\n       <use x=\"27.783203\" xlink:href=\"#DejaVuSans-73\"/>\n       <use x=\"79.882812\" xlink:href=\"#DejaVuSans-5f\"/>\n       <use x=\"129.882812\" xlink:href=\"#DejaVuSans-6d\"/>\n       <use x=\"227.294922\" xlink:href=\"#DejaVuSans-65\"/>\n       <use x=\"288.818359\" xlink:href=\"#DejaVuSans-64\"/>\n       <use x=\"352.294922\" xlink:href=\"#DejaVuSans-69\"/>\n       <use x=\"380.078125\" xlink:href=\"#DejaVuSans-63\"/>\n       <use x=\"435.058594\" xlink:href=\"#DejaVuSans-61\"/>\n       <use x=\"496.337891\" xlink:href=\"#DejaVuSans-6c\"/>\n       <use x=\"524.121094\" xlink:href=\"#DejaVuSans-5f\"/>\n       <use x=\"574.121094\" xlink:href=\"#DejaVuSans-63\"/>\n       <use x=\"629.101562\" xlink:href=\"#DejaVuSans-6f\"/>\n       <use x=\"690.283203\" xlink:href=\"#DejaVuSans-75\"/>\n       <use x=\"753.662109\" xlink:href=\"#DejaVuSans-6e\"/>\n       <use x=\"817.041016\" xlink:href=\"#DejaVuSans-74\"/>\n      </g>\n     </g>\n    </g>\n    <g id=\"ytick_11\">\n     <g id=\"line2d_33\">\n      <path clip-path=\"url(#p299c17f24e)\" d=\"M 124.054688 80.302125 \nL 458.854688 80.302125 \n\" style=\"fill:none;stroke:#b0b0b0;stroke-linecap:square;stroke-width:0.8;\"/>\n     </g>\n     <g id=\"line2d_34\">\n      <g>\n       <use style=\"stroke:#000000;stroke-width:0.8;\" x=\"124.054688\" xlink:href=\"#m46a60a41ca\" y=\"80.302125\"/>\n      </g>\n     </g>\n     <g id=\"text_18\">\n      <!-- ani_age -->\n      <g transform=\"translate(78.18125 84.101344)scale(0.1 -0.1)\">\n       <use xlink:href=\"#DejaVuSans-61\"/>\n       <use x=\"61.279297\" xlink:href=\"#DejaVuSans-6e\"/>\n       <use x=\"124.658203\" xlink:href=\"#DejaVuSans-69\"/>\n       <use x=\"152.441406\" xlink:href=\"#DejaVuSans-5f\"/>\n       <use x=\"202.441406\" xlink:href=\"#DejaVuSans-61\"/>\n       <use x=\"263.720703\" xlink:href=\"#DejaVuSans-67\"/>\n       <use x=\"327.197266\" xlink:href=\"#DejaVuSans-65\"/>\n      </g>\n     </g>\n    </g>\n    <g id=\"ytick_12\">\n     <g id=\"line2d_35\">\n      <path clip-path=\"url(#p299c17f24e)\" d=\"M 124.054688 65.806125 \nL 458.854688 65.806125 \n\" style=\"fill:none;stroke:#b0b0b0;stroke-linecap:square;stroke-width:0.8;\"/>\n     </g>\n     <g id=\"line2d_36\">\n      <g>\n       <use style=\"stroke:#000000;stroke-width:0.8;\" x=\"124.054688\" xlink:href=\"#m46a60a41ca\" y=\"65.806125\"/>\n      </g>\n     </g>\n     <g id=\"text_19\">\n      <!-- wellness_plan_max -->\n      <g transform=\"translate(20.878125 69.605344)scale(0.1 -0.1)\">\n       <use xlink:href=\"#DejaVuSans-77\"/>\n       <use x=\"81.787109\" xlink:href=\"#DejaVuSans-65\"/>\n       <use x=\"143.310547\" xlink:href=\"#DejaVuSans-6c\"/>\n       <use x=\"171.09375\" xlink:href=\"#DejaVuSans-6c\"/>\n       <use x=\"198.876953\" xlink:href=\"#DejaVuSans-6e\"/>\n       <use x=\"262.255859\" xlink:href=\"#DejaVuSans-65\"/>\n       <use x=\"323.779297\" xlink:href=\"#DejaVuSans-73\"/>\n       <use x=\"375.878906\" xlink:href=\"#DejaVuSans-73\"/>\n       <use x=\"427.978516\" xlink:href=\"#DejaVuSans-5f\"/>\n       <use x=\"477.978516\" xlink:href=\"#DejaVuSans-70\"/>\n       <use x=\"541.455078\" xlink:href=\"#DejaVuSans-6c\"/>\n       <use x=\"569.238281\" xlink:href=\"#DejaVuSans-61\"/>\n       <use x=\"630.517578\" xlink:href=\"#DejaVuSans-6e\"/>\n       <use x=\"693.896484\" xlink:href=\"#DejaVuSans-5f\"/>\n       <use x=\"743.896484\" xlink:href=\"#DejaVuSans-6d\"/>\n       <use x=\"841.308594\" xlink:href=\"#DejaVuSans-61\"/>\n       <use x=\"902.587891\" xlink:href=\"#DejaVuSans-78\"/>\n      </g>\n     </g>\n    </g>\n    <g id=\"ytick_13\">\n     <g id=\"line2d_37\">\n      <path clip-path=\"url(#p299c17f24e)\" d=\"M 124.054688 51.310125 \nL 458.854688 51.310125 \n\" style=\"fill:none;stroke:#b0b0b0;stroke-linecap:square;stroke-width:0.8;\"/>\n     </g>\n     <g id=\"line2d_38\">\n      <g>\n       <use style=\"stroke:#000000;stroke-width:0.8;\" x=\"124.054688\" xlink:href=\"#m46a60a41ca\" y=\"51.310125\"/>\n      </g>\n     </g>\n     <g id=\"text_20\">\n      <!-- weight -->\n      <g transform=\"translate(83.339062 55.109344)scale(0.1 -0.1)\">\n       <use xlink:href=\"#DejaVuSans-77\"/>\n       <use x=\"81.787109\" xlink:href=\"#DejaVuSans-65\"/>\n       <use x=\"143.310547\" xlink:href=\"#DejaVuSans-69\"/>\n       <use x=\"171.09375\" xlink:href=\"#DejaVuSans-67\"/>\n       <use x=\"234.570312\" xlink:href=\"#DejaVuSans-68\"/>\n       <use x=\"297.949219\" xlink:href=\"#DejaVuSans-74\"/>\n      </g>\n     </g>\n    </g>\n    <g id=\"ytick_14\">\n     <g id=\"line2d_39\">\n      <path clip-path=\"url(#p299c17f24e)\" d=\"M 124.054688 36.814125 \nL 458.854688 36.814125 \n\" style=\"fill:none;stroke:#b0b0b0;stroke-linecap:square;stroke-width:0.8;\"/>\n     </g>\n     <g id=\"line2d_40\">\n      <g>\n       <use style=\"stroke:#000000;stroke-width:0.8;\" x=\"124.054688\" xlink:href=\"#m46a60a41ca\" y=\"36.814125\"/>\n      </g>\n     </g>\n     <g id=\"text_21\">\n      <!-- first_visit_spend -->\n      <g transform=\"translate(36.514062 40.613344)scale(0.1 -0.1)\">\n       <defs>\n        <path d=\"M 2375 4863 \nL 2375 4384 \nL 1825 4384 \nQ 1516 4384 1395 4259 \nQ 1275 4134 1275 3809 \nL 1275 3500 \nL 2222 3500 \nL 2222 3053 \nL 1275 3053 \nL 1275 0 \nL 697 0 \nL 697 3053 \nL 147 3053 \nL 147 3500 \nL 697 3500 \nL 697 3744 \nQ 697 4328 969 4595 \nQ 1241 4863 1831 4863 \nL 2375 4863 \nz\n\" id=\"DejaVuSans-66\" transform=\"scale(0.015625)\"/>\n        <path d=\"M 191 3500 \nL 800 3500 \nL 1894 563 \nL 2988 3500 \nL 3597 3500 \nL 2284 0 \nL 1503 0 \nL 191 3500 \nz\n\" id=\"DejaVuSans-76\" transform=\"scale(0.015625)\"/>\n       </defs>\n       <use xlink:href=\"#DejaVuSans-66\"/>\n       <use x=\"35.205078\" xlink:href=\"#DejaVuSans-69\"/>\n       <use x=\"62.988281\" xlink:href=\"#DejaVuSans-72\"/>\n       <use x=\"104.101562\" xlink:href=\"#DejaVuSans-73\"/>\n       <use x=\"156.201172\" xlink:href=\"#DejaVuSans-74\"/>\n       <use x=\"195.410156\" xlink:href=\"#DejaVuSans-5f\"/>\n       <use x=\"245.410156\" xlink:href=\"#DejaVuSans-76\"/>\n       <use x=\"304.589844\" xlink:href=\"#DejaVuSans-69\"/>\n       <use x=\"332.373047\" xlink:href=\"#DejaVuSans-73\"/>\n       <use x=\"384.472656\" xlink:href=\"#DejaVuSans-69\"/>\n       <use x=\"412.255859\" xlink:href=\"#DejaVuSans-74\"/>\n       <use x=\"451.464844\" xlink:href=\"#DejaVuSans-5f\"/>\n       <use x=\"501.464844\" xlink:href=\"#DejaVuSans-73\"/>\n       <use x=\"553.564453\" xlink:href=\"#DejaVuSans-70\"/>\n       <use x=\"617.041016\" xlink:href=\"#DejaVuSans-65\"/>\n       <use x=\"678.564453\" xlink:href=\"#DejaVuSans-6e\"/>\n       <use x=\"741.943359\" xlink:href=\"#DejaVuSans-64\"/>\n      </g>\n     </g>\n    </g>\n    <g id=\"text_22\">\n     <!-- Features -->\n     <g transform=\"translate(14.798437 152.532656)rotate(-90)scale(0.1 -0.1)\">\n      <use xlink:href=\"#DejaVuSans-46\"/>\n      <use x=\"52.019531\" xlink:href=\"#DejaVuSans-65\"/>\n      <use x=\"113.542969\" xlink:href=\"#DejaVuSans-61\"/>\n      <use x=\"174.822266\" xlink:href=\"#DejaVuSans-74\"/>\n      <use x=\"214.03125\" xlink:href=\"#DejaVuSans-75\"/>\n      <use x=\"277.410156\" xlink:href=\"#DejaVuSans-72\"/>\n      <use x=\"316.273438\" xlink:href=\"#DejaVuSans-65\"/>\n      <use x=\"377.796875\" xlink:href=\"#DejaVuSans-73\"/>\n     </g>\n    </g>\n   </g>\n   <g id=\"patch_17\">\n    <path d=\"M 124.054688 239.758125 \nL 124.054688 22.318125 \n\" style=\"fill:none;stroke:#000000;stroke-linecap:square;stroke-linejoin:miter;stroke-width:0.8;\"/>\n   </g>\n   <g id=\"patch_18\">\n    <path d=\"M 458.854688 239.758125 \nL 458.854688 22.318125 \n\" style=\"fill:none;stroke:#000000;stroke-linecap:square;stroke-linejoin:miter;stroke-width:0.8;\"/>\n   </g>\n   <g id=\"patch_19\">\n    <path d=\"M 124.054688 239.758125 \nL 458.854687 239.758125 \n\" style=\"fill:none;stroke:#000000;stroke-linecap:square;stroke-linejoin:miter;stroke-width:0.8;\"/>\n   </g>\n   <g id=\"patch_20\">\n    <path d=\"M 124.054688 22.318125 \nL 458.854687 22.318125 \n\" style=\"fill:none;stroke:#000000;stroke-linecap:square;stroke-linejoin:miter;stroke-width:0.8;\"/>\n   </g>\n   <g id=\"text_23\">\n    <!-- 1 -->\n    <g transform=\"translate(136.736506 228.0215)scale(0.1 -0.1)\">\n     <use xlink:href=\"#DejaVuSans-31\"/>\n    </g>\n   </g>\n   <g id=\"text_24\">\n    <!-- 1 -->\n    <g transform=\"translate(136.736506 213.5255)scale(0.1 -0.1)\">\n     <use xlink:href=\"#DejaVuSans-31\"/>\n    </g>\n   </g>\n   <g id=\"text_25\">\n    <!-- 1 -->\n    <g transform=\"translate(136.736506 199.0295)scale(0.1 -0.1)\">\n     <use xlink:href=\"#DejaVuSans-31\"/>\n    </g>\n   </g>\n   <g id=\"text_26\">\n    <!-- 2 -->\n    <g transform=\"translate(143.077415 184.5335)scale(0.1 -0.1)\">\n     <use xlink:href=\"#DejaVuSans-32\"/>\n    </g>\n   </g>\n   <g id=\"text_27\">\n    <!-- 2 -->\n    <g transform=\"translate(143.077415 170.0375)scale(0.1 -0.1)\">\n     <use xlink:href=\"#DejaVuSans-32\"/>\n    </g>\n   </g>\n   <g id=\"text_28\">\n    <!-- 2 -->\n    <g transform=\"translate(143.077415 155.5415)scale(0.1 -0.1)\">\n     <use xlink:href=\"#DejaVuSans-32\"/>\n    </g>\n   </g>\n   <g id=\"text_29\">\n    <!-- 3 -->\n    <g transform=\"translate(149.418324 141.0455)scale(0.1 -0.1)\">\n     <use xlink:href=\"#DejaVuSans-33\"/>\n    </g>\n   </g>\n   <g id=\"text_30\">\n    <!-- 5 -->\n    <g transform=\"translate(162.100142 126.5495)scale(0.1 -0.1)\">\n     <use xlink:href=\"#DejaVuSans-35\"/>\n    </g>\n   </g>\n   <g id=\"text_31\">\n    <!-- 7 -->\n    <g transform=\"translate(174.78196 112.0535)scale(0.1 -0.1)\">\n     <defs>\n      <path d=\"M 525 4666 \nL 3525 4666 \nL 3525 4397 \nL 1831 0 \nL 1172 0 \nL 2766 4134 \nL 525 4134 \nL 525 4666 \nz\n\" id=\"DejaVuSans-37\" transform=\"scale(0.015625)\"/>\n     </defs>\n     <use xlink:href=\"#DejaVuSans-37\"/>\n    </g>\n   </g>\n   <g id=\"text_32\">\n    <!-- 9 -->\n    <g transform=\"translate(187.463778 97.5575)scale(0.1 -0.1)\">\n     <defs>\n      <path d=\"M 703 97 \nL 703 672 \nQ 941 559 1184 500 \nQ 1428 441 1663 441 \nQ 2288 441 2617 861 \nQ 2947 1281 2994 2138 \nQ 2813 1869 2534 1725 \nQ 2256 1581 1919 1581 \nQ 1219 1581 811 2004 \nQ 403 2428 403 3163 \nQ 403 3881 828 4315 \nQ 1253 4750 1959 4750 \nQ 2769 4750 3195 4129 \nQ 3622 3509 3622 2328 \nQ 3622 1225 3098 567 \nQ 2575 -91 1691 -91 \nQ 1453 -91 1209 -44 \nQ 966 3 703 97 \nz\nM 1959 2075 \nQ 2384 2075 2632 2365 \nQ 2881 2656 2881 3163 \nQ 2881 3666 2632 3958 \nQ 2384 4250 1959 4250 \nQ 1534 4250 1286 3958 \nQ 1038 3666 1038 3163 \nQ 1038 2656 1286 2365 \nQ 1534 2075 1959 2075 \nz\n\" id=\"DejaVuSans-39\" transform=\"scale(0.015625)\"/>\n     </defs>\n     <use xlink:href=\"#DejaVuSans-39\"/>\n    </g>\n   </g>\n   <g id=\"text_33\">\n    <!-- 14 -->\n    <g transform=\"translate(219.168324 83.0615)scale(0.1 -0.1)\">\n     <use xlink:href=\"#DejaVuSans-31\"/>\n     <use x=\"63.623047\" xlink:href=\"#DejaVuSans-34\"/>\n    </g>\n   </g>\n   <g id=\"text_34\">\n    <!-- 23 -->\n    <g transform=\"translate(276.236506 68.5655)scale(0.1 -0.1)\">\n     <use xlink:href=\"#DejaVuSans-32\"/>\n     <use x=\"63.623047\" xlink:href=\"#DejaVuSans-33\"/>\n    </g>\n   </g>\n   <g id=\"text_35\">\n    <!-- 44 -->\n    <g transform=\"translate(409.395597 54.0695)scale(0.1 -0.1)\">\n     <use xlink:href=\"#DejaVuSans-34\"/>\n     <use x=\"63.623047\" xlink:href=\"#DejaVuSans-34\"/>\n    </g>\n   </g>\n   <g id=\"text_36\">\n    <!-- 48 -->\n    <g transform=\"translate(434.759233 39.5735)scale(0.1 -0.1)\">\n     <defs>\n      <path d=\"M 2034 2216 \nQ 1584 2216 1326 1975 \nQ 1069 1734 1069 1313 \nQ 1069 891 1326 650 \nQ 1584 409 2034 409 \nQ 2484 409 2743 651 \nQ 3003 894 3003 1313 \nQ 3003 1734 2745 1975 \nQ 2488 2216 2034 2216 \nz\nM 1403 2484 \nQ 997 2584 770 2862 \nQ 544 3141 544 3541 \nQ 544 4100 942 4425 \nQ 1341 4750 2034 4750 \nQ 2731 4750 3128 4425 \nQ 3525 4100 3525 3541 \nQ 3525 3141 3298 2862 \nQ 3072 2584 2669 2484 \nQ 3125 2378 3379 2068 \nQ 3634 1759 3634 1313 \nQ 3634 634 3220 271 \nQ 2806 -91 2034 -91 \nQ 1263 -91 848 271 \nQ 434 634 434 1313 \nQ 434 1759 690 2068 \nQ 947 2378 1403 2484 \nz\nM 1172 3481 \nQ 1172 3119 1398 2916 \nQ 1625 2713 2034 2713 \nQ 2441 2713 2670 2916 \nQ 2900 3119 2900 3481 \nQ 2900 3844 2670 4047 \nQ 2441 4250 2034 4250 \nQ 1625 4250 1398 4047 \nQ 1172 3844 1172 3481 \nz\n\" id=\"DejaVuSans-38\" transform=\"scale(0.015625)\"/>\n     </defs>\n     <use xlink:href=\"#DejaVuSans-34\"/>\n     <use x=\"63.623047\" xlink:href=\"#DejaVuSans-38\"/>\n    </g>\n   </g>\n   <g id=\"text_37\">\n    <!-- Feature importance -->\n    <g transform=\"translate(232.599375 16.318125)scale(0.12 -0.12)\">\n     <use xlink:href=\"#DejaVuSans-46\"/>\n     <use x=\"52.019531\" xlink:href=\"#DejaVuSans-65\"/>\n     <use x=\"113.542969\" xlink:href=\"#DejaVuSans-61\"/>\n     <use x=\"174.822266\" xlink:href=\"#DejaVuSans-74\"/>\n     <use x=\"214.03125\" xlink:href=\"#DejaVuSans-75\"/>\n     <use x=\"277.410156\" xlink:href=\"#DejaVuSans-72\"/>\n     <use x=\"316.273438\" xlink:href=\"#DejaVuSans-65\"/>\n     <use x=\"377.796875\" xlink:href=\"#DejaVuSans-20\"/>\n     <use x=\"409.583984\" xlink:href=\"#DejaVuSans-69\"/>\n     <use x=\"437.367188\" xlink:href=\"#DejaVuSans-6d\"/>\n     <use x=\"534.779297\" xlink:href=\"#DejaVuSans-70\"/>\n     <use x=\"598.255859\" xlink:href=\"#DejaVuSans-6f\"/>\n     <use x=\"659.4375\" xlink:href=\"#DejaVuSans-72\"/>\n     <use x=\"700.550781\" xlink:href=\"#DejaVuSans-74\"/>\n     <use x=\"739.759766\" xlink:href=\"#DejaVuSans-61\"/>\n     <use x=\"801.039062\" xlink:href=\"#DejaVuSans-6e\"/>\n     <use x=\"864.417969\" xlink:href=\"#DejaVuSans-63\"/>\n     <use x=\"919.398438\" xlink:href=\"#DejaVuSans-65\"/>\n    </g>\n   </g>\n  </g>\n </g>\n <defs>\n  <clipPath id=\"p299c17f24e\">\n   <rect height=\"217.44\" width=\"334.8\" x=\"124.054688\" y=\"22.318125\"/>\n  </clipPath>\n </defs>\n</svg>\n",
      "image/png": "[encoded data removed]"
     },
     "metadata": {
      "needs_background": "light"
     }
    }
   ],
   "metadata": {}
  },
  {
   "cell_type": "code",
   "execution_count": 21,
   "source": [
    "y_test.value_counts()"
   ],
   "outputs": [
    {
     "output_type": "execute_result",
     "data": {
      "text/plain": [
       "0    195\n",
       "2     54\n",
       "1     50\n",
       "3     38\n",
       "5     38\n",
       "4     37\n",
       "Name: total_future_spend_bin, dtype: int64"
      ]
     },
     "metadata": {},
     "execution_count": 21
    }
   ],
   "metadata": {
    "collapsed": false,
    "pycharm": {
     "name": "#%% \n"
    }
   }
  },
  {
   "cell_type": "code",
   "execution_count": 14,
   "source": [
    "len(X_train)"
   ],
   "outputs": [
    {
     "output_type": "execute_result",
     "data": {
      "text/plain": [
       "1648"
      ]
     },
     "metadata": {},
     "execution_count": 14
    }
   ],
   "metadata": {}
  },
  {
   "cell_type": "code",
   "execution_count": 15,
   "source": [
    "len(X_test)"
   ],
   "outputs": [
    {
     "output_type": "execute_result",
     "data": {
      "text/plain": [
       "412"
      ]
     },
     "metadata": {},
     "execution_count": 15
    }
   ],
   "metadata": {}
  },
  {
   "cell_type": "code",
   "execution_count": null,
   "source": [],
   "outputs": [],
   "metadata": {}
  }
 ],
 "metadata": {
  "kernelspec": {
   "name": "python3",
   "display_name": "Python 3.7.10 64-bit ('cbc-ds': conda)"
  },
  "language_info": {
   "name": "python",
   "version": "3.7.10",
   "mimetype": "text/x-python",
   "codemirror_mode": {
    "name": "ipython",
    "version": 3
   },
   "pygments_lexer": "ipython3",
   "nbconvert_exporter": "python",
   "file_extension": ".py"
  },
  "metadata": {
   "interpreter": {
    "hash": "dca0ade3e726a953b501b15e8e990130d2b7799f14cfd9f4271676035ebe5511"
   }
  },
  "interpreter": {
   "hash": "aa23816887b6124b1c703f0530b2ca9891586647dbf79cdcf03e9217fe3daafc"
  }
 },
 "nbformat": 4,
 "nbformat_minor": 2
}