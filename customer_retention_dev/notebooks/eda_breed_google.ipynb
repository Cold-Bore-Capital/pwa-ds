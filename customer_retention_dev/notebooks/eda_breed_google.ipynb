{
 "cells": [
  {
   "cell_type": "markdown",
   "source": [
    "## Import Modules\n"
   ],
   "metadata": {
    "collapsed": false,
    "pycharm": {
     "name": "#%% md\n"
    }
   }
  },
  {
   "cell_type": "code",
   "execution_count": 3,
   "source": [
    "import pandas as pd\n",
    "import numpy as np\n",
    "\n",
    "from  cbcdb import DBManager\n",
    "import datetime\n",
    "from dotenv import load_dotenv, find_dotenv\n",
    "import matplotlib.pyplot as plt\n",
    "%matplotlib inline\n",
    "import seaborn as sns\n",
    "from sklearn.preprocessing import OneHotEncoder\n",
    "from sklearn.model_selection import train_test_split\n",
    "from sklearn.metrics import confusion_matrix, roc_curve, auc\n",
    "import statsmodels.api as sm\n",
    "import tensorflow as tf\n",
    "from tensorflow.keras.models import Sequential\n",
    "from tensorflow.keras.layers import Dense\n",
    "from tensorflow.keras.callbacks import EarlyStopping\n",
    "\n",
    "\n",
    "def Find_Optimal_Cutoff(target, predicted):\n",
    "    \"\"\" Find the optimal probability cutoff point for a classification model related to event rate\n",
    "    Parameters\n",
    "    ----------\n",
    "    target : Matrix with dependent or target data, where rows are observations\n",
    "\n",
    "    predicted : Matrix with predicted data, where rows are observations\n",
    "\n",
    "    Returns\n",
    "    -------\n",
    "    list type, with optimal cutoff value\n",
    "\n",
    "    \"\"\"\n",
    "    fpr, tpr, threshold = roc_curve(target, predicted)\n",
    "    i = np.arange(len(tpr))\n",
    "    roc = pd.DataFrame({'tf' : pd.Series(tpr-(1-fpr), index=i), 'threshold' : pd.Series(threshold, index=i)})\n",
    "    roc_t = roc.iloc[(roc.tf-0).abs().argsort()[:1]]\n",
    "\n",
    "    return list(roc_t['threshold'])"
   ],
   "outputs": [],
   "metadata": {
    "collapsed": false,
    "pycharm": {
     "name": "#%%\n"
    }
   }
  },
  {
   "cell_type": "markdown",
   "source": [
    "## Read in Data"
   ],
   "metadata": {
    "collapsed": false
   }
  },
  {
   "cell_type": "code",
   "execution_count": 4,
   "source": [
    "load_dotenv(find_dotenv())\n",
    "db = DBManager()"
   ],
   "outputs": [],
   "metadata": {
    "collapsed": false,
    "pycharm": {
     "name": "#%%\n"
    }
   }
  },
  {
   "cell_type": "code",
   "execution_count": 136,
   "source": [
    "sql = \"\"\"\n",
    "create temporary table consecutive_days as (\n",
    "     select uid\n",
    "     , datetime_\n",
    "     , rank_group\n",
    "     , visit_number\n",
    "     , max(visit_number) over (partition by uid) as max_num_visit\n",
    "     , case when (max_num_visit) > 1 then 1\n",
    "     else 0 end as visit_more_than_once\n",
    "     from (\n",
    "          select uid\n",
    "               , datetime_\n",
    "               , rank_group\n",
    "               , rank() over (partition by uid order by rank_group asc) as visit_number\n",
    "          from (\n",
    "               SELECT uid\n",
    "                    , datetime                                                                      as datetime_\n",
    "                    , dateadd(day, -rank() OVER (partition by uid ORDER BY datetime), datetime)     AS rank_group\n",
    "               FROM (SELECT DISTINCT\n",
    "                                        t.location_id || '_' || t.animal_id as uid\n",
    "                                   , trunc(t.datetime_date) as datetime\n",
    "                         from bi.transactions t\n",
    "                              inner join bi.animals a\n",
    "                                             on a.ezyvet_id = t.animal_id\n",
    "                                             and a.location_id = t.location_id\n",
    "                         order by 1, 2))));\n",
    "\n",
    "create temporary table wellness as (\n",
    "     select\n",
    "               wm.location_id || '_' || wm.animal_id as uid\n",
    "          , date(datetime_start_date) as datetime_\n",
    "          , wm.wellness_plan as wellness_plan_num\n",
    "          , DATEDIFF(MONTH, wm.datetime_start_date, CURRENT_DATE) as months_a_member\n",
    "          , wp.name                                               as wellness_plan\n",
    "     from bi.wellness_membership wm\n",
    "               left join bi.wellness_plans wp\n",
    "                    on wp.location_id = wm.location_id\n",
    "                         and wp.ezyvet_id = wm.wellness_plan\n",
    "               left join bi.animals a\n",
    "                    on a.location_id = wm.location_id\n",
    "                         and a.ezyvet_id = wm.animal_id\n",
    "     where wp.active = 1\n",
    "          and wm.status = 'Active');\n",
    "\n",
    "select f1.uid\n",
    "         , f1.breed\n",
    "         , f1.ani_age\n",
    "         , f1.date\n",
    "         , f1.weight\n",
    "         , f1.is_medical\n",
    "         , f1.product_group\n",
    "         , f1.type_id\n",
    "         , f1.wellness_plan\n",
    "         , f1.months_a_member\n",
    "         , f1.visit_number\n",
    "         , f1.visit_more_than_once\n",
    "         , f1.max_num_visit\n",
    "         , f1.first_visit_spend\n",
    "         , f1.total_future_spend\n",
    "        from(\n",
    "        select f.uid\n",
    "               , f.breed\n",
    "               , f.ani_age\n",
    "               , f.date\n",
    "               , f.weight\n",
    "               , f.is_medical\n",
    "               --, f.tracking_level\n",
    "               , f.product_group\n",
    "               , f.type_id\n",
    "               , cd.visit_number\n",
    "               , cd.visit_more_than_once\n",
    "               , cd.max_num_visit\n",
    "               , case when w.wellness_plan is not null then 1 else 0 end as wellness_plan\n",
    "               , w.months_a_member\n",
    "               , sum(case when cd.visit_number != 1 then f.revenue else 0 end)\n",
    "                    over (partition by f.uid) as total_future_spend\n",
    "                , sum(case when cd.visit_number = 1 then f.revenue else 0 end)\n",
    "                    over (partition by f.uid) as first_visit_spend\n",
    "                from (\n",
    "                    select t.location_id || '_' || t.animal_id as uid\n",
    "                     , a.breed\n",
    "                     , max(\n",
    "                      date_diff('years', timestamp 'epoch' + a.date_of_birth * interval '1 second',\n",
    "                                current_date))                                            as ani_age\n",
    "                     , trunc(t.datetime_date)                                            as date\n",
    "                     , a.weight\n",
    "                     , p.is_medical\n",
    "                     , p.product_group\n",
    "                     , case when apt.type_id like 'Grooming%' then 'groom'\n",
    "                            when apt.type_id like '%Neuter%' then 'neurtering'\n",
    "                            when apt.type_id like '%ental%' then 'dental'\n",
    "                            else apt.type_id end as type_id\n",
    "                     --, p.name\n",
    "                     --, p.type\n",
    "                     --, p.tracking_level\n",
    "                     , t.revenue                                                          as revenue\n",
    "                     , dense_rank() over (partition by t.location_id || '_' || t.animal_id  order by trunc(t.datetime_date)  asc) as rank_\n",
    "                    from bi.transactions t\n",
    "                         inner join bi.products p\n",
    "                                    on t.product_id = p.ezyvet_id\n",
    "                                        and t.location_id = p.location_id\n",
    "                         inner join bi.animals a\n",
    "                                    on a.id = t.animal_id\n",
    "                         left join bi.contacts c\n",
    "                                   on a.contact_id = c.ezyvet_id\n",
    "                                       and t.location_id = c.location_id\n",
    "                        left join bi.appointments apt\n",
    "                                   on a.contact_id = apt.ezyvet_id\n",
    "                                       and t.location_id = apt.location_id\n",
    "                --where p.name not like '%Subscri%'\n",
    "                --  and p.product_group != 'Surgical Services'\n",
    "                  --and a.breed != '0.0'\n",
    "                group by 1, 2, 4, 5, 6, 7, 8,9) f\n",
    "\n",
    "                   left join consecutive_days cd\n",
    "                             on f.uid = cd.uid\n",
    "                                 and f.date = cd.datetime_\n",
    "                    left join wellness w\n",
    "                            on f.uid = w.uid\n",
    "                                and f.date = w.datetime_) f1\n",
    "    where f1.visit_number = 1\n",
    "    order by 1, 4\"\"\"\n",
    "df = db.get_sql_dataframe(sql)\n",
    "#df.to_csv('customer_retention_prod/data/data.csv')"
   ],
   "outputs": [
    {
     "output_type": "stream",
     "name": "stderr",
     "text": [
      "2021-08-09 17:00:22,429| ERROR   | Password is required for key /Users/adhamsuliman/.ssh/id_rsa\n"
     ]
    }
   ],
   "metadata": {
    "collapsed": false,
    "pycharm": {
     "name": "#%%\n"
    }
   }
  },
  {
   "cell_type": "code",
   "execution_count": 137,
   "source": [
    "df['total_future_spend'] = df.total_future_spend.apply(lambda x: 5000 if x > 5000 else x)\n",
    "df['total_future_spend'] = df.total_future_spend.apply(lambda x: 0 if x < 0 else x)\n",
    "df = df[((df.ani_age.notnull()) & (df.weight.notnull()))]"
   ],
   "outputs": [],
   "metadata": {}
  },
  {
   "cell_type": "markdown",
   "source": [
    "## Exploratoy Data Analysis\n",
    "#### Amount of time between first and second appointment\n"
   ],
   "metadata": {
    "collapsed": false,
    "pycharm": {
     "name": "#%%\n"
    }
   }
  },
  {
   "cell_type": "markdown",
   "source": [
    "df_valid = df[df.datetime<datetime.date(datetime.date.today().year-1 , datetime.date.today().month+6, datetime.date.today().day)]\n",
    "#df_valid = df[df.datetime<datetime.date(datetime.date.today().year-1 , datetime.date.today().month, datetime.date.today().day)]\n",
    "df = df.merge(df_valid['animal_id']).copy()\n",
    "\n",
    "len(df.animal_id.unique())"
   ],
   "metadata": {}
  },
  {
   "cell_type": "code",
   "execution_count": 138,
   "source": [
    "len(df.uid.unique())"
   ],
   "outputs": [
    {
     "output_type": "execute_result",
     "data": {
      "text/plain": [
       "4359"
      ]
     },
     "metadata": {},
     "execution_count": 138
    }
   ],
   "metadata": {}
  },
  {
   "cell_type": "markdown",
   "source": [
    "sns.histplot(data=df[df.visit_number==1],x='datetime').set(title='First Visit')\n",
    "plt.xticks(rotation=45)\n",
    "plt.show()"
   ],
   "metadata": {}
  },
  {
   "cell_type": "markdown",
   "source": [
    "df_visit_1 = df[df.visit_number == 1]\n",
    "df_visit_2 = df[df.visit_number == 2]\n",
    "df_diff = df_visit_1[['uid','datetime']].merge(df_visit_2[['uid','datetime']], on='uid').drop_duplicates()\n",
    "df_diff['date'] = df_diff.apply(lambda x: x.datetime_y -x.datetime_x, axis = 1 )\n",
    "df_diff['date'].astype('timedelta64[D]').plot.hist(bins = 50).set(title='Number of Days Between Visit')\n",
    "plt.xticks(np.arange(0, 300, 30), rotation=45)\n",
    "#plt.yticks(np.arange(0,16,1))"
   ],
   "metadata": {}
  },
  {
   "cell_type": "markdown",
   "source": [
    "## Remove records where species equivalent to 0.0 and weight equivalent to"
   ],
   "metadata": {}
  },
  {
   "cell_type": "code",
   "execution_count": 139,
   "source": [
    "df[['uid','breed']].drop_duplicates().breed.nunique()"
   ],
   "outputs": [
    {
     "output_type": "execute_result",
     "data": {
      "text/plain": [
       "762"
      ]
     },
     "metadata": {},
     "execution_count": 139
    }
   ],
   "metadata": {}
  },
  {
   "cell_type": "markdown",
   "source": [],
   "metadata": {}
  },
  {
   "cell_type": "markdown",
   "source": [
    "working = ['Alaskan Malamute', 'Siberian Huskie','husky', 'Great Dane', 'Doberman', 'Rottweiler', 'Akita', 'Anatolian Shepherd', 'Huskie', 'Saint Bernard', 'Mastiff', 'Bernard','Portuguese Water Dog', 'German Pinscher', 'Great Pyrenee', 'Giant Schnauzer', 'Greater Swiss Mountain Dog', 'Newfoundland', 'Samoyed', 'Bullmastiff', 'Bernese Mountain Dog','mountain curr','point','Large']\n",
    "herding =  ['Australian Cattle Dog', 'Australian Shepherd', 'Collie', 'Shetland Sheepdog', 'Pembroke Welsh Corgi', 'Cardigan Welsh Corgi', 'Old English Sheepdog', 'Belgian Tervuren', 'Canaan Dog', 'Briard', 'Bouvier des Flandre', 'Belgian Malinoi', 'German Shepherd','corgi','boxer','sheep','shep','aussie','shetland','auusie']\n",
    "hound = ['Basset Hound', 'Saluki', 'Beagle', 'Harrier', 'American Foxhound', 'English Foxhound', 'Bloodhound', 'Irish Wolfhound', 'Dachshund', 'Otterhound', 'Norwegian Elkhound', 'Greyhound', 'Italian Greyhound', 'Whippet', 'Afghan Hound', 'Borzois Hound', 'Coonhound', 'Rhodesian Ridgeback', 'Petit Basset Griffon Vendéen', 'Basenji','hound']\n",
    "sporting = ['Cocker', 'Irish Setter',  'English Springer Spaniel', 'Clumber Spaniel', 'German Shorthaired Pointer', 'German Wirehaired Pointer', 'American Water Spaniel', 'Weimaraner', 'Retriever', 'Chesapeake Bay Retriever', 'English Setter', 'staffordshire']\n",
    "non_sporting =  ['Dalmatian', 'Chow Chow', 'Finnish Spitz', 'Shar Pei', 'American Bulldog', 'Poodle', 'Boston Terrier', 'Lhasa Apso', 'Shiba Inu', 'French Bulldog', 'Schipperke', 'American Eskimo Dog']\n",
    "toy =  ['Chihuahua', 'Pomeranian', 'Maltese', 'Cavalier King Charles Spaniel', 'Silky Terrier', 'Chinese Crested Dog', 'Miniature Schnauzer', 'Bichon Frise', 'Yorkshire Terrier', 'Pekingese', 'Shih Tzu', 'Japanese Chin', 'Havanese', 'Miniature Pinscher', 'Brussels Griffon', 'Papillon', 'Affenpinscher', 'Pug','doodle','yorkie','shih','shitzu','poo','schnoodle','mini aussie','crested','pom','shorkie','mini','teddy','small','chorkie','chi','tibetan','dachs','toy','bichon','yorki']\n",
    "terrier =  ['Airedale Terrier', 'American Staffordshire Terrier', 'Jack Russell', 'Bull Terrier', 'pit bull', 'pitbull' 'Fox Terrier', 'Wheaten Terrier', 'Cairn Terrier', 'West Highland White Terrier', 'Australian Terrier', 'Border Terrier', 'Staffordshire Bull Terrier', 'Bedlington Terrier', 'Kerry Blue Terrier', 'Rat Terrier', 'Scottish Terrier','Bull','blue terr', \"terrier\",'pit']\n",
    "companion = ['mutt', 'goldon', 'Lab']\n",
    "cat =  ['cat','siamese'] \n",
    "\n",
    "\n",
    "working = [x.lower() for x in working]\n",
    "herding =  [x.lower() for x in herding]\n",
    "hound = [x.lower() for x in hound]\n",
    "sporting = [x.lower() for x in sporting]\n",
    "non_sporting = [x.lower() for x in non_sporting]\n",
    "toy = [x.lower() for x in toy]\n",
    "terrier = [x.lower() for x in terrier]"
   ],
   "metadata": {}
  },
  {
   "cell_type": "markdown",
   "source": [
    "df['working'] = df['breed'].apply(lambda x: 1 if any(ext in x.lower() for ext in working) else 0)\n",
    "df['herding'] = df['breed'].apply(lambda x: 1 if any(ext in x.lower() for ext in herding) else 0)\n",
    "df['hound'] = df['breed'].apply(lambda x: 1 if any(ext in x.lower() for ext in hound) else 0)\n",
    "df['sporting'] = df['breed'].apply(lambda x: 1 if any(ext in x.lower() for ext in sporting) else 0)\n",
    "df['non_sporting'] = df['breed'].apply(lambda x: 1 if any(ext in x.lower() for ext in non_sporting) else 0)\n",
    "df['toy'] = df['breed'].apply(lambda x: 1 if any(ext in x.lower() for ext in toy) else 0)\n",
    "df['terrier'] = df['breed'].apply(lambda x: 1 if any(ext in x.lower() for ext in terrier) else 0)\n",
    "df['cat'] = df['breed'].apply(lambda x: 1 if any(ext in x.lower() for ext in cat) else 0)"
   ],
   "metadata": {}
  },
  {
   "cell_type": "markdown",
   "source": [
    "print(df[((df.working != 1) & (df.herding != 1) &  (df.hound != 1) & (df.sporting != 1) & (df.non_sporting != 1) & (df.toy != 1) & (df.terrier != 1) & (df.cat != 1))].breed.nunique(), \n",
    "df[((df.working != 1) & (df.herding != 1) &  (df.hound != 1) & (df.sporting != 1) & (df.non_sporting != 1) & (df.toy != 1) & (df.terrier != 1)& (df.cat != 1))].breed.unique())"
   ],
   "metadata": {}
  },
  {
   "cell_type": "markdown",
   "source": [
    "df[((df.working == 1) | (df.herding == 1) |  (df.hound == 1) | (df.sporting == 1) | (df.non_sporting == 1) | (df.toy == 1) | (df.terrier == 1))].breed.unique()"
   ],
   "metadata": {}
  },
  {
   "cell_type": "code",
   "execution_count": 140,
   "source": [
    "print(\n",
    "    f\" Original # of animals: {len(df)}\", '\\n',\n",
    "    f\"# of animal with weight = 0: {len(df[df.weight==0.0])}\", '\\n',\n",
    "    f\"# of animal with species = 0: {len(df[df.breed=='0.0'])}\")\n",
    "\n",
    "df = df[((df.weight!=0.0)&(df.breed!='0.0'))]"
   ],
   "outputs": [
    {
     "output_type": "stream",
     "name": "stdout",
     "text": [
      " Original # of animals: 15320 \n",
      " # of animal with weight = 0: 4964 \n",
      " # of animal with species = 0: 44\n"
     ]
    }
   ],
   "metadata": {}
  },
  {
   "cell_type": "code",
   "execution_count": 141,
   "source": [
    "df.columns"
   ],
   "outputs": [
    {
     "output_type": "execute_result",
     "data": {
      "text/plain": [
       "Index(['uid', 'breed', 'ani_age', 'date', 'weight', 'is_medical',\n",
       "       'product_group', 'type_id', 'wellness_plan', 'months_a_member',\n",
       "       'visit_number', 'visit_more_than_once', 'max_num_visit',\n",
       "       'first_visit_spend', 'total_future_spend'],\n",
       "      dtype='object')"
      ]
     },
     "metadata": {},
     "execution_count": 141
    }
   ],
   "metadata": {}
  },
  {
   "cell_type": "code",
   "execution_count": 165,
   "source": [
    "#df_product = pd.get_dummies(df1.name)\n",
    "df_ = df[df.visit_number==1][['uid','ani_age','weight','is_medical','product_group','type_id','wellness_plan','first_visit_spend','total_future_spend']]\n",
    "#print(df_[['uid','ani_age','weight','first_visit_spend','total_future_spend','is_medical']].drop_duplicates().shape)\n",
    "df_main = df_.groupby(['uid','ani_age','weight','first_visit_spend','total_future_spend'], as_index=False)['is_medical'].max()\n",
    "#df_main.shape"
   ],
   "outputs": [
    {
     "output_type": "stream",
     "name": "stdout",
     "text": [
      "(3238, 6)\n"
     ]
    },
    {
     "output_type": "execute_result",
     "data": {
      "text/plain": [
       "(2973, 6)"
      ]
     },
     "metadata": {},
     "execution_count": 165
    }
   ],
   "metadata": {
    "collapsed": false,
    "pycharm": {
     "name": "#%%\n"
    }
   }
  },
  {
   "cell_type": "code",
   "execution_count": 166,
   "source": [
    "df_product_group = pd.get_dummies(df_.product_group)\n",
    "df_type = pd.get_dummies(df.type_id)\n",
    "df_ = pd.concat([df_[['uid']],\n",
    "                df_type, \n",
    "                df_product_group], axis = 1)#.fillna(0)\n",
    "df__ = df_.groupby(['uid']).sum()\n",
    "df_final = df_main.merge(df__, \n",
    "                on = 'uid',)\n",
    "print(df_final.shape)"
   ],
   "outputs": [
    {
     "output_type": "stream",
     "name": "stdout",
     "text": [
      "(2973, 71)\n"
     ]
    }
   ],
   "metadata": {}
  },
  {
   "cell_type": "markdown",
   "source": [
    "Annual/Wellness Exam',\\n 'Cancellation',\\n 'Drop Off',\\n 'Euthanasia',\\n 'Exam - New Patient (Adult)',\\n 'Exam - New Puppy/Kitten',\\n 'Exam - Post-Op Recheck',\\n 'Exam - Puppy/Kitten Boosters',\\n 'Exam and Vaccination Booster',\\n 'House Call - Appointments',\\n 'Recheck',\\n 'Sedated Radiographs',\\n 'Sick Exam',\\n 'Surgery',\\n 'Surgery - Dog Spay (40min)',\\n 'Surgery - Soft Tissue - (60min)',\\n 'Surgery - Soft Tissue - (90min)',\\n 'Surgery Recheck',\\n 'Tech Appointment',\\n 'VetsNow Referral In Person',\\n 'VetsNow Referral Pet Taxi',\\n 'dental',\\n 'groom',\\n 'neurtering',\\n 'Add- On Services',\\n 'Administration',\\n 'Anesthesia & Sedation',\\n 'Boarding ',\\n 'Breeder/Rescue Packages',\\n 'Daycare',\\n 'Daycare Packages',\\n 'Dentistry & Oral Surgery',\\n 'Diagnostics',\\n 'Euthanasia & Cremation',\\n 'Grooming (Full Service)',\\n 'Hospital Supplies',\\n 'Imaging',\\n 'Laboratory - Antech',\\n 'Laboratory - In-house',\\n 'Medications - Injectable',\\n 'Medications - Oral',\\n 'Medications - Topical',\\n 'Parasite Control',\\n 'Professional Services',\\n 'Promotions',\\n 'RX Diets',\\n 'Referrals - C2C',\\n 'Referrals - E2C',\\n 'Retail (Baked Goods)',\\n 'Retail (Cat Food)',\\n 'Retail (Dog Food)',\\n 'Retail (Medical Crossover)',\\n 'Retail (Other)',\\n 'Retail (Plush Toys)',\\n 'Retail (Rawhide/Dental)',\\n 'Retail (Toys)',\\n 'Retail (Treats)',\\n 'Staff Bath',\\n 'Supplements/OTCs',\\n 'Surgical Services',\\n 'Tips',\\n 'To Print',\\n 'Vaccinations',\\n 'Wellness Plan Fees',\\n 'to print']\""
   ],
   "metadata": {}
  },
  {
   "cell_type": "code",
   "execution_count": 168,
   "source": [
    "        bins = [0, 100, 200, 300, 1000, 99999]\n",
    "        labels = [0, 1, 2, 3, 4]\n",
    "        df_final['total_future_spend_bin'] = pd.cut(df_final['total_future_spend'], bins=bins, include_lowest=True,labels=labels)\n",
    "        print(f\"Value Counts for labels: {df_final['total_future_spend_bin'].value_counts()}\")"
   ],
   "outputs": [
    {
     "output_type": "stream",
     "name": "stdout",
     "text": [
      "Value Counts for labels: 0    1942\n",
      "3     450\n",
      "1     272\n",
      "2     163\n",
      "4     146\n",
      "Name: total_future_spend_bin, dtype: int64\n"
     ]
    }
   ],
   "metadata": {}
  },
  {
   "cell_type": "code",
   "execution_count": 169,
   "source": [
    "final_columns = list(df_final.columns)\n",
    "for i in ['uid','total_future_spend','total_future_spend_bin']:\n",
    "    final_columns.remove(i)\n",
    "\n",
    "X = df_final[final_columns]\n",
    "y = df_final['total_future_spend'].apply(lambda x: int(x))\n",
    "X_train, X_test, y_train, y_test = train_test_split(X,\n",
    "                                                    y,\n",
    "                                                    test_size = .2,\n",
    "                                                    random_state = 42)"
   ],
   "outputs": [],
   "metadata": {}
  },
  {
   "cell_type": "code",
   "execution_count": 170,
   "source": [
    "# Below will fail with a perfect separation error\n",
    "res = sm.OLS(y_train, X_train).fit()\n",
    "#res.params\n",
    "\n",
    "#res2 = sm.GLM(y_train, Xs, family=sm.families.Binomial()).fit_regularized(L1_wt=0.0, alpha=0.1)\n",
    "#params = res2.params"
   ],
   "outputs": [],
   "metadata": {
    "collapsed": false,
    "pycharm": {
     "name": "#%%\n"
    }
   }
  },
  {
   "cell_type": "code",
   "execution_count": 171,
   "source": [
    "res.summary()"
   ],
   "outputs": [
    {
     "output_type": "execute_result",
     "data": {
      "text/plain": [
       "<class 'statsmodels.iolib.summary.Summary'>\n",
       "\"\"\"\n",
       "                                 OLS Regression Results                                \n",
       "=======================================================================================\n",
       "Dep. Variable:     total_future_spend   R-squared (uncentered):                   0.251\n",
       "Model:                            OLS   Adj. R-squared (uncentered):              0.230\n",
       "Method:                 Least Squares   F-statistic:                              11.90\n",
       "Date:                Mon, 09 Aug 2021   Prob (F-statistic):                   1.54e-102\n",
       "Time:                        17:13:26   Log-Likelihood:                         -17943.\n",
       "No. Observations:                2378   AIC:                                  3.602e+04\n",
       "Df Residuals:                    2313   BIC:                                  3.639e+04\n",
       "Df Model:                          65                                                  \n",
       "Covariance Type:            nonrobust                                                  \n",
       "===================================================================================================\n",
       "                                      coef    std err          t      P>|t|      [0.025      0.975]\n",
       "---------------------------------------------------------------------------------------------------\n",
       "ani_age                             1.9712      1.960      1.006      0.315      -1.872       5.814\n",
       "weight                             -0.1084      0.210     -0.515      0.606      -0.521       0.304\n",
       "first_visit_spend                   0.7491      0.099      7.570      0.000       0.555       0.943\n",
       "is_medical                        156.7393     39.591      3.959      0.000      79.102     234.377\n",
       "Annual/Wellness Exam              -17.6722     39.626     -0.446      0.656     -95.378      60.034\n",
       "Cancellation                       -2.8051     15.205     -0.184      0.854     -32.622      27.012\n",
       "Drop Off                        -8.423e-13   7.89e-12     -0.107      0.915   -1.63e-11    1.46e-11\n",
       "Euthanasia                        -34.6934     31.060     -1.117      0.264     -95.602      26.215\n",
       "Exam - New Patient (Adult)          4.3092     10.458      0.412      0.680     -16.200      24.818\n",
       "Exam - New Puppy/Kitten             2.8632     13.491      0.212      0.832     -23.593      29.319\n",
       "Exam - Post-Op Recheck            -12.1838    467.412     -0.026      0.979    -928.774     904.406\n",
       "Exam - Puppy/Kitten Boosters      -11.2066     36.798     -0.305      0.761     -83.367      60.954\n",
       "Exam and Vaccination Booster     1.742e-13   6.16e-13      0.283      0.777   -1.03e-12    1.38e-12\n",
       "House Call - Appointments       -5.519e-13    2.6e-12     -0.212      0.832   -5.65e-12    4.55e-12\n",
       "Recheck                            15.1874     13.778      1.102      0.270     -11.830      42.205\n",
       "Sedated Radiographs               -25.4008     66.674     -0.381      0.703    -156.148     105.346\n",
       "Sick Exam                          -0.7620     12.099     -0.063      0.950     -24.489      22.965\n",
       "Surgery                           -97.2886    208.195     -0.467      0.640    -505.556     310.979\n",
       "Surgery - Dog Spay (40min)        -24.6885    164.453     -0.150      0.881    -347.180     297.803\n",
       "Surgery - Soft Tissue - (60min)    27.4837     58.135      0.473      0.636     -86.519     141.486\n",
       "Surgery - Soft Tissue - (90min)  1.499e-13   2.59e-13      0.579      0.563   -3.58e-13    6.58e-13\n",
       "Surgery Recheck                   -32.6581     69.669     -0.469      0.639    -169.279     103.963\n",
       "Tech Appointment                    0.9752     17.851      0.055      0.956     -34.031      35.981\n",
       "VetsNow Referral In Person          4.0662     21.418      0.190      0.849     -37.934      46.067\n",
       "VetsNow Referral Pet Taxi         -12.5243     32.667     -0.383      0.701     -76.584      51.536\n",
       "dental                            -45.4605    109.905     -0.414      0.679    -260.984     170.063\n",
       "groom                               4.1711      5.077      0.822      0.411      -5.785      14.127\n",
       "neurtering                        -22.1685     37.763     -0.587      0.557     -96.221      51.884\n",
       "Add- On Services                 -296.5618    166.119     -1.785      0.074    -622.320      29.196\n",
       "Administration                   -114.1353    464.851     -0.246      0.806   -1025.704     797.434\n",
       "Anesthesia & Sedation              65.2408    104.309      0.625      0.532    -139.308     269.790\n",
       "Boarding                           56.5410     23.127      2.445      0.015      11.189     101.893\n",
       "Breeder/Rescue Packages            33.3654    103.305      0.323      0.747    -169.214     235.945\n",
       "Daycare                           307.6285     22.405     13.730      0.000     263.692     351.565\n",
       "Daycare Packages                   -7.5898     50.019     -0.152      0.879    -105.676      90.496\n",
       "Dentistry & Oral Surgery          -39.2429     33.803     -1.161      0.246    -105.531      27.045\n",
       "Diagnostics                       -25.9604     30.473     -0.852      0.394     -85.718      33.797\n",
       "Euthanasia & Cremation           -112.3151     43.091     -2.606      0.009    -196.817     -27.814\n",
       "Grooming (Full Service)            67.2136     25.624      2.623      0.009      16.965     117.462\n",
       "Hospital Supplies                 -85.2176    101.864     -0.837      0.403    -284.971     114.536\n",
       "Imaging                          -113.8850     81.016     -1.406      0.160    -272.756      44.986\n",
       "Laboratory - Antech                19.7237     33.304      0.592      0.554     -45.585      85.032\n",
       "Laboratory - In-house             -81.6715     31.998     -2.552      0.011    -144.420     -18.923\n",
       "Medications - Injectable          -28.5908     30.596     -0.934      0.350     -88.588      31.407\n",
       "Medications - Oral                -28.3336     19.818     -1.430      0.153     -67.197      10.530\n",
       "Medications - Topical              -2.7122     29.345     -0.092      0.926     -60.257      54.833\n",
       "Parasite Control                   28.1388     26.923      1.045      0.296     -24.657      80.934\n",
       "Professional Services             -64.2176     23.736     -2.706      0.007    -110.763     -17.672\n",
       "Promotions                         87.9170     34.685      2.535      0.011      19.900     155.934\n",
       "RX Diets                           28.5018     73.633      0.387      0.699    -115.891     172.894\n",
       "Referrals - C2C                   119.0448    465.385      0.256      0.798    -793.571    1031.661\n",
       "Referrals - E2C                  -123.8517    468.679     -0.264      0.792   -1042.927     795.224\n",
       "Retail (Baked Goods)               47.7001     82.558      0.578      0.563    -114.195     209.595\n",
       "Retail (Cat Food)                -145.4690    123.278     -1.180      0.238    -387.215      96.277\n",
       "Retail (Dog Food)                 -52.1766     73.627     -0.709      0.479    -196.558      92.205\n",
       "Retail (Medical Crossover)        -54.9434     79.342     -0.692      0.489    -210.532     100.645\n",
       "Retail (Other)                     54.7196     58.072      0.942      0.346     -59.159     168.598\n",
       "Retail (Plush Toys)                10.7796     82.935      0.130      0.897    -151.855     173.414\n",
       "Retail (Rawhide/Dental)            22.6255     64.907      0.349      0.727    -104.656     149.907\n",
       "Retail (Toys)                     -48.4866     74.021     -0.655      0.513    -193.640      96.667\n",
       "Retail (Treats)                   -20.6277     64.739     -0.319      0.750    -147.580     106.325\n",
       "Staff Bath                         16.7871     22.475      0.747      0.455     -27.286      60.861\n",
       "Supplements/OTCs                  -38.3576     62.461     -0.614      0.539    -160.844      84.128\n",
       "Surgical Services                -172.7345    108.018     -1.599      0.110    -384.557      39.088\n",
       "Tips                              -36.8078     48.128     -0.765      0.444    -131.187      57.572\n",
       "To Print                         -234.6137    471.522     -0.498      0.619   -1159.263     690.036\n",
       "Vaccinations                      -45.4230     15.213     -2.986      0.003     -75.255     -15.591\n",
       "Wellness Plan Fees                  6.8426     18.750      0.365      0.715     -29.926      43.611\n",
       "to print                          -48.9678    276.101     -0.177      0.859    -590.399     492.463\n",
       "==============================================================================\n",
       "Omnibus:                     2158.735   Durbin-Watson:                   1.934\n",
       "Prob(Omnibus):                  0.000   Jarque-Bera (JB):            90439.529\n",
       "Skew:                           4.232   Prob(JB):                         0.00\n",
       "Kurtosis:                      32.002   Cond. No.                     1.32e+16\n",
       "==============================================================================\n",
       "\n",
       "Notes:\n",
       "[1] R² is computed without centering (uncentered) since the model does not contain a constant.\n",
       "[2] Standard Errors assume that the covariance matrix of the errors is correctly specified.\n",
       "[3] The smallest eigenvalue is 5.58e-25. This might indicate that there are\n",
       "strong multicollinearity problems or that the design matrix is singular.\n",
       "\"\"\""
      ],
      "text/html": [
       "<table class=\"simpletable\">\n",
       "<caption>OLS Regression Results</caption>\n",
       "<tr>\n",
       "  <th>Dep. Variable:</th>    <td>total_future_spend</td> <th>  R-squared (uncentered):</th>      <td>   0.251</td> \n",
       "</tr>\n",
       "<tr>\n",
       "  <th>Model:</th>                    <td>OLS</td>        <th>  Adj. R-squared (uncentered):</th> <td>   0.230</td> \n",
       "</tr>\n",
       "<tr>\n",
       "  <th>Method:</th>              <td>Least Squares</td>   <th>  F-statistic:       </th>          <td>   11.90</td> \n",
       "</tr>\n",
       "<tr>\n",
       "  <th>Date:</th>              <td>Mon, 09 Aug 2021</td>  <th>  Prob (F-statistic):</th>          <td>1.54e-102</td>\n",
       "</tr>\n",
       "<tr>\n",
       "  <th>Time:</th>                  <td>17:13:26</td>      <th>  Log-Likelihood:    </th>          <td> -17943.</td> \n",
       "</tr>\n",
       "<tr>\n",
       "  <th>No. Observations:</th>       <td>  2378</td>       <th>  AIC:               </th>          <td>3.602e+04</td>\n",
       "</tr>\n",
       "<tr>\n",
       "  <th>Df Residuals:</th>           <td>  2313</td>       <th>  BIC:               </th>          <td>3.639e+04</td>\n",
       "</tr>\n",
       "<tr>\n",
       "  <th>Df Model:</th>               <td>    65</td>       <th>                     </th>              <td> </td>    \n",
       "</tr>\n",
       "<tr>\n",
       "  <th>Covariance Type:</th>       <td>nonrobust</td>     <th>                     </th>              <td> </td>    \n",
       "</tr>\n",
       "</table>\n",
       "<table class=\"simpletable\">\n",
       "<tr>\n",
       "                 <td></td>                    <th>coef</th>     <th>std err</th>      <th>t</th>      <th>P>|t|</th>  <th>[0.025</th>    <th>0.975]</th>  \n",
       "</tr>\n",
       "<tr>\n",
       "  <th>ani_age</th>                         <td>    1.9712</td> <td>    1.960</td> <td>    1.006</td> <td> 0.315</td> <td>   -1.872</td> <td>    5.814</td>\n",
       "</tr>\n",
       "<tr>\n",
       "  <th>weight</th>                          <td>   -0.1084</td> <td>    0.210</td> <td>   -0.515</td> <td> 0.606</td> <td>   -0.521</td> <td>    0.304</td>\n",
       "</tr>\n",
       "<tr>\n",
       "  <th>first_visit_spend</th>               <td>    0.7491</td> <td>    0.099</td> <td>    7.570</td> <td> 0.000</td> <td>    0.555</td> <td>    0.943</td>\n",
       "</tr>\n",
       "<tr>\n",
       "  <th>is_medical</th>                      <td>  156.7393</td> <td>   39.591</td> <td>    3.959</td> <td> 0.000</td> <td>   79.102</td> <td>  234.377</td>\n",
       "</tr>\n",
       "<tr>\n",
       "  <th>Annual/Wellness Exam</th>            <td>  -17.6722</td> <td>   39.626</td> <td>   -0.446</td> <td> 0.656</td> <td>  -95.378</td> <td>   60.034</td>\n",
       "</tr>\n",
       "<tr>\n",
       "  <th>Cancellation</th>                    <td>   -2.8051</td> <td>   15.205</td> <td>   -0.184</td> <td> 0.854</td> <td>  -32.622</td> <td>   27.012</td>\n",
       "</tr>\n",
       "<tr>\n",
       "  <th>Drop Off</th>                        <td>-8.423e-13</td> <td> 7.89e-12</td> <td>   -0.107</td> <td> 0.915</td> <td>-1.63e-11</td> <td> 1.46e-11</td>\n",
       "</tr>\n",
       "<tr>\n",
       "  <th>Euthanasia</th>                      <td>  -34.6934</td> <td>   31.060</td> <td>   -1.117</td> <td> 0.264</td> <td>  -95.602</td> <td>   26.215</td>\n",
       "</tr>\n",
       "<tr>\n",
       "  <th>Exam - New Patient (Adult)</th>      <td>    4.3092</td> <td>   10.458</td> <td>    0.412</td> <td> 0.680</td> <td>  -16.200</td> <td>   24.818</td>\n",
       "</tr>\n",
       "<tr>\n",
       "  <th>Exam - New Puppy/Kitten</th>         <td>    2.8632</td> <td>   13.491</td> <td>    0.212</td> <td> 0.832</td> <td>  -23.593</td> <td>   29.319</td>\n",
       "</tr>\n",
       "<tr>\n",
       "  <th>Exam - Post-Op Recheck</th>          <td>  -12.1838</td> <td>  467.412</td> <td>   -0.026</td> <td> 0.979</td> <td> -928.774</td> <td>  904.406</td>\n",
       "</tr>\n",
       "<tr>\n",
       "  <th>Exam - Puppy/Kitten Boosters</th>    <td>  -11.2066</td> <td>   36.798</td> <td>   -0.305</td> <td> 0.761</td> <td>  -83.367</td> <td>   60.954</td>\n",
       "</tr>\n",
       "<tr>\n",
       "  <th>Exam and Vaccination Booster</th>    <td> 1.742e-13</td> <td> 6.16e-13</td> <td>    0.283</td> <td> 0.777</td> <td>-1.03e-12</td> <td> 1.38e-12</td>\n",
       "</tr>\n",
       "<tr>\n",
       "  <th>House Call - Appointments</th>       <td>-5.519e-13</td> <td>  2.6e-12</td> <td>   -0.212</td> <td> 0.832</td> <td>-5.65e-12</td> <td> 4.55e-12</td>\n",
       "</tr>\n",
       "<tr>\n",
       "  <th>Recheck</th>                         <td>   15.1874</td> <td>   13.778</td> <td>    1.102</td> <td> 0.270</td> <td>  -11.830</td> <td>   42.205</td>\n",
       "</tr>\n",
       "<tr>\n",
       "  <th>Sedated Radiographs</th>             <td>  -25.4008</td> <td>   66.674</td> <td>   -0.381</td> <td> 0.703</td> <td> -156.148</td> <td>  105.346</td>\n",
       "</tr>\n",
       "<tr>\n",
       "  <th>Sick Exam</th>                       <td>   -0.7620</td> <td>   12.099</td> <td>   -0.063</td> <td> 0.950</td> <td>  -24.489</td> <td>   22.965</td>\n",
       "</tr>\n",
       "<tr>\n",
       "  <th>Surgery</th>                         <td>  -97.2886</td> <td>  208.195</td> <td>   -0.467</td> <td> 0.640</td> <td> -505.556</td> <td>  310.979</td>\n",
       "</tr>\n",
       "<tr>\n",
       "  <th>Surgery - Dog Spay (40min)</th>      <td>  -24.6885</td> <td>  164.453</td> <td>   -0.150</td> <td> 0.881</td> <td> -347.180</td> <td>  297.803</td>\n",
       "</tr>\n",
       "<tr>\n",
       "  <th>Surgery - Soft Tissue - (60min)</th> <td>   27.4837</td> <td>   58.135</td> <td>    0.473</td> <td> 0.636</td> <td>  -86.519</td> <td>  141.486</td>\n",
       "</tr>\n",
       "<tr>\n",
       "  <th>Surgery - Soft Tissue - (90min)</th> <td> 1.499e-13</td> <td> 2.59e-13</td> <td>    0.579</td> <td> 0.563</td> <td>-3.58e-13</td> <td> 6.58e-13</td>\n",
       "</tr>\n",
       "<tr>\n",
       "  <th>Surgery Recheck</th>                 <td>  -32.6581</td> <td>   69.669</td> <td>   -0.469</td> <td> 0.639</td> <td> -169.279</td> <td>  103.963</td>\n",
       "</tr>\n",
       "<tr>\n",
       "  <th>Tech Appointment</th>                <td>    0.9752</td> <td>   17.851</td> <td>    0.055</td> <td> 0.956</td> <td>  -34.031</td> <td>   35.981</td>\n",
       "</tr>\n",
       "<tr>\n",
       "  <th>VetsNow Referral In Person</th>      <td>    4.0662</td> <td>   21.418</td> <td>    0.190</td> <td> 0.849</td> <td>  -37.934</td> <td>   46.067</td>\n",
       "</tr>\n",
       "<tr>\n",
       "  <th>VetsNow Referral Pet Taxi</th>       <td>  -12.5243</td> <td>   32.667</td> <td>   -0.383</td> <td> 0.701</td> <td>  -76.584</td> <td>   51.536</td>\n",
       "</tr>\n",
       "<tr>\n",
       "  <th>dental</th>                          <td>  -45.4605</td> <td>  109.905</td> <td>   -0.414</td> <td> 0.679</td> <td> -260.984</td> <td>  170.063</td>\n",
       "</tr>\n",
       "<tr>\n",
       "  <th>groom</th>                           <td>    4.1711</td> <td>    5.077</td> <td>    0.822</td> <td> 0.411</td> <td>   -5.785</td> <td>   14.127</td>\n",
       "</tr>\n",
       "<tr>\n",
       "  <th>neurtering</th>                      <td>  -22.1685</td> <td>   37.763</td> <td>   -0.587</td> <td> 0.557</td> <td>  -96.221</td> <td>   51.884</td>\n",
       "</tr>\n",
       "<tr>\n",
       "  <th>Add- On Services</th>                <td> -296.5618</td> <td>  166.119</td> <td>   -1.785</td> <td> 0.074</td> <td> -622.320</td> <td>   29.196</td>\n",
       "</tr>\n",
       "<tr>\n",
       "  <th>Administration</th>                  <td> -114.1353</td> <td>  464.851</td> <td>   -0.246</td> <td> 0.806</td> <td>-1025.704</td> <td>  797.434</td>\n",
       "</tr>\n",
       "<tr>\n",
       "  <th>Anesthesia & Sedation</th>           <td>   65.2408</td> <td>  104.309</td> <td>    0.625</td> <td> 0.532</td> <td> -139.308</td> <td>  269.790</td>\n",
       "</tr>\n",
       "<tr>\n",
       "  <th>Boarding </th>                       <td>   56.5410</td> <td>   23.127</td> <td>    2.445</td> <td> 0.015</td> <td>   11.189</td> <td>  101.893</td>\n",
       "</tr>\n",
       "<tr>\n",
       "  <th>Breeder/Rescue Packages</th>         <td>   33.3654</td> <td>  103.305</td> <td>    0.323</td> <td> 0.747</td> <td> -169.214</td> <td>  235.945</td>\n",
       "</tr>\n",
       "<tr>\n",
       "  <th>Daycare</th>                         <td>  307.6285</td> <td>   22.405</td> <td>   13.730</td> <td> 0.000</td> <td>  263.692</td> <td>  351.565</td>\n",
       "</tr>\n",
       "<tr>\n",
       "  <th>Daycare Packages</th>                <td>   -7.5898</td> <td>   50.019</td> <td>   -0.152</td> <td> 0.879</td> <td> -105.676</td> <td>   90.496</td>\n",
       "</tr>\n",
       "<tr>\n",
       "  <th>Dentistry & Oral Surgery</th>        <td>  -39.2429</td> <td>   33.803</td> <td>   -1.161</td> <td> 0.246</td> <td> -105.531</td> <td>   27.045</td>\n",
       "</tr>\n",
       "<tr>\n",
       "  <th>Diagnostics</th>                     <td>  -25.9604</td> <td>   30.473</td> <td>   -0.852</td> <td> 0.394</td> <td>  -85.718</td> <td>   33.797</td>\n",
       "</tr>\n",
       "<tr>\n",
       "  <th>Euthanasia & Cremation</th>          <td> -112.3151</td> <td>   43.091</td> <td>   -2.606</td> <td> 0.009</td> <td> -196.817</td> <td>  -27.814</td>\n",
       "</tr>\n",
       "<tr>\n",
       "  <th>Grooming (Full Service)</th>         <td>   67.2136</td> <td>   25.624</td> <td>    2.623</td> <td> 0.009</td> <td>   16.965</td> <td>  117.462</td>\n",
       "</tr>\n",
       "<tr>\n",
       "  <th>Hospital Supplies</th>               <td>  -85.2176</td> <td>  101.864</td> <td>   -0.837</td> <td> 0.403</td> <td> -284.971</td> <td>  114.536</td>\n",
       "</tr>\n",
       "<tr>\n",
       "  <th>Imaging</th>                         <td> -113.8850</td> <td>   81.016</td> <td>   -1.406</td> <td> 0.160</td> <td> -272.756</td> <td>   44.986</td>\n",
       "</tr>\n",
       "<tr>\n",
       "  <th>Laboratory - Antech</th>             <td>   19.7237</td> <td>   33.304</td> <td>    0.592</td> <td> 0.554</td> <td>  -45.585</td> <td>   85.032</td>\n",
       "</tr>\n",
       "<tr>\n",
       "  <th>Laboratory - In-house</th>           <td>  -81.6715</td> <td>   31.998</td> <td>   -2.552</td> <td> 0.011</td> <td> -144.420</td> <td>  -18.923</td>\n",
       "</tr>\n",
       "<tr>\n",
       "  <th>Medications - Injectable</th>        <td>  -28.5908</td> <td>   30.596</td> <td>   -0.934</td> <td> 0.350</td> <td>  -88.588</td> <td>   31.407</td>\n",
       "</tr>\n",
       "<tr>\n",
       "  <th>Medications - Oral</th>              <td>  -28.3336</td> <td>   19.818</td> <td>   -1.430</td> <td> 0.153</td> <td>  -67.197</td> <td>   10.530</td>\n",
       "</tr>\n",
       "<tr>\n",
       "  <th>Medications - Topical</th>           <td>   -2.7122</td> <td>   29.345</td> <td>   -0.092</td> <td> 0.926</td> <td>  -60.257</td> <td>   54.833</td>\n",
       "</tr>\n",
       "<tr>\n",
       "  <th>Parasite Control</th>                <td>   28.1388</td> <td>   26.923</td> <td>    1.045</td> <td> 0.296</td> <td>  -24.657</td> <td>   80.934</td>\n",
       "</tr>\n",
       "<tr>\n",
       "  <th>Professional Services</th>           <td>  -64.2176</td> <td>   23.736</td> <td>   -2.706</td> <td> 0.007</td> <td> -110.763</td> <td>  -17.672</td>\n",
       "</tr>\n",
       "<tr>\n",
       "  <th>Promotions</th>                      <td>   87.9170</td> <td>   34.685</td> <td>    2.535</td> <td> 0.011</td> <td>   19.900</td> <td>  155.934</td>\n",
       "</tr>\n",
       "<tr>\n",
       "  <th>RX Diets</th>                        <td>   28.5018</td> <td>   73.633</td> <td>    0.387</td> <td> 0.699</td> <td> -115.891</td> <td>  172.894</td>\n",
       "</tr>\n",
       "<tr>\n",
       "  <th>Referrals - C2C</th>                 <td>  119.0448</td> <td>  465.385</td> <td>    0.256</td> <td> 0.798</td> <td> -793.571</td> <td> 1031.661</td>\n",
       "</tr>\n",
       "<tr>\n",
       "  <th>Referrals - E2C</th>                 <td> -123.8517</td> <td>  468.679</td> <td>   -0.264</td> <td> 0.792</td> <td>-1042.927</td> <td>  795.224</td>\n",
       "</tr>\n",
       "<tr>\n",
       "  <th>Retail (Baked Goods)</th>            <td>   47.7001</td> <td>   82.558</td> <td>    0.578</td> <td> 0.563</td> <td> -114.195</td> <td>  209.595</td>\n",
       "</tr>\n",
       "<tr>\n",
       "  <th>Retail (Cat Food)</th>               <td> -145.4690</td> <td>  123.278</td> <td>   -1.180</td> <td> 0.238</td> <td> -387.215</td> <td>   96.277</td>\n",
       "</tr>\n",
       "<tr>\n",
       "  <th>Retail (Dog Food)</th>               <td>  -52.1766</td> <td>   73.627</td> <td>   -0.709</td> <td> 0.479</td> <td> -196.558</td> <td>   92.205</td>\n",
       "</tr>\n",
       "<tr>\n",
       "  <th>Retail (Medical Crossover)</th>      <td>  -54.9434</td> <td>   79.342</td> <td>   -0.692</td> <td> 0.489</td> <td> -210.532</td> <td>  100.645</td>\n",
       "</tr>\n",
       "<tr>\n",
       "  <th>Retail (Other)</th>                  <td>   54.7196</td> <td>   58.072</td> <td>    0.942</td> <td> 0.346</td> <td>  -59.159</td> <td>  168.598</td>\n",
       "</tr>\n",
       "<tr>\n",
       "  <th>Retail (Plush Toys)</th>             <td>   10.7796</td> <td>   82.935</td> <td>    0.130</td> <td> 0.897</td> <td> -151.855</td> <td>  173.414</td>\n",
       "</tr>\n",
       "<tr>\n",
       "  <th>Retail (Rawhide/Dental)</th>         <td>   22.6255</td> <td>   64.907</td> <td>    0.349</td> <td> 0.727</td> <td> -104.656</td> <td>  149.907</td>\n",
       "</tr>\n",
       "<tr>\n",
       "  <th>Retail (Toys)</th>                   <td>  -48.4866</td> <td>   74.021</td> <td>   -0.655</td> <td> 0.513</td> <td> -193.640</td> <td>   96.667</td>\n",
       "</tr>\n",
       "<tr>\n",
       "  <th>Retail (Treats)</th>                 <td>  -20.6277</td> <td>   64.739</td> <td>   -0.319</td> <td> 0.750</td> <td> -147.580</td> <td>  106.325</td>\n",
       "</tr>\n",
       "<tr>\n",
       "  <th>Staff Bath</th>                      <td>   16.7871</td> <td>   22.475</td> <td>    0.747</td> <td> 0.455</td> <td>  -27.286</td> <td>   60.861</td>\n",
       "</tr>\n",
       "<tr>\n",
       "  <th>Supplements/OTCs</th>                <td>  -38.3576</td> <td>   62.461</td> <td>   -0.614</td> <td> 0.539</td> <td> -160.844</td> <td>   84.128</td>\n",
       "</tr>\n",
       "<tr>\n",
       "  <th>Surgical Services</th>               <td> -172.7345</td> <td>  108.018</td> <td>   -1.599</td> <td> 0.110</td> <td> -384.557</td> <td>   39.088</td>\n",
       "</tr>\n",
       "<tr>\n",
       "  <th>Tips</th>                            <td>  -36.8078</td> <td>   48.128</td> <td>   -0.765</td> <td> 0.444</td> <td> -131.187</td> <td>   57.572</td>\n",
       "</tr>\n",
       "<tr>\n",
       "  <th>To Print</th>                        <td> -234.6137</td> <td>  471.522</td> <td>   -0.498</td> <td> 0.619</td> <td>-1159.263</td> <td>  690.036</td>\n",
       "</tr>\n",
       "<tr>\n",
       "  <th>Vaccinations</th>                    <td>  -45.4230</td> <td>   15.213</td> <td>   -2.986</td> <td> 0.003</td> <td>  -75.255</td> <td>  -15.591</td>\n",
       "</tr>\n",
       "<tr>\n",
       "  <th>Wellness Plan Fees</th>              <td>    6.8426</td> <td>   18.750</td> <td>    0.365</td> <td> 0.715</td> <td>  -29.926</td> <td>   43.611</td>\n",
       "</tr>\n",
       "<tr>\n",
       "  <th>to print</th>                        <td>  -48.9678</td> <td>  276.101</td> <td>   -0.177</td> <td> 0.859</td> <td> -590.399</td> <td>  492.463</td>\n",
       "</tr>\n",
       "</table>\n",
       "<table class=\"simpletable\">\n",
       "<tr>\n",
       "  <th>Omnibus:</th>       <td>2158.735</td> <th>  Durbin-Watson:     </th> <td>   1.934</td> \n",
       "</tr>\n",
       "<tr>\n",
       "  <th>Prob(Omnibus):</th>  <td> 0.000</td>  <th>  Jarque-Bera (JB):  </th> <td>90439.529</td>\n",
       "</tr>\n",
       "<tr>\n",
       "  <th>Skew:</th>           <td> 4.232</td>  <th>  Prob(JB):          </th> <td>    0.00</td> \n",
       "</tr>\n",
       "<tr>\n",
       "  <th>Kurtosis:</th>       <td>32.002</td>  <th>  Cond. No.          </th> <td>1.32e+16</td> \n",
       "</tr>\n",
       "</table><br/><br/>Notes:<br/>[1] R² is computed without centering (uncentered) since the model does not contain a constant.<br/>[2] Standard Errors assume that the covariance matrix of the errors is correctly specified.<br/>[3] The smallest eigenvalue is 5.58e-25. This might indicate that there are<br/>strong multicollinearity problems or that the design matrix is singular."
      ]
     },
     "metadata": {},
     "execution_count": 171
    }
   ],
   "metadata": {
    "collapsed": false,
    "pycharm": {
     "name": "#%%\n"
    }
   }
  },
  {
   "cell_type": "code",
   "execution_count": null,
   "source": [
    "\n"
   ],
   "outputs": [],
   "metadata": {
    "collapsed": false,
    "pycharm": {
     "name": "#%%\n"
    }
   }
  },
  {
   "cell_type": "code",
   "execution_count": 172,
   "source": [
    "import sklearn.metrics as metrics\n",
    "#Generate predictions with the model using our X values\n",
    "y_pred = res.predict(X_test)\n",
    "y_pred = [0 if x < 0 else x for x in y_pred]\n",
    "mae = metrics.mean_absolute_error(y_test, y_pred)\n",
    "mse = metrics.mean_squared_error(y_test, y_pred)\n",
    "rmse = np.sqrt(mse) # or mse**(0.5)  \n",
    "r2 = metrics.r2_score(y_test,y_pred)\n",
    "\n",
    "print(\"Results of sklearn.metrics:\")\n",
    "print(\"MAE:\",mae)\n",
    "print(\"MSE:\", mse)\n",
    "print(\"RMSE:\", rmse)\n",
    "#print(\"R-Squared:\", r2)"
   ],
   "outputs": [
    {
     "output_type": "stream",
     "name": "stdout",
     "text": [
      "Results of sklearn.metrics:\n",
      "MAE: 268.6001034788519\n",
      "MSE: 273728.0866906136\n",
      "RMSE: 523.190296823836\n"
     ]
    }
   ],
   "metadata": {}
  },
  {
   "cell_type": "code",
   "execution_count": 173,
   "source": [
    "y_test = list(y_test)"
   ],
   "outputs": [],
   "metadata": {}
  },
  {
   "cell_type": "code",
   "execution_count": 174,
   "source": [
    "\n",
    "# a list contains both even and odd numbers. \n",
    "seq = [0, 1, 2, 3, 5, 8, 13]\n",
    "  \n",
    "# result contains odd numbers of the list\n",
    "result = filter(lambda x: x % 2 != 0, seq)"
   ],
   "outputs": [],
   "metadata": {}
  },
  {
   "cell_type": "code",
   "execution_count": 175,
   "source": [
    "import seaborn\n",
    "y_test_ = [np.log(x) if x != 0 else 0 for x in y_test]\n",
    "seaborn.distplot(a=y_test_)"
   ],
   "outputs": [
    {
     "output_type": "execute_result",
     "data": {
      "text/plain": [
       "<AxesSubplot:ylabel='Density'>"
      ]
     },
     "metadata": {},
     "execution_count": 175
    },
    {
     "output_type": "display_data",
     "data": {
      "text/plain": [
       "<Figure size 432x288 with 1 Axes>"
      ],
      "image/svg+xml": "<?xml version=\"1.0\" encoding=\"utf-8\" standalone=\"no\"?>\n<!DOCTYPE svg PUBLIC \"-//W3C//DTD SVG 1.1//EN\"\n  \"http://www.w3.org/Graphics/SVG/1.1/DTD/svg11.dtd\">\n<!-- Created with matplotlib (https://matplotlib.org/) -->\n<svg height=\"248.518125pt\" version=\"1.1\" viewBox=\"0 0 392.14375 248.518125\" width=\"392.14375pt\" xmlns=\"http://www.w3.org/2000/svg\" xmlns:xlink=\"http://www.w3.org/1999/xlink\">\n <metadata>\n  <rdf:RDF xmlns:cc=\"http://creativecommons.org/ns#\" xmlns:dc=\"http://purl.org/dc/elements/1.1/\" xmlns:rdf=\"http://www.w3.org/1999/02/22-rdf-syntax-ns#\">\n   <cc:Work>\n    <dc:type rdf:resource=\"http://purl.org/dc/dcmitype/StillImage\"/>\n    <dc:date>2021-08-09T17:13:40.413564</dc:date>\n    <dc:format>image/svg+xml</dc:format>\n    <dc:creator>\n     <cc:Agent>\n      <dc:title>Matplotlib v3.3.4, https://matplotlib.org/</dc:title>\n     </cc:Agent>\n    </dc:creator>\n   </cc:Work>\n  </rdf:RDF>\n </metadata>\n <defs>\n  <style type=\"text/css\">*{stroke-linecap:butt;stroke-linejoin:round;}</style>\n </defs>\n <g id=\"figure_1\">\n  <g id=\"patch_1\">\n   <path d=\"M 0 248.518125 \nL 392.14375 248.518125 \nL 392.14375 0 \nL 0 0 \nz\n\" style=\"fill:none;\"/>\n  </g>\n  <g id=\"axes_1\">\n   <g id=\"patch_2\">\n    <path d=\"M 50.14375 224.64 \nL 384.94375 224.64 \nL 384.94375 7.2 \nL 50.14375 7.2 \nz\n\" style=\"fill:#ffffff;\"/>\n   </g>\n   <g id=\"patch_3\">\n    <path clip-path=\"url(#p086274b98e)\" d=\"M 119.830286 224.64 \nL 147.748418 224.64 \nL 147.748418 17.554286 \nL 119.830286 17.554286 \nz\n\" style=\"fill:#1f77b4;opacity:0.4;\"/>\n   </g>\n   <g id=\"patch_4\">\n    <path clip-path=\"url(#p086274b98e)\" d=\"M 147.748418 224.64 \nL 175.666551 224.64 \nL 175.666551 223.971982 \nL 147.748418 223.971982 \nz\n\" style=\"fill:#1f77b4;opacity:0.4;\"/>\n   </g>\n   <g id=\"patch_5\">\n    <path clip-path=\"url(#p086274b98e)\" d=\"M 175.666551 224.64 \nL 203.584684 224.64 \nL 203.584684 209.275576 \nL 175.666551 209.275576 \nz\n\" style=\"fill:#1f77b4;opacity:0.4;\"/>\n   </g>\n   <g id=\"patch_6\">\n    <path clip-path=\"url(#p086274b98e)\" d=\"M 203.584684 224.64 \nL 231.502816 224.64 \nL 231.502816 179.214747 \nL 203.584684 179.214747 \nz\n\" style=\"fill:#1f77b4;opacity:0.4;\"/>\n   </g>\n   <g id=\"patch_7\">\n    <path clip-path=\"url(#p086274b98e)\" d=\"M 231.502816 224.64 \nL 259.420949 224.64 \nL 259.420949 151.157972 \nL 231.502816 151.157972 \nz\n\" style=\"fill:#1f77b4;opacity:0.4;\"/>\n   </g>\n   <g id=\"patch_8\">\n    <path clip-path=\"url(#p086274b98e)\" d=\"M 259.420949 224.64 \nL 287.339082 224.64 \nL 287.339082 179.882765 \nL 259.420949 179.882765 \nz\n\" style=\"fill:#1f77b4;opacity:0.4;\"/>\n   </g>\n   <g id=\"patch_9\">\n    <path clip-path=\"url(#p086274b98e)\" d=\"M 287.339082 224.64 \nL 315.257214 224.64 \nL 315.257214 213.951705 \nL 287.339082 213.951705 \nz\n\" style=\"fill:#1f77b4;opacity:0.4;\"/>\n   </g>\n   <g id=\"matplotlib.axis_1\">\n    <g id=\"xtick_1\">\n     <g id=\"line2d_1\">\n      <defs>\n       <path d=\"M 0 0 \nL 0 3.5 \n\" id=\"md331208fef\" style=\"stroke:#000000;stroke-width:0.8;\"/>\n      </defs>\n      <g>\n       <use style=\"stroke:#000000;stroke-width:0.8;\" x=\"73.940302\" xlink:href=\"#md331208fef\" y=\"224.64\"/>\n      </g>\n     </g>\n     <g id=\"text_1\">\n      <!-- −2 -->\n      <g transform=\"translate(66.569208 239.238438)scale(0.1 -0.1)\">\n       <defs>\n        <path d=\"M 10.59375 35.5 \nL 73.1875 35.5 \nL 73.1875 27.203125 \nL 10.59375 27.203125 \nz\n\" id=\"DejaVuSans-8722\"/>\n        <path d=\"M 19.1875 8.296875 \nL 53.609375 8.296875 \nL 53.609375 0 \nL 7.328125 0 \nL 7.328125 8.296875 \nQ 12.9375 14.109375 22.625 23.890625 \nQ 32.328125 33.6875 34.8125 36.53125 \nQ 39.546875 41.84375 41.421875 45.53125 \nQ 43.3125 49.21875 43.3125 52.78125 \nQ 43.3125 58.59375 39.234375 62.25 \nQ 35.15625 65.921875 28.609375 65.921875 \nQ 23.96875 65.921875 18.8125 64.3125 \nQ 13.671875 62.703125 7.8125 59.421875 \nL 7.8125 69.390625 \nQ 13.765625 71.78125 18.9375 73 \nQ 24.125 74.21875 28.421875 74.21875 \nQ 39.75 74.21875 46.484375 68.546875 \nQ 53.21875 62.890625 53.21875 53.421875 \nQ 53.21875 48.921875 51.53125 44.890625 \nQ 49.859375 40.875 45.40625 35.40625 \nQ 44.1875 33.984375 37.640625 27.21875 \nQ 31.109375 20.453125 19.1875 8.296875 \nz\n\" id=\"DejaVuSans-50\"/>\n       </defs>\n       <use xlink:href=\"#DejaVuSans-8722\"/>\n       <use x=\"83.789062\" xlink:href=\"#DejaVuSans-50\"/>\n      </g>\n     </g>\n    </g>\n    <g id=\"xtick_2\">\n     <g id=\"line2d_2\">\n      <g>\n       <use style=\"stroke:#000000;stroke-width:0.8;\" x=\"119.830286\" xlink:href=\"#md331208fef\" y=\"224.64\"/>\n      </g>\n     </g>\n     <g id=\"text_2\">\n      <!-- 0 -->\n      <g transform=\"translate(116.649036 239.238438)scale(0.1 -0.1)\">\n       <defs>\n        <path d=\"M 31.78125 66.40625 \nQ 24.171875 66.40625 20.328125 58.90625 \nQ 16.5 51.421875 16.5 36.375 \nQ 16.5 21.390625 20.328125 13.890625 \nQ 24.171875 6.390625 31.78125 6.390625 \nQ 39.453125 6.390625 43.28125 13.890625 \nQ 47.125 21.390625 47.125 36.375 \nQ 47.125 51.421875 43.28125 58.90625 \nQ 39.453125 66.40625 31.78125 66.40625 \nz\nM 31.78125 74.21875 \nQ 44.046875 74.21875 50.515625 64.515625 \nQ 56.984375 54.828125 56.984375 36.375 \nQ 56.984375 17.96875 50.515625 8.265625 \nQ 44.046875 -1.421875 31.78125 -1.421875 \nQ 19.53125 -1.421875 13.0625 8.265625 \nQ 6.59375 17.96875 6.59375 36.375 \nQ 6.59375 54.828125 13.0625 64.515625 \nQ 19.53125 74.21875 31.78125 74.21875 \nz\n\" id=\"DejaVuSans-48\"/>\n       </defs>\n       <use xlink:href=\"#DejaVuSans-48\"/>\n      </g>\n     </g>\n    </g>\n    <g id=\"xtick_3\">\n     <g id=\"line2d_3\">\n      <g>\n       <use style=\"stroke:#000000;stroke-width:0.8;\" x=\"165.72027\" xlink:href=\"#md331208fef\" y=\"224.64\"/>\n      </g>\n     </g>\n     <g id=\"text_3\">\n      <!-- 2 -->\n      <g transform=\"translate(162.53902 239.238438)scale(0.1 -0.1)\">\n       <use xlink:href=\"#DejaVuSans-50\"/>\n      </g>\n     </g>\n    </g>\n    <g id=\"xtick_4\">\n     <g id=\"line2d_4\">\n      <g>\n       <use style=\"stroke:#000000;stroke-width:0.8;\" x=\"211.610253\" xlink:href=\"#md331208fef\" y=\"224.64\"/>\n      </g>\n     </g>\n     <g id=\"text_4\">\n      <!-- 4 -->\n      <g transform=\"translate(208.429003 239.238438)scale(0.1 -0.1)\">\n       <defs>\n        <path d=\"M 37.796875 64.3125 \nL 12.890625 25.390625 \nL 37.796875 25.390625 \nz\nM 35.203125 72.90625 \nL 47.609375 72.90625 \nL 47.609375 25.390625 \nL 58.015625 25.390625 \nL 58.015625 17.1875 \nL 47.609375 17.1875 \nL 47.609375 0 \nL 37.796875 0 \nL 37.796875 17.1875 \nL 4.890625 17.1875 \nL 4.890625 26.703125 \nz\n\" id=\"DejaVuSans-52\"/>\n       </defs>\n       <use xlink:href=\"#DejaVuSans-52\"/>\n      </g>\n     </g>\n    </g>\n    <g id=\"xtick_5\">\n     <g id=\"line2d_5\">\n      <g>\n       <use style=\"stroke:#000000;stroke-width:0.8;\" x=\"257.500237\" xlink:href=\"#md331208fef\" y=\"224.64\"/>\n      </g>\n     </g>\n     <g id=\"text_5\">\n      <!-- 6 -->\n      <g transform=\"translate(254.318987 239.238438)scale(0.1 -0.1)\">\n       <defs>\n        <path d=\"M 33.015625 40.375 \nQ 26.375 40.375 22.484375 35.828125 \nQ 18.609375 31.296875 18.609375 23.390625 \nQ 18.609375 15.53125 22.484375 10.953125 \nQ 26.375 6.390625 33.015625 6.390625 \nQ 39.65625 6.390625 43.53125 10.953125 \nQ 47.40625 15.53125 47.40625 23.390625 \nQ 47.40625 31.296875 43.53125 35.828125 \nQ 39.65625 40.375 33.015625 40.375 \nz\nM 52.59375 71.296875 \nL 52.59375 62.3125 \nQ 48.875 64.0625 45.09375 64.984375 \nQ 41.3125 65.921875 37.59375 65.921875 \nQ 27.828125 65.921875 22.671875 59.328125 \nQ 17.53125 52.734375 16.796875 39.40625 \nQ 19.671875 43.65625 24.015625 45.921875 \nQ 28.375 48.1875 33.59375 48.1875 \nQ 44.578125 48.1875 50.953125 41.515625 \nQ 57.328125 34.859375 57.328125 23.390625 \nQ 57.328125 12.15625 50.6875 5.359375 \nQ 44.046875 -1.421875 33.015625 -1.421875 \nQ 20.359375 -1.421875 13.671875 8.265625 \nQ 6.984375 17.96875 6.984375 36.375 \nQ 6.984375 53.65625 15.1875 63.9375 \nQ 23.390625 74.21875 37.203125 74.21875 \nQ 40.921875 74.21875 44.703125 73.484375 \nQ 48.484375 72.75 52.59375 71.296875 \nz\n\" id=\"DejaVuSans-54\"/>\n       </defs>\n       <use xlink:href=\"#DejaVuSans-54\"/>\n      </g>\n     </g>\n    </g>\n    <g id=\"xtick_6\">\n     <g id=\"line2d_6\">\n      <g>\n       <use style=\"stroke:#000000;stroke-width:0.8;\" x=\"303.390221\" xlink:href=\"#md331208fef\" y=\"224.64\"/>\n      </g>\n     </g>\n     <g id=\"text_6\">\n      <!-- 8 -->\n      <g transform=\"translate(300.208971 239.238438)scale(0.1 -0.1)\">\n       <defs>\n        <path d=\"M 31.78125 34.625 \nQ 24.75 34.625 20.71875 30.859375 \nQ 16.703125 27.09375 16.703125 20.515625 \nQ 16.703125 13.921875 20.71875 10.15625 \nQ 24.75 6.390625 31.78125 6.390625 \nQ 38.8125 6.390625 42.859375 10.171875 \nQ 46.921875 13.96875 46.921875 20.515625 \nQ 46.921875 27.09375 42.890625 30.859375 \nQ 38.875 34.625 31.78125 34.625 \nz\nM 21.921875 38.8125 \nQ 15.578125 40.375 12.03125 44.71875 \nQ 8.5 49.078125 8.5 55.328125 \nQ 8.5 64.0625 14.71875 69.140625 \nQ 20.953125 74.21875 31.78125 74.21875 \nQ 42.671875 74.21875 48.875 69.140625 \nQ 55.078125 64.0625 55.078125 55.328125 \nQ 55.078125 49.078125 51.53125 44.71875 \nQ 48 40.375 41.703125 38.8125 \nQ 48.828125 37.15625 52.796875 32.3125 \nQ 56.78125 27.484375 56.78125 20.515625 \nQ 56.78125 9.90625 50.3125 4.234375 \nQ 43.84375 -1.421875 31.78125 -1.421875 \nQ 19.734375 -1.421875 13.25 4.234375 \nQ 6.78125 9.90625 6.78125 20.515625 \nQ 6.78125 27.484375 10.78125 32.3125 \nQ 14.796875 37.15625 21.921875 38.8125 \nz\nM 18.3125 54.390625 \nQ 18.3125 48.734375 21.84375 45.5625 \nQ 25.390625 42.390625 31.78125 42.390625 \nQ 38.140625 42.390625 41.71875 45.5625 \nQ 45.3125 48.734375 45.3125 54.390625 \nQ 45.3125 60.0625 41.71875 63.234375 \nQ 38.140625 66.40625 31.78125 66.40625 \nQ 25.390625 66.40625 21.84375 63.234375 \nQ 18.3125 60.0625 18.3125 54.390625 \nz\n\" id=\"DejaVuSans-56\"/>\n       </defs>\n       <use xlink:href=\"#DejaVuSans-56\"/>\n      </g>\n     </g>\n    </g>\n    <g id=\"xtick_7\">\n     <g id=\"line2d_7\">\n      <g>\n       <use style=\"stroke:#000000;stroke-width:0.8;\" x=\"349.280204\" xlink:href=\"#md331208fef\" y=\"224.64\"/>\n      </g>\n     </g>\n     <g id=\"text_7\">\n      <!-- 10 -->\n      <g transform=\"translate(342.917704 239.238438)scale(0.1 -0.1)\">\n       <defs>\n        <path d=\"M 12.40625 8.296875 \nL 28.515625 8.296875 \nL 28.515625 63.921875 \nL 10.984375 60.40625 \nL 10.984375 69.390625 \nL 28.421875 72.90625 \nL 38.28125 72.90625 \nL 38.28125 8.296875 \nL 54.390625 8.296875 \nL 54.390625 0 \nL 12.40625 0 \nz\n\" id=\"DejaVuSans-49\"/>\n       </defs>\n       <use xlink:href=\"#DejaVuSans-49\"/>\n       <use x=\"63.623047\" xlink:href=\"#DejaVuSans-48\"/>\n      </g>\n     </g>\n    </g>\n   </g>\n   <g id=\"matplotlib.axis_2\">\n    <g id=\"ytick_1\">\n     <g id=\"line2d_8\">\n      <defs>\n       <path d=\"M 0 0 \nL -3.5 0 \n\" id=\"m70b8e29426\" style=\"stroke:#000000;stroke-width:0.8;\"/>\n      </defs>\n      <g>\n       <use style=\"stroke:#000000;stroke-width:0.8;\" x=\"50.14375\" xlink:href=\"#m70b8e29426\" y=\"224.64\"/>\n      </g>\n     </g>\n     <g id=\"text_8\">\n      <!-- 0.00 -->\n      <g transform=\"translate(20.878125 228.439219)scale(0.1 -0.1)\">\n       <defs>\n        <path d=\"M 10.6875 12.40625 \nL 21 12.40625 \nL 21 0 \nL 10.6875 0 \nz\n\" id=\"DejaVuSans-46\"/>\n       </defs>\n       <use xlink:href=\"#DejaVuSans-48\"/>\n       <use x=\"63.623047\" xlink:href=\"#DejaVuSans-46\"/>\n       <use x=\"95.410156\" xlink:href=\"#DejaVuSans-48\"/>\n       <use x=\"159.033203\" xlink:href=\"#DejaVuSans-48\"/>\n      </g>\n     </g>\n    </g>\n    <g id=\"ytick_2\">\n     <g id=\"line2d_9\">\n      <g>\n       <use style=\"stroke:#000000;stroke-width:0.8;\" x=\"50.14375\" xlink:href=\"#m70b8e29426\" y=\"200.459021\"/>\n      </g>\n     </g>\n     <g id=\"text_9\">\n      <!-- 0.05 -->\n      <g transform=\"translate(20.878125 204.25824)scale(0.1 -0.1)\">\n       <defs>\n        <path d=\"M 10.796875 72.90625 \nL 49.515625 72.90625 \nL 49.515625 64.59375 \nL 19.828125 64.59375 \nL 19.828125 46.734375 \nQ 21.96875 47.46875 24.109375 47.828125 \nQ 26.265625 48.1875 28.421875 48.1875 \nQ 40.625 48.1875 47.75 41.5 \nQ 54.890625 34.8125 54.890625 23.390625 \nQ 54.890625 11.625 47.5625 5.09375 \nQ 40.234375 -1.421875 26.90625 -1.421875 \nQ 22.3125 -1.421875 17.546875 -0.640625 \nQ 12.796875 0.140625 7.71875 1.703125 \nL 7.71875 11.625 \nQ 12.109375 9.234375 16.796875 8.0625 \nQ 21.484375 6.890625 26.703125 6.890625 \nQ 35.15625 6.890625 40.078125 11.328125 \nQ 45.015625 15.765625 45.015625 23.390625 \nQ 45.015625 31 40.078125 35.4375 \nQ 35.15625 39.890625 26.703125 39.890625 \nQ 22.75 39.890625 18.8125 39.015625 \nQ 14.890625 38.140625 10.796875 36.28125 \nz\n\" id=\"DejaVuSans-53\"/>\n       </defs>\n       <use xlink:href=\"#DejaVuSans-48\"/>\n       <use x=\"63.623047\" xlink:href=\"#DejaVuSans-46\"/>\n       <use x=\"95.410156\" xlink:href=\"#DejaVuSans-48\"/>\n       <use x=\"159.033203\" xlink:href=\"#DejaVuSans-53\"/>\n      </g>\n     </g>\n    </g>\n    <g id=\"ytick_3\">\n     <g id=\"line2d_10\">\n      <g>\n       <use style=\"stroke:#000000;stroke-width:0.8;\" x=\"50.14375\" xlink:href=\"#m70b8e29426\" y=\"176.278043\"/>\n      </g>\n     </g>\n     <g id=\"text_10\">\n      <!-- 0.10 -->\n      <g transform=\"translate(20.878125 180.077261)scale(0.1 -0.1)\">\n       <use xlink:href=\"#DejaVuSans-48\"/>\n       <use x=\"63.623047\" xlink:href=\"#DejaVuSans-46\"/>\n       <use x=\"95.410156\" xlink:href=\"#DejaVuSans-49\"/>\n       <use x=\"159.033203\" xlink:href=\"#DejaVuSans-48\"/>\n      </g>\n     </g>\n    </g>\n    <g id=\"ytick_4\">\n     <g id=\"line2d_11\">\n      <g>\n       <use style=\"stroke:#000000;stroke-width:0.8;\" x=\"50.14375\" xlink:href=\"#m70b8e29426\" y=\"152.097064\"/>\n      </g>\n     </g>\n     <g id=\"text_11\">\n      <!-- 0.15 -->\n      <g transform=\"translate(20.878125 155.896283)scale(0.1 -0.1)\">\n       <use xlink:href=\"#DejaVuSans-48\"/>\n       <use x=\"63.623047\" xlink:href=\"#DejaVuSans-46\"/>\n       <use x=\"95.410156\" xlink:href=\"#DejaVuSans-49\"/>\n       <use x=\"159.033203\" xlink:href=\"#DejaVuSans-53\"/>\n      </g>\n     </g>\n    </g>\n    <g id=\"ytick_5\">\n     <g id=\"line2d_12\">\n      <g>\n       <use style=\"stroke:#000000;stroke-width:0.8;\" x=\"50.14375\" xlink:href=\"#m70b8e29426\" y=\"127.916085\"/>\n      </g>\n     </g>\n     <g id=\"text_12\">\n      <!-- 0.20 -->\n      <g transform=\"translate(20.878125 131.715304)scale(0.1 -0.1)\">\n       <use xlink:href=\"#DejaVuSans-48\"/>\n       <use x=\"63.623047\" xlink:href=\"#DejaVuSans-46\"/>\n       <use x=\"95.410156\" xlink:href=\"#DejaVuSans-50\"/>\n       <use x=\"159.033203\" xlink:href=\"#DejaVuSans-48\"/>\n      </g>\n     </g>\n    </g>\n    <g id=\"ytick_6\">\n     <g id=\"line2d_13\">\n      <g>\n       <use style=\"stroke:#000000;stroke-width:0.8;\" x=\"50.14375\" xlink:href=\"#m70b8e29426\" y=\"103.735106\"/>\n      </g>\n     </g>\n     <g id=\"text_13\">\n      <!-- 0.25 -->\n      <g transform=\"translate(20.878125 107.534325)scale(0.1 -0.1)\">\n       <use xlink:href=\"#DejaVuSans-48\"/>\n       <use x=\"63.623047\" xlink:href=\"#DejaVuSans-46\"/>\n       <use x=\"95.410156\" xlink:href=\"#DejaVuSans-50\"/>\n       <use x=\"159.033203\" xlink:href=\"#DejaVuSans-53\"/>\n      </g>\n     </g>\n    </g>\n    <g id=\"ytick_7\">\n     <g id=\"line2d_14\">\n      <g>\n       <use style=\"stroke:#000000;stroke-width:0.8;\" x=\"50.14375\" xlink:href=\"#m70b8e29426\" y=\"79.554128\"/>\n      </g>\n     </g>\n     <g id=\"text_14\">\n      <!-- 0.30 -->\n      <g transform=\"translate(20.878125 83.353346)scale(0.1 -0.1)\">\n       <defs>\n        <path d=\"M 40.578125 39.3125 \nQ 47.65625 37.796875 51.625 33 \nQ 55.609375 28.21875 55.609375 21.1875 \nQ 55.609375 10.40625 48.1875 4.484375 \nQ 40.765625 -1.421875 27.09375 -1.421875 \nQ 22.515625 -1.421875 17.65625 -0.515625 \nQ 12.796875 0.390625 7.625 2.203125 \nL 7.625 11.71875 \nQ 11.71875 9.328125 16.59375 8.109375 \nQ 21.484375 6.890625 26.8125 6.890625 \nQ 36.078125 6.890625 40.9375 10.546875 \nQ 45.796875 14.203125 45.796875 21.1875 \nQ 45.796875 27.640625 41.28125 31.265625 \nQ 36.765625 34.90625 28.71875 34.90625 \nL 20.21875 34.90625 \nL 20.21875 43.015625 \nL 29.109375 43.015625 \nQ 36.375 43.015625 40.234375 45.921875 \nQ 44.09375 48.828125 44.09375 54.296875 \nQ 44.09375 59.90625 40.109375 62.90625 \nQ 36.140625 65.921875 28.71875 65.921875 \nQ 24.65625 65.921875 20.015625 65.03125 \nQ 15.375 64.15625 9.8125 62.3125 \nL 9.8125 71.09375 \nQ 15.4375 72.65625 20.34375 73.4375 \nQ 25.25 74.21875 29.59375 74.21875 \nQ 40.828125 74.21875 47.359375 69.109375 \nQ 53.90625 64.015625 53.90625 55.328125 \nQ 53.90625 49.265625 50.4375 45.09375 \nQ 46.96875 40.921875 40.578125 39.3125 \nz\n\" id=\"DejaVuSans-51\"/>\n       </defs>\n       <use xlink:href=\"#DejaVuSans-48\"/>\n       <use x=\"63.623047\" xlink:href=\"#DejaVuSans-46\"/>\n       <use x=\"95.410156\" xlink:href=\"#DejaVuSans-51\"/>\n       <use x=\"159.033203\" xlink:href=\"#DejaVuSans-48\"/>\n      </g>\n     </g>\n    </g>\n    <g id=\"ytick_8\">\n     <g id=\"line2d_15\">\n      <g>\n       <use style=\"stroke:#000000;stroke-width:0.8;\" x=\"50.14375\" xlink:href=\"#m70b8e29426\" y=\"55.373149\"/>\n      </g>\n     </g>\n     <g id=\"text_15\">\n      <!-- 0.35 -->\n      <g transform=\"translate(20.878125 59.172368)scale(0.1 -0.1)\">\n       <use xlink:href=\"#DejaVuSans-48\"/>\n       <use x=\"63.623047\" xlink:href=\"#DejaVuSans-46\"/>\n       <use x=\"95.410156\" xlink:href=\"#DejaVuSans-51\"/>\n       <use x=\"159.033203\" xlink:href=\"#DejaVuSans-53\"/>\n      </g>\n     </g>\n    </g>\n    <g id=\"ytick_9\">\n     <g id=\"line2d_16\">\n      <g>\n       <use style=\"stroke:#000000;stroke-width:0.8;\" x=\"50.14375\" xlink:href=\"#m70b8e29426\" y=\"31.19217\"/>\n      </g>\n     </g>\n     <g id=\"text_16\">\n      <!-- 0.40 -->\n      <g transform=\"translate(20.878125 34.991389)scale(0.1 -0.1)\">\n       <use xlink:href=\"#DejaVuSans-48\"/>\n       <use x=\"63.623047\" xlink:href=\"#DejaVuSans-46\"/>\n       <use x=\"95.410156\" xlink:href=\"#DejaVuSans-52\"/>\n       <use x=\"159.033203\" xlink:href=\"#DejaVuSans-48\"/>\n      </g>\n     </g>\n    </g>\n    <g id=\"text_17\">\n     <!-- Density -->\n     <g transform=\"translate(14.798438 134.928594)rotate(-90)scale(0.1 -0.1)\">\n      <defs>\n       <path d=\"M 19.671875 64.796875 \nL 19.671875 8.109375 \nL 31.59375 8.109375 \nQ 46.6875 8.109375 53.6875 14.9375 \nQ 60.6875 21.78125 60.6875 36.53125 \nQ 60.6875 51.171875 53.6875 57.984375 \nQ 46.6875 64.796875 31.59375 64.796875 \nz\nM 9.8125 72.90625 \nL 30.078125 72.90625 \nQ 51.265625 72.90625 61.171875 64.09375 \nQ 71.09375 55.28125 71.09375 36.53125 \nQ 71.09375 17.671875 61.125 8.828125 \nQ 51.171875 0 30.078125 0 \nL 9.8125 0 \nz\n\" id=\"DejaVuSans-68\"/>\n       <path d=\"M 56.203125 29.59375 \nL 56.203125 25.203125 \nL 14.890625 25.203125 \nQ 15.484375 15.921875 20.484375 11.0625 \nQ 25.484375 6.203125 34.421875 6.203125 \nQ 39.59375 6.203125 44.453125 7.46875 \nQ 49.3125 8.734375 54.109375 11.28125 \nL 54.109375 2.78125 \nQ 49.265625 0.734375 44.1875 -0.34375 \nQ 39.109375 -1.421875 33.890625 -1.421875 \nQ 20.796875 -1.421875 13.15625 6.1875 \nQ 5.515625 13.8125 5.515625 26.8125 \nQ 5.515625 40.234375 12.765625 48.109375 \nQ 20.015625 56 32.328125 56 \nQ 43.359375 56 49.78125 48.890625 \nQ 56.203125 41.796875 56.203125 29.59375 \nz\nM 47.21875 32.234375 \nQ 47.125 39.59375 43.09375 43.984375 \nQ 39.0625 48.390625 32.421875 48.390625 \nQ 24.90625 48.390625 20.390625 44.140625 \nQ 15.875 39.890625 15.1875 32.171875 \nz\n\" id=\"DejaVuSans-101\"/>\n       <path d=\"M 54.890625 33.015625 \nL 54.890625 0 \nL 45.90625 0 \nL 45.90625 32.71875 \nQ 45.90625 40.484375 42.875 44.328125 \nQ 39.84375 48.1875 33.796875 48.1875 \nQ 26.515625 48.1875 22.3125 43.546875 \nQ 18.109375 38.921875 18.109375 30.90625 \nL 18.109375 0 \nL 9.078125 0 \nL 9.078125 54.6875 \nL 18.109375 54.6875 \nL 18.109375 46.1875 \nQ 21.34375 51.125 25.703125 53.5625 \nQ 30.078125 56 35.796875 56 \nQ 45.21875 56 50.046875 50.171875 \nQ 54.890625 44.34375 54.890625 33.015625 \nz\n\" id=\"DejaVuSans-110\"/>\n       <path d=\"M 44.28125 53.078125 \nL 44.28125 44.578125 \nQ 40.484375 46.53125 36.375 47.5 \nQ 32.28125 48.484375 27.875 48.484375 \nQ 21.1875 48.484375 17.84375 46.4375 \nQ 14.5 44.390625 14.5 40.28125 \nQ 14.5 37.15625 16.890625 35.375 \nQ 19.28125 33.59375 26.515625 31.984375 \nL 29.59375 31.296875 \nQ 39.15625 29.25 43.1875 25.515625 \nQ 47.21875 21.78125 47.21875 15.09375 \nQ 47.21875 7.46875 41.1875 3.015625 \nQ 35.15625 -1.421875 24.609375 -1.421875 \nQ 20.21875 -1.421875 15.453125 -0.5625 \nQ 10.6875 0.296875 5.421875 2 \nL 5.421875 11.28125 \nQ 10.40625 8.6875 15.234375 7.390625 \nQ 20.0625 6.109375 24.8125 6.109375 \nQ 31.15625 6.109375 34.5625 8.28125 \nQ 37.984375 10.453125 37.984375 14.40625 \nQ 37.984375 18.0625 35.515625 20.015625 \nQ 33.0625 21.96875 24.703125 23.78125 \nL 21.578125 24.515625 \nQ 13.234375 26.265625 9.515625 29.90625 \nQ 5.8125 33.546875 5.8125 39.890625 \nQ 5.8125 47.609375 11.28125 51.796875 \nQ 16.75 56 26.8125 56 \nQ 31.78125 56 36.171875 55.265625 \nQ 40.578125 54.546875 44.28125 53.078125 \nz\n\" id=\"DejaVuSans-115\"/>\n       <path d=\"M 9.421875 54.6875 \nL 18.40625 54.6875 \nL 18.40625 0 \nL 9.421875 0 \nz\nM 9.421875 75.984375 \nL 18.40625 75.984375 \nL 18.40625 64.59375 \nL 9.421875 64.59375 \nz\n\" id=\"DejaVuSans-105\"/>\n       <path d=\"M 18.3125 70.21875 \nL 18.3125 54.6875 \nL 36.8125 54.6875 \nL 36.8125 47.703125 \nL 18.3125 47.703125 \nL 18.3125 18.015625 \nQ 18.3125 11.328125 20.140625 9.421875 \nQ 21.96875 7.515625 27.59375 7.515625 \nL 36.8125 7.515625 \nL 36.8125 0 \nL 27.59375 0 \nQ 17.1875 0 13.234375 3.875 \nQ 9.28125 7.765625 9.28125 18.015625 \nL 9.28125 47.703125 \nL 2.6875 47.703125 \nL 2.6875 54.6875 \nL 9.28125 54.6875 \nL 9.28125 70.21875 \nz\n\" id=\"DejaVuSans-116\"/>\n       <path d=\"M 32.171875 -5.078125 \nQ 28.375 -14.84375 24.75 -17.8125 \nQ 21.140625 -20.796875 15.09375 -20.796875 \nL 7.90625 -20.796875 \nL 7.90625 -13.28125 \nL 13.1875 -13.28125 \nQ 16.890625 -13.28125 18.9375 -11.515625 \nQ 21 -9.765625 23.484375 -3.21875 \nL 25.09375 0.875 \nL 2.984375 54.6875 \nL 12.5 54.6875 \nL 29.59375 11.921875 \nL 46.6875 54.6875 \nL 56.203125 54.6875 \nz\n\" id=\"DejaVuSans-121\"/>\n      </defs>\n      <use xlink:href=\"#DejaVuSans-68\"/>\n      <use x=\"77.001953\" xlink:href=\"#DejaVuSans-101\"/>\n      <use x=\"138.525391\" xlink:href=\"#DejaVuSans-110\"/>\n      <use x=\"201.904297\" xlink:href=\"#DejaVuSans-115\"/>\n      <use x=\"254.003906\" xlink:href=\"#DejaVuSans-105\"/>\n      <use x=\"281.787109\" xlink:href=\"#DejaVuSans-116\"/>\n      <use x=\"320.996094\" xlink:href=\"#DejaVuSans-121\"/>\n     </g>\n    </g>\n   </g>\n   <g id=\"line2d_17\">\n    <path clip-path=\"url(#p086274b98e)\" d=\"M 65.361932 223.228768 \nL 68.420863 222.333552 \nL 69.950328 221.722618 \nL 71.479794 220.975952 \nL 73.009259 220.070727 \nL 74.538725 218.982153 \nL 76.06819 217.683779 \nL 77.597656 216.147928 \nL 79.127121 214.346287 \nL 80.656587 212.250649 \nL 82.186052 209.833815 \nL 83.715518 207.070642 \nL 85.244983 203.93922 \nL 86.774449 200.422146 \nL 88.303914 196.507864 \nL 89.83338 192.192003 \nL 91.362845 187.478675 \nL 94.421776 176.925304 \nL 97.480708 165.089459 \nL 102.069104 145.91325 \nL 106.657501 127.00104 \nL 109.716432 115.860019 \nL 111.245897 111.037006 \nL 112.775363 106.838893 \nL 114.304828 103.349166 \nL 115.834294 100.638794 \nL 117.363759 98.763823 \nL 118.893225 97.763437 \nL 120.42269 97.658575 \nL 121.952156 98.45119 \nL 123.481621 100.124162 \nL 125.011087 102.641884 \nL 126.540552 105.951493 \nL 128.070018 109.984673 \nL 129.599483 114.659956 \nL 131.128949 119.885405 \nL 134.18788 131.584469 \nL 144.894138 175.106607 \nL 147.953069 185.585316 \nL 149.482535 190.240985 \nL 151.012 194.479733 \nL 152.541466 198.293244 \nL 154.070931 201.681938 \nL 155.600397 204.653733 \nL 157.129862 207.222739 \nL 158.659328 209.407954 \nL 160.188793 211.232001 \nL 161.718259 212.719962 \nL 163.247724 213.898327 \nL 164.77719 214.794089 \nL 166.306655 215.43398 \nL 167.836121 215.843861 \nL 169.365586 216.048257 \nL 170.895052 216.070023 \nL 172.424517 215.93012 \nL 173.953983 215.647502 \nL 177.012914 214.719691 \nL 180.071845 213.397907 \nL 183.130776 211.763989 \nL 186.189707 209.874441 \nL 189.248638 207.765205 \nL 192.307569 205.45662 \nL 196.895966 201.639759 \nL 201.484362 197.410784 \nL 206.072759 192.795992 \nL 210.661155 187.86432 \nL 224.426345 172.757872 \nL 227.485276 169.765524 \nL 230.544207 167.063728 \nL 233.603138 164.719545 \nL 236.662069 162.792867 \nL 239.721 161.335385 \nL 241.250465 160.796376 \nL 242.779931 160.390083 \nL 244.309396 160.120445 \nL 245.838862 159.990789 \nL 247.368327 160.003785 \nL 248.897793 160.161408 \nL 250.427258 160.464875 \nL 251.956724 160.914582 \nL 253.486189 161.510034 \nL 255.015655 162.249772 \nL 256.54512 163.131305 \nL 259.604052 165.304255 \nL 262.662983 167.986257 \nL 265.721914 171.115858 \nL 268.780845 174.613781 \nL 273.369241 180.342365 \nL 284.0755 194.119742 \nL 287.134431 197.732773 \nL 290.193362 201.076778 \nL 293.252293 204.118176 \nL 296.311224 206.84511 \nL 299.370155 209.264355 \nL 302.429086 211.396626 \nL 305.488017 213.271123 \nL 308.546948 214.920221 \nL 311.605879 216.375033 \nL 316.194275 218.25001 \nL 320.782672 219.812613 \nL 325.371068 221.101834 \nL 329.959465 222.140369 \nL 334.547861 222.947075 \nL 339.136258 223.545587 \nL 345.25412 224.074191 \nL 351.371982 224.373819 \nL 360.548775 224.568637 \nL 369.725568 224.624795 \nL 369.725568 224.624795 \n\" style=\"fill:none;stroke:#1f77b4;stroke-linecap:square;stroke-width:1.5;\"/>\n   </g>\n   <g id=\"patch_10\">\n    <path d=\"M 50.14375 224.64 \nL 50.14375 7.2 \n\" style=\"fill:none;stroke:#000000;stroke-linecap:square;stroke-linejoin:miter;stroke-width:0.8;\"/>\n   </g>\n   <g id=\"patch_11\">\n    <path d=\"M 384.94375 224.64 \nL 384.94375 7.2 \n\" style=\"fill:none;stroke:#000000;stroke-linecap:square;stroke-linejoin:miter;stroke-width:0.8;\"/>\n   </g>\n   <g id=\"patch_12\">\n    <path d=\"M 50.14375 224.64 \nL 384.94375 224.64 \n\" style=\"fill:none;stroke:#000000;stroke-linecap:square;stroke-linejoin:miter;stroke-width:0.8;\"/>\n   </g>\n   <g id=\"patch_13\">\n    <path d=\"M 50.14375 7.2 \nL 384.94375 7.2 \n\" style=\"fill:none;stroke:#000000;stroke-linecap:square;stroke-linejoin:miter;stroke-width:0.8;\"/>\n   </g>\n  </g>\n </g>\n <defs>\n  <clipPath id=\"p086274b98e\">\n   <rect height=\"217.44\" width=\"334.8\" x=\"50.14375\" y=\"7.2\"/>\n  </clipPath>\n </defs>\n</svg>\n",
      "image/png": "[encoded data removed]"
     },
     "metadata": {
      "needs_background": "light"
     }
    }
   ],
   "metadata": {}
  },
  {
   "cell_type": "code",
   "execution_count": 176,
   "source": [
    "import matplotlib.pyplot as plt\n",
    "residuals =  np.array(y_test) - np.array(y_pred)\n",
    "plt.scatter(y_test,y_pred)\n",
    "plt.xlabel(\"y_test\", size = 20)\n",
    "plt.ylabel(\"y_pred\", size = 20)\n",
    "plt.show()"
   ],
   "outputs": [
    {
     "output_type": "display_data",
     "data": {
      "text/plain": [
       "<Figure size 432x288 with 1 Axes>"
      ],
      "image/svg+xml": "<?xml version=\"1.0\" encoding=\"utf-8\" standalone=\"no\"?>\n<!DOCTYPE svg PUBLIC \"-//W3C//DTD SVG 1.1//EN\"\n  \"http://www.w3.org/Graphics/SVG/1.1/DTD/svg11.dtd\">\n<!-- Created with matplotlib (https://matplotlib.org/) -->\n<svg height=\"271.874375pt\" version=\"1.1\" viewBox=\"0 0 405.5625 271.874375\" width=\"405.5625pt\" xmlns=\"http://www.w3.org/2000/svg\" xmlns:xlink=\"http://www.w3.org/1999/xlink\">\n <metadata>\n  <rdf:RDF xmlns:cc=\"http://creativecommons.org/ns#\" xmlns:dc=\"http://purl.org/dc/elements/1.1/\" xmlns:rdf=\"http://www.w3.org/1999/02/22-rdf-syntax-ns#\">\n   <cc:Work>\n    <dc:type rdf:resource=\"http://purl.org/dc/dcmitype/StillImage\"/>\n    <dc:date>2021-08-09T17:13:41.755998</dc:date>\n    <dc:format>image/svg+xml</dc:format>\n    <dc:creator>\n     <cc:Agent>\n      <dc:title>Matplotlib v3.3.4, https://matplotlib.org/</dc:title>\n     </cc:Agent>\n    </dc:creator>\n   </cc:Work>\n  </rdf:RDF>\n </metadata>\n <defs>\n  <style type=\"text/css\">*{stroke-linecap:butt;stroke-linejoin:round;}</style>\n </defs>\n <g id=\"figure_1\">\n  <g id=\"patch_1\">\n   <path d=\"M 0 271.874375 \nL 405.5625 271.874375 \nL 405.5625 0 \nL 0 0 \nz\n\" style=\"fill:none;\"/>\n  </g>\n  <g id=\"axes_1\">\n   <g id=\"patch_2\">\n    <path d=\"M 63.5625 224.64 \nL 398.3625 224.64 \nL 398.3625 7.2 \nL 63.5625 7.2 \nz\n\" style=\"fill:#ffffff;\"/>\n   </g>\n   <g id=\"PathCollection_1\">\n    <defs>\n     <path d=\"M 0 3 \nC 0.795609 3 1.55874 2.683901 2.12132 2.12132 \nC 2.683901 1.55874 3 0.795609 3 0 \nC 3 -0.795609 2.683901 -1.55874 2.12132 -2.12132 \nC 1.55874 -2.683901 0.795609 -3 0 -3 \nC -0.795609 -3 -1.55874 -2.683901 -2.12132 -2.12132 \nC -2.683901 -1.55874 -3 -0.795609 -3 0 \nC -3 0.795609 -2.683901 1.55874 -2.12132 2.12132 \nC -1.55874 2.683901 -0.795609 3 0 3 \nz\n\" id=\"m768854c365\" style=\"stroke:#1f77b4;\"/>\n    </defs>\n    <g clip-path=\"url(#pae95ae9a6e)\">\n     <use style=\"fill:#1f77b4;stroke:#1f77b4;\" x=\"112.321555\" xlink:href=\"#m768854c365\" y=\"211.565228\"/>\n     <use style=\"fill:#1f77b4;stroke:#1f77b4;\" x=\"90.163882\" xlink:href=\"#m768854c365\" y=\"188.696473\"/>\n     <use style=\"fill:#1f77b4;stroke:#1f77b4;\" x=\"85.781045\" xlink:href=\"#m768854c365\" y=\"204.925143\"/>\n     <use style=\"fill:#1f77b4;stroke:#1f77b4;\" x=\"83.589627\" xlink:href=\"#m768854c365\" y=\"214.756364\"/>\n     <use style=\"fill:#1f77b4;stroke:#1f77b4;\" x=\"82.676536\" xlink:href=\"#m768854c365\" y=\"206.16556\"/>\n     <use style=\"fill:#1f77b4;stroke:#1f77b4;\" x=\"78.780682\" xlink:href=\"#m768854c365\" y=\"207.36248\"/>\n     <use style=\"fill:#1f77b4;stroke:#1f77b4;\" x=\"78.780682\" xlink:href=\"#m768854c365\" y=\"187.886222\"/>\n     <use style=\"fill:#1f77b4;stroke:#1f77b4;\" x=\"78.780682\" xlink:href=\"#m768854c365\" y=\"211.567856\"/>\n     <use style=\"fill:#1f77b4;stroke:#1f77b4;\" x=\"100.694864\" xlink:href=\"#m768854c365\" y=\"200.882602\"/>\n     <use style=\"fill:#1f77b4;stroke:#1f77b4;\" x=\"104.225482\" xlink:href=\"#m768854c365\" y=\"203.36008\"/>\n     <use style=\"fill:#1f77b4;stroke:#1f77b4;\" x=\"78.780682\" xlink:href=\"#m768854c365\" y=\"201.86096\"/>\n     <use style=\"fill:#1f77b4;stroke:#1f77b4;\" x=\"86.876755\" xlink:href=\"#m768854c365\" y=\"214.756364\"/>\n     <use style=\"fill:#1f77b4;stroke:#1f77b4;\" x=\"78.780682\" xlink:href=\"#m768854c365\" y=\"200.349814\"/>\n     <use style=\"fill:#1f77b4;stroke:#1f77b4;\" x=\"78.780682\" xlink:href=\"#m768854c365\" y=\"209.227971\"/>\n     <use style=\"fill:#1f77b4;stroke:#1f77b4;\" x=\"78.780682\" xlink:href=\"#m768854c365\" y=\"198.252322\"/>\n     <use style=\"fill:#1f77b4;stroke:#1f77b4;\" x=\"100.633991\" xlink:href=\"#m768854c365\" y=\"187.68373\"/>\n     <use style=\"fill:#1f77b4;stroke:#1f77b4;\" x=\"99.660027\" xlink:href=\"#m768854c365\" y=\"193.269022\"/>\n     <use style=\"fill:#1f77b4;stroke:#1f77b4;\" x=\"104.712464\" xlink:href=\"#m768854c365\" y=\"187.037372\"/>\n     <use style=\"fill:#1f77b4;stroke:#1f77b4;\" x=\"78.780682\" xlink:href=\"#m768854c365\" y=\"205.50668\"/>\n     <use style=\"fill:#1f77b4;stroke:#1f77b4;\" x=\"200.343518\" xlink:href=\"#m768854c365\" y=\"196.205274\"/>\n     <use style=\"fill:#1f77b4;stroke:#1f77b4;\" x=\"81.215591\" xlink:href=\"#m768854c365\" y=\"185.078707\"/>\n     <use style=\"fill:#1f77b4;stroke:#1f77b4;\" x=\"112.078064\" xlink:href=\"#m768854c365\" y=\"196.576695\"/>\n     <use style=\"fill:#1f77b4;stroke:#1f77b4;\" x=\"83.711373\" xlink:href=\"#m768854c365\" y=\"197.76791\"/>\n     <use style=\"fill:#1f77b4;stroke:#1f77b4;\" x=\"78.780682\" xlink:href=\"#m768854c365\" y=\"200.863318\"/>\n     <use style=\"fill:#1f77b4;stroke:#1f77b4;\" x=\"78.780682\" xlink:href=\"#m768854c365\" y=\"187.443044\"/>\n     <use style=\"fill:#1f77b4;stroke:#1f77b4;\" x=\"78.780682\" xlink:href=\"#m768854c365\" y=\"192.27532\"/>\n     <use style=\"fill:#1f77b4;stroke:#1f77b4;\" x=\"95.520682\" xlink:href=\"#m768854c365\" y=\"205.04407\"/>\n     <use style=\"fill:#1f77b4;stroke:#1f77b4;\" x=\"110.738864\" xlink:href=\"#m768854c365\" y=\"186.704512\"/>\n     <use style=\"fill:#1f77b4;stroke:#1f77b4;\" x=\"78.780682\" xlink:href=\"#m768854c365\" y=\"195.482693\"/>\n     <use style=\"fill:#1f77b4;stroke:#1f77b4;\" x=\"78.780682\" xlink:href=\"#m768854c365\" y=\"198.671608\"/>\n     <use style=\"fill:#1f77b4;stroke:#1f77b4;\" x=\"78.780682\" xlink:href=\"#m768854c365\" y=\"213.352986\"/>\n     <use style=\"fill:#1f77b4;stroke:#1f77b4;\" x=\"78.780682\" xlink:href=\"#m768854c365\" y=\"197.804289\"/>\n     <use style=\"fill:#1f77b4;stroke:#1f77b4;\" x=\"93.268391\" xlink:href=\"#m768854c365\" y=\"154.521298\"/>\n     <use style=\"fill:#1f77b4;stroke:#1f77b4;\" x=\"78.780682\" xlink:href=\"#m768854c365\" y=\"206.780008\"/>\n     <use style=\"fill:#1f77b4;stroke:#1f77b4;\" x=\"106.356027\" xlink:href=\"#m768854c365\" y=\"214.756364\"/>\n     <use style=\"fill:#1f77b4;stroke:#1f77b4;\" x=\"83.346136\" xlink:href=\"#m768854c365\" y=\"201.668908\"/>\n     <use style=\"fill:#1f77b4;stroke:#1f77b4;\" x=\"78.780682\" xlink:href=\"#m768854c365\" y=\"212.19678\"/>\n     <use style=\"fill:#1f77b4;stroke:#1f77b4;\" x=\"78.780682\" xlink:href=\"#m768854c365\" y=\"200.672588\"/>\n     <use style=\"fill:#1f77b4;stroke:#1f77b4;\" x=\"85.111445\" xlink:href=\"#m768854c365\" y=\"206.599407\"/>\n     <use style=\"fill:#1f77b4;stroke:#1f77b4;\" x=\"96.251155\" xlink:href=\"#m768854c365\" y=\"207.973935\"/>\n     <use style=\"fill:#1f77b4;stroke:#1f77b4;\" x=\"149.575664\" xlink:href=\"#m768854c365\" y=\"202.584409\"/>\n     <use style=\"fill:#1f77b4;stroke:#1f77b4;\" x=\"119.017555\" xlink:href=\"#m768854c365\" y=\"202.348101\"/>\n     <use style=\"fill:#1f77b4;stroke:#1f77b4;\" x=\"87.6681\" xlink:href=\"#m768854c365\" y=\"205.78104\"/>\n     <use style=\"fill:#1f77b4;stroke:#1f77b4;\" x=\"80.911227\" xlink:href=\"#m768854c365\" y=\"210.708171\"/>\n     <use style=\"fill:#1f77b4;stroke:#1f77b4;\" x=\"78.780682\" xlink:href=\"#m768854c365\" y=\"206.079476\"/>\n     <use style=\"fill:#1f77b4;stroke:#1f77b4;\" x=\"78.780682\" xlink:href=\"#m768854c365\" y=\"210.408359\"/>\n     <use style=\"fill:#1f77b4;stroke:#1f77b4;\" x=\"140.323009\" xlink:href=\"#m768854c365\" y=\"186.173555\"/>\n     <use style=\"fill:#1f77b4;stroke:#1f77b4;\" x=\"78.780682\" xlink:href=\"#m768854c365\" y=\"200.457268\"/>\n     <use style=\"fill:#1f77b4;stroke:#1f77b4;\" x=\"78.780682\" xlink:href=\"#m768854c365\" y=\"180.676984\"/>\n     <use style=\"fill:#1f77b4;stroke:#1f77b4;\" x=\"135.818427\" xlink:href=\"#m768854c365\" y=\"187.462483\"/>\n     <use style=\"fill:#1f77b4;stroke:#1f77b4;\" x=\"104.103736\" xlink:href=\"#m768854c365\" y=\"73.527225\"/>\n     <use style=\"fill:#1f77b4;stroke:#1f77b4;\" x=\"81.824318\" xlink:href=\"#m768854c365\" y=\"206.787801\"/>\n     <use style=\"fill:#1f77b4;stroke:#1f77b4;\" x=\"116.704391\" xlink:href=\"#m768854c365\" y=\"205.613466\"/>\n     <use style=\"fill:#1f77b4;stroke:#1f77b4;\" x=\"82.859155\" xlink:href=\"#m768854c365\" y=\"197.106978\"/>\n     <use style=\"fill:#1f77b4;stroke:#1f77b4;\" x=\"94.729336\" xlink:href=\"#m768854c365\" y=\"197.488498\"/>\n     <use style=\"fill:#1f77b4;stroke:#1f77b4;\" x=\"78.780682\" xlink:href=\"#m768854c365\" y=\"184.914259\"/>\n     <use style=\"fill:#1f77b4;stroke:#1f77b4;\" x=\"80.3025\" xlink:href=\"#m768854c365\" y=\"186.580882\"/>\n     <use style=\"fill:#1f77b4;stroke:#1f77b4;\" x=\"86.3289\" xlink:href=\"#m768854c365\" y=\"199.540382\"/>\n     <use style=\"fill:#1f77b4;stroke:#1f77b4;\" x=\"120.356755\" xlink:href=\"#m768854c365\" y=\"185.748648\"/>\n     <use style=\"fill:#1f77b4;stroke:#1f77b4;\" x=\"78.780682\" xlink:href=\"#m768854c365\" y=\"203.650238\"/>\n     <use style=\"fill:#1f77b4;stroke:#1f77b4;\" x=\"78.780682\" xlink:href=\"#m768854c365\" y=\"201.268779\"/>\n     <use style=\"fill:#1f77b4;stroke:#1f77b4;\" x=\"78.780682\" xlink:href=\"#m768854c365\" y=\"200.297635\"/>\n     <use style=\"fill:#1f77b4;stroke:#1f77b4;\" x=\"116.521773\" xlink:href=\"#m768854c365\" y=\"183.516575\"/>\n     <use style=\"fill:#1f77b4;stroke:#1f77b4;\" x=\"78.780682\" xlink:href=\"#m768854c365\" y=\"196.284438\"/>\n     <use style=\"fill:#1f77b4;stroke:#1f77b4;\" x=\"78.780682\" xlink:href=\"#m768854c365\" y=\"214.756364\"/>\n     <use style=\"fill:#1f77b4;stroke:#1f77b4;\" x=\"78.780682\" xlink:href=\"#m768854c365\" y=\"214.684252\"/>\n     <use style=\"fill:#1f77b4;stroke:#1f77b4;\" x=\"125.348318\" xlink:href=\"#m768854c365\" y=\"183.808962\"/>\n     <use style=\"fill:#1f77b4;stroke:#1f77b4;\" x=\"80.606864\" xlink:href=\"#m768854c365\" y=\"213.150714\"/>\n     <use style=\"fill:#1f77b4;stroke:#1f77b4;\" x=\"78.780682\" xlink:href=\"#m768854c365\" y=\"207.344838\"/>\n     <use style=\"fill:#1f77b4;stroke:#1f77b4;\" x=\"78.780682\" xlink:href=\"#m768854c365\" y=\"201.692533\"/>\n     <use style=\"fill:#1f77b4;stroke:#1f77b4;\" x=\"92.659664\" xlink:href=\"#m768854c365\" y=\"200.278851\"/>\n     <use style=\"fill:#1f77b4;stroke:#1f77b4;\" x=\"78.780682\" xlink:href=\"#m768854c365\" y=\"202.621732\"/>\n     <use style=\"fill:#1f77b4;stroke:#1f77b4;\" x=\"80.3025\" xlink:href=\"#m768854c365\" y=\"203.575196\"/>\n     <use style=\"fill:#1f77b4;stroke:#1f77b4;\" x=\"238.632464\" xlink:href=\"#m768854c365\" y=\"186.296136\"/>\n     <use style=\"fill:#1f77b4;stroke:#1f77b4;\" x=\"112.260682\" xlink:href=\"#m768854c365\" y=\"183.537258\"/>\n     <use style=\"fill:#1f77b4;stroke:#1f77b4;\" x=\"85.902791\" xlink:href=\"#m768854c365\" y=\"17.083636\"/>\n     <use style=\"fill:#1f77b4;stroke:#1f77b4;\" x=\"88.885555\" xlink:href=\"#m768854c365\" y=\"208.324817\"/>\n     <use style=\"fill:#1f77b4;stroke:#1f77b4;\" x=\"78.780682\" xlink:href=\"#m768854c365\" y=\"193.205747\"/>\n     <use style=\"fill:#1f77b4;stroke:#1f77b4;\" x=\"172.402936\" xlink:href=\"#m768854c365\" y=\"189.005627\"/>\n     <use style=\"fill:#1f77b4;stroke:#1f77b4;\" x=\"78.780682\" xlink:href=\"#m768854c365\" y=\"204.100471\"/>\n     <use style=\"fill:#1f77b4;stroke:#1f77b4;\" x=\"85.172318\" xlink:href=\"#m768854c365\" y=\"193.953664\"/>\n     <use style=\"fill:#1f77b4;stroke:#1f77b4;\" x=\"78.780682\" xlink:href=\"#m768854c365\" y=\"203.570553\"/>\n     <use style=\"fill:#1f77b4;stroke:#1f77b4;\" x=\"78.780682\" xlink:href=\"#m768854c365\" y=\"211.472585\"/>\n     <use style=\"fill:#1f77b4;stroke:#1f77b4;\" x=\"78.780682\" xlink:href=\"#m768854c365\" y=\"198.680288\"/>\n     <use style=\"fill:#1f77b4;stroke:#1f77b4;\" x=\"94.3641\" xlink:href=\"#m768854c365\" y=\"196.180691\"/>\n     <use style=\"fill:#1f77b4;stroke:#1f77b4;\" x=\"78.780682\" xlink:href=\"#m768854c365\" y=\"197.902237\"/>\n     <use style=\"fill:#1f77b4;stroke:#1f77b4;\" x=\"101.303591\" xlink:href=\"#m768854c365\" y=\"191.008491\"/>\n     <use style=\"fill:#1f77b4;stroke:#1f77b4;\" x=\"114.512973\" xlink:href=\"#m768854c365\" y=\"187.227521\"/>\n     <use style=\"fill:#1f77b4;stroke:#1f77b4;\" x=\"90.285627\" xlink:href=\"#m768854c365\" y=\"210.427852\"/>\n     <use style=\"fill:#1f77b4;stroke:#1f77b4;\" x=\"78.780682\" xlink:href=\"#m768854c365\" y=\"198.909559\"/>\n     <use style=\"fill:#1f77b4;stroke:#1f77b4;\" x=\"78.780682\" xlink:href=\"#m768854c365\" y=\"204.551405\"/>\n     <use style=\"fill:#1f77b4;stroke:#1f77b4;\" x=\"110.617118\" xlink:href=\"#m768854c365\" y=\"202.081307\"/>\n     <use style=\"fill:#1f77b4;stroke:#1f77b4;\" x=\"78.780682\" xlink:href=\"#m768854c365\" y=\"206.744313\"/>\n     <use style=\"fill:#1f77b4;stroke:#1f77b4;\" x=\"78.780682\" xlink:href=\"#m768854c365\" y=\"206.40529\"/>\n     <use style=\"fill:#1f77b4;stroke:#1f77b4;\" x=\"85.111445\" xlink:href=\"#m768854c365\" y=\"209.519972\"/>\n     <use style=\"fill:#1f77b4;stroke:#1f77b4;\" x=\"78.780682\" xlink:href=\"#m768854c365\" y=\"211.112376\"/>\n     <use style=\"fill:#1f77b4;stroke:#1f77b4;\" x=\"78.780682\" xlink:href=\"#m768854c365\" y=\"188.800015\"/>\n     <use style=\"fill:#1f77b4;stroke:#1f77b4;\" x=\"326.654427\" xlink:href=\"#m768854c365\" y=\"202.15973\"/>\n     <use style=\"fill:#1f77b4;stroke:#1f77b4;\" x=\"87.850718\" xlink:href=\"#m768854c365\" y=\"189.513676\"/>\n     <use style=\"fill:#1f77b4;stroke:#1f77b4;\" x=\"78.780682\" xlink:href=\"#m768854c365\" y=\"204.813436\"/>\n     <use style=\"fill:#1f77b4;stroke:#1f77b4;\" x=\"78.780682\" xlink:href=\"#m768854c365\" y=\"203.357798\"/>\n     <use style=\"fill:#1f77b4;stroke:#1f77b4;\" x=\"78.780682\" xlink:href=\"#m768854c365\" y=\"183.385511\"/>\n     <use style=\"fill:#1f77b4;stroke:#1f77b4;\" x=\"129.670282\" xlink:href=\"#m768854c365\" y=\"203.0831\"/>\n     <use style=\"fill:#1f77b4;stroke:#1f77b4;\" x=\"78.780682\" xlink:href=\"#m768854c365\" y=\"200.522996\"/>\n     <use style=\"fill:#1f77b4;stroke:#1f77b4;\" x=\"78.780682\" xlink:href=\"#m768854c365\" y=\"207.469791\"/>\n     <use style=\"fill:#1f77b4;stroke:#1f77b4;\" x=\"86.815882\" xlink:href=\"#m768854c365\" y=\"195.359721\"/>\n     <use style=\"fill:#1f77b4;stroke:#1f77b4;\" x=\"78.780682\" xlink:href=\"#m768854c365\" y=\"204.837311\"/>\n     <use style=\"fill:#1f77b4;stroke:#1f77b4;\" x=\"138.679445\" xlink:href=\"#m768854c365\" y=\"176.164138\"/>\n     <use style=\"fill:#1f77b4;stroke:#1f77b4;\" x=\"105.016827\" xlink:href=\"#m768854c365\" y=\"192.636828\"/>\n     <use style=\"fill:#1f77b4;stroke:#1f77b4;\" x=\"78.780682\" xlink:href=\"#m768854c365\" y=\"184.204116\"/>\n     <use style=\"fill:#1f77b4;stroke:#1f77b4;\" x=\"78.780682\" xlink:href=\"#m768854c365\" y=\"185.396546\"/>\n     <use style=\"fill:#1f77b4;stroke:#1f77b4;\" x=\"90.407373\" xlink:href=\"#m768854c365\" y=\"208.74002\"/>\n     <use style=\"fill:#1f77b4;stroke:#1f77b4;\" x=\"102.034064\" xlink:href=\"#m768854c365\" y=\"182.526631\"/>\n     <use style=\"fill:#1f77b4;stroke:#1f77b4;\" x=\"85.415809\" xlink:href=\"#m768854c365\" y=\"188.381388\"/>\n     <use style=\"fill:#1f77b4;stroke:#1f77b4;\" x=\"78.780682\" xlink:href=\"#m768854c365\" y=\"212.641335\"/>\n     <use style=\"fill:#1f77b4;stroke:#1f77b4;\" x=\"78.780682\" xlink:href=\"#m768854c365\" y=\"201.467164\"/>\n     <use style=\"fill:#1f77b4;stroke:#1f77b4;\" x=\"78.780682\" xlink:href=\"#m768854c365\" y=\"201.612479\"/>\n     <use style=\"fill:#1f77b4;stroke:#1f77b4;\" x=\"122.852536\" xlink:href=\"#m768854c365\" y=\"199.421444\"/>\n     <use style=\"fill:#1f77b4;stroke:#1f77b4;\" x=\"93.085773\" xlink:href=\"#m768854c365\" y=\"201.230063\"/>\n     <use style=\"fill:#1f77b4;stroke:#1f77b4;\" x=\"78.780682\" xlink:href=\"#m768854c365\" y=\"206.11804\"/>\n     <use style=\"fill:#1f77b4;stroke:#1f77b4;\" x=\"78.780682\" xlink:href=\"#m768854c365\" y=\"207.264661\"/>\n     <use style=\"fill:#1f77b4;stroke:#1f77b4;\" x=\"118.774064\" xlink:href=\"#m768854c365\" y=\"192.003452\"/>\n     <use style=\"fill:#1f77b4;stroke:#1f77b4;\" x=\"82.859155\" xlink:href=\"#m768854c365\" y=\"205.302083\"/>\n     <use style=\"fill:#1f77b4;stroke:#1f77b4;\" x=\"80.3025\" xlink:href=\"#m768854c365\" y=\"206.817241\"/>\n     <use style=\"fill:#1f77b4;stroke:#1f77b4;\" x=\"92.903155\" xlink:href=\"#m768854c365\" y=\"213.631743\"/>\n     <use style=\"fill:#1f77b4;stroke:#1f77b4;\" x=\"97.894718\" xlink:href=\"#m768854c365\" y=\"211.270498\"/>\n     <use style=\"fill:#1f77b4;stroke:#1f77b4;\" x=\"78.780682\" xlink:href=\"#m768854c365\" y=\"203.811435\"/>\n     <use style=\"fill:#1f77b4;stroke:#1f77b4;\" x=\"97.346864\" xlink:href=\"#m768854c365\" y=\"202.396277\"/>\n     <use style=\"fill:#1f77b4;stroke:#1f77b4;\" x=\"83.6505\" xlink:href=\"#m768854c365\" y=\"194.339993\"/>\n     <use style=\"fill:#1f77b4;stroke:#1f77b4;\" x=\"130.279009\" xlink:href=\"#m768854c365\" y=\"208.645618\"/>\n     <use style=\"fill:#1f77b4;stroke:#1f77b4;\" x=\"86.085409\" xlink:href=\"#m768854c365\" y=\"198.379374\"/>\n     <use style=\"fill:#1f77b4;stroke:#1f77b4;\" x=\"78.780682\" xlink:href=\"#m768854c365\" y=\"205.53997\"/>\n     <use style=\"fill:#1f77b4;stroke:#1f77b4;\" x=\"83.102645\" xlink:href=\"#m768854c365\" y=\"212.682073\"/>\n     <use style=\"fill:#1f77b4;stroke:#1f77b4;\" x=\"78.780682\" xlink:href=\"#m768854c365\" y=\"205.009723\"/>\n     <use style=\"fill:#1f77b4;stroke:#1f77b4;\" x=\"83.6505\" xlink:href=\"#m768854c365\" y=\"201.368833\"/>\n     <use style=\"fill:#1f77b4;stroke:#1f77b4;\" x=\"78.780682\" xlink:href=\"#m768854c365\" y=\"200.628232\"/>\n     <use style=\"fill:#1f77b4;stroke:#1f77b4;\" x=\"138.862064\" xlink:href=\"#m768854c365\" y=\"200.935773\"/>\n     <use style=\"fill:#1f77b4;stroke:#1f77b4;\" x=\"103.312391\" xlink:href=\"#m768854c365\" y=\"197.003271\"/>\n     <use style=\"fill:#1f77b4;stroke:#1f77b4;\" x=\"86.085409\" xlink:href=\"#m768854c365\" y=\"198.677882\"/>\n     <use style=\"fill:#1f77b4;stroke:#1f77b4;\" x=\"78.780682\" xlink:href=\"#m768854c365\" y=\"213.140077\"/>\n     <use style=\"fill:#1f77b4;stroke:#1f77b4;\" x=\"78.780682\" xlink:href=\"#m768854c365\" y=\"202.707098\"/>\n     <use style=\"fill:#1f77b4;stroke:#1f77b4;\" x=\"79.876391\" xlink:href=\"#m768854c365\" y=\"206.771104\"/>\n     <use style=\"fill:#1f77b4;stroke:#1f77b4;\" x=\"142.514427\" xlink:href=\"#m768854c365\" y=\"187.71959\"/>\n     <use style=\"fill:#1f77b4;stroke:#1f77b4;\" x=\"82.615664\" xlink:href=\"#m768854c365\" y=\"198.246515\"/>\n     <use style=\"fill:#1f77b4;stroke:#1f77b4;\" x=\"78.780682\" xlink:href=\"#m768854c365\" y=\"201.776658\"/>\n     <use style=\"fill:#1f77b4;stroke:#1f77b4;\" x=\"78.780682\" xlink:href=\"#m768854c365\" y=\"205.347624\"/>\n     <use style=\"fill:#1f77b4;stroke:#1f77b4;\" x=\"78.780682\" xlink:href=\"#m768854c365\" y=\"191.238994\"/>\n     <use style=\"fill:#1f77b4;stroke:#1f77b4;\" x=\"78.780682\" xlink:href=\"#m768854c365\" y=\"201.848713\"/>\n     <use style=\"fill:#1f77b4;stroke:#1f77b4;\" x=\"79.389409\" xlink:href=\"#m768854c365\" y=\"196.683744\"/>\n     <use style=\"fill:#1f77b4;stroke:#1f77b4;\" x=\"78.780682\" xlink:href=\"#m768854c365\" y=\"208.330739\"/>\n     <use style=\"fill:#1f77b4;stroke:#1f77b4;\" x=\"84.198355\" xlink:href=\"#m768854c365\" y=\"194.390022\"/>\n     <use style=\"fill:#1f77b4;stroke:#1f77b4;\" x=\"80.424245\" xlink:href=\"#m768854c365\" y=\"199.804758\"/>\n     <use style=\"fill:#1f77b4;stroke:#1f77b4;\" x=\"78.780682\" xlink:href=\"#m768854c365\" y=\"196.51561\"/>\n     <use style=\"fill:#1f77b4;stroke:#1f77b4;\" x=\"108.364827\" xlink:href=\"#m768854c365\" y=\"189.309555\"/>\n     <use style=\"fill:#1f77b4;stroke:#1f77b4;\" x=\"78.780682\" xlink:href=\"#m768854c365\" y=\"186.420162\"/>\n     <use style=\"fill:#1f77b4;stroke:#1f77b4;\" x=\"115.608682\" xlink:href=\"#m768854c365\" y=\"192.786931\"/>\n     <use style=\"fill:#1f77b4;stroke:#1f77b4;\" x=\"86.085409\" xlink:href=\"#m768854c365\" y=\"201.19924\"/>\n     <use style=\"fill:#1f77b4;stroke:#1f77b4;\" x=\"78.780682\" xlink:href=\"#m768854c365\" y=\"200.212478\"/>\n     <use style=\"fill:#1f77b4;stroke:#1f77b4;\" x=\"78.780682\" xlink:href=\"#m768854c365\" y=\"188.541451\"/>\n     <use style=\"fill:#1f77b4;stroke:#1f77b4;\" x=\"78.780682\" xlink:href=\"#m768854c365\" y=\"201.793767\"/>\n     <use style=\"fill:#1f77b4;stroke:#1f77b4;\" x=\"78.780682\" xlink:href=\"#m768854c365\" y=\"204.370969\"/>\n     <use style=\"fill:#1f77b4;stroke:#1f77b4;\" x=\"78.780682\" xlink:href=\"#m768854c365\" y=\"211.553503\"/>\n     <use style=\"fill:#1f77b4;stroke:#1f77b4;\" x=\"78.780682\" xlink:href=\"#m768854c365\" y=\"198.881561\"/>\n     <use style=\"fill:#1f77b4;stroke:#1f77b4;\" x=\"78.780682\" xlink:href=\"#m768854c365\" y=\"200.113622\"/>\n     <use style=\"fill:#1f77b4;stroke:#1f77b4;\" x=\"121.391591\" xlink:href=\"#m768854c365\" y=\"202.703878\"/>\n     <use style=\"fill:#1f77b4;stroke:#1f77b4;\" x=\"78.780682\" xlink:href=\"#m768854c365\" y=\"197.805112\"/>\n     <use style=\"fill:#1f77b4;stroke:#1f77b4;\" x=\"78.780682\" xlink:href=\"#m768854c365\" y=\"196.216872\"/>\n     <use style=\"fill:#1f77b4;stroke:#1f77b4;\" x=\"78.780682\" xlink:href=\"#m768854c365\" y=\"204.252279\"/>\n     <use style=\"fill:#1f77b4;stroke:#1f77b4;\" x=\"78.780682\" xlink:href=\"#m768854c365\" y=\"205.511162\"/>\n     <use style=\"fill:#1f77b4;stroke:#1f77b4;\" x=\"78.780682\" xlink:href=\"#m768854c365\" y=\"209.105561\"/>\n     <use style=\"fill:#1f77b4;stroke:#1f77b4;\" x=\"78.780682\" xlink:href=\"#m768854c365\" y=\"182.784913\"/>\n     <use style=\"fill:#1f77b4;stroke:#1f77b4;\" x=\"109.399664\" xlink:href=\"#m768854c365\" y=\"187.576248\"/>\n     <use style=\"fill:#1f77b4;stroke:#1f77b4;\" x=\"78.780682\" xlink:href=\"#m768854c365\" y=\"206.165865\"/>\n     <use style=\"fill:#1f77b4;stroke:#1f77b4;\" x=\"101.912318\" xlink:href=\"#m768854c365\" y=\"182.538553\"/>\n     <use style=\"fill:#1f77b4;stroke:#1f77b4;\" x=\"78.780682\" xlink:href=\"#m768854c365\" y=\"209.246498\"/>\n     <use style=\"fill:#1f77b4;stroke:#1f77b4;\" x=\"144.097118\" xlink:href=\"#m768854c365\" y=\"177.640839\"/>\n     <use style=\"fill:#1f77b4;stroke:#1f77b4;\" x=\"253.0593\" xlink:href=\"#m768854c365\" y=\"121.683164\"/>\n     <use style=\"fill:#1f77b4;stroke:#1f77b4;\" x=\"78.780682\" xlink:href=\"#m768854c365\" y=\"186.971685\"/>\n     <use style=\"fill:#1f77b4;stroke:#1f77b4;\" x=\"78.780682\" xlink:href=\"#m768854c365\" y=\"209.788987\"/>\n     <use style=\"fill:#1f77b4;stroke:#1f77b4;\" x=\"78.780682\" xlink:href=\"#m768854c365\" y=\"194.832729\"/>\n     <use style=\"fill:#1f77b4;stroke:#1f77b4;\" x=\"78.780682\" xlink:href=\"#m768854c365\" y=\"202.212745\"/>\n     <use style=\"fill:#1f77b4;stroke:#1f77b4;\" x=\"78.780682\" xlink:href=\"#m768854c365\" y=\"204.259872\"/>\n     <use style=\"fill:#1f77b4;stroke:#1f77b4;\" x=\"208.378718\" xlink:href=\"#m768854c365\" y=\"155.870866\"/>\n     <use style=\"fill:#1f77b4;stroke:#1f77b4;\" x=\"78.780682\" xlink:href=\"#m768854c365\" y=\"203.89312\"/>\n     <use style=\"fill:#1f77b4;stroke:#1f77b4;\" x=\"78.780682\" xlink:href=\"#m768854c365\" y=\"191.270562\"/>\n     <use style=\"fill:#1f77b4;stroke:#1f77b4;\" x=\"78.780682\" xlink:href=\"#m768854c365\" y=\"198.346631\"/>\n     <use style=\"fill:#1f77b4;stroke:#1f77b4;\" x=\"78.780682\" xlink:href=\"#m768854c365\" y=\"198.14032\"/>\n     <use style=\"fill:#1f77b4;stroke:#1f77b4;\" x=\"255.555082\" xlink:href=\"#m768854c365\" y=\"176.160367\"/>\n     <use style=\"fill:#1f77b4;stroke:#1f77b4;\" x=\"78.780682\" xlink:href=\"#m768854c365\" y=\"50.734262\"/>\n     <use style=\"fill:#1f77b4;stroke:#1f77b4;\" x=\"78.780682\" xlink:href=\"#m768854c365\" y=\"204.341886\"/>\n     <use style=\"fill:#1f77b4;stroke:#1f77b4;\" x=\"78.780682\" xlink:href=\"#m768854c365\" y=\"201.947651\"/>\n     <use style=\"fill:#1f77b4;stroke:#1f77b4;\" x=\"78.780682\" xlink:href=\"#m768854c365\" y=\"194.534399\"/>\n     <use style=\"fill:#1f77b4;stroke:#1f77b4;\" x=\"78.780682\" xlink:href=\"#m768854c365\" y=\"191.467007\"/>\n     <use style=\"fill:#1f77b4;stroke:#1f77b4;\" x=\"83.954864\" xlink:href=\"#m768854c365\" y=\"185.512919\"/>\n     <use style=\"fill:#1f77b4;stroke:#1f77b4;\" x=\"78.780682\" xlink:href=\"#m768854c365\" y=\"205.964461\"/>\n     <use style=\"fill:#1f77b4;stroke:#1f77b4;\" x=\"86.085409\" xlink:href=\"#m768854c365\" y=\"204.201486\"/>\n     <use style=\"fill:#1f77b4;stroke:#1f77b4;\" x=\"103.129773\" xlink:href=\"#m768854c365\" y=\"204.093096\"/>\n     <use style=\"fill:#1f77b4;stroke:#1f77b4;\" x=\"93.085773\" xlink:href=\"#m768854c365\" y=\"207.100134\"/>\n     <use style=\"fill:#1f77b4;stroke:#1f77b4;\" x=\"78.780682\" xlink:href=\"#m768854c365\" y=\"198.293848\"/>\n     <use style=\"fill:#1f77b4;stroke:#1f77b4;\" x=\"80.911227\" xlink:href=\"#m768854c365\" y=\"208.267748\"/>\n     <use style=\"fill:#1f77b4;stroke:#1f77b4;\" x=\"107.695227\" xlink:href=\"#m768854c365\" y=\"195.757531\"/>\n     <use style=\"fill:#1f77b4;stroke:#1f77b4;\" x=\"78.780682\" xlink:href=\"#m768854c365\" y=\"207.788734\"/>\n     <use style=\"fill:#1f77b4;stroke:#1f77b4;\" x=\"78.780682\" xlink:href=\"#m768854c365\" y=\"196.279582\"/>\n     <use style=\"fill:#1f77b4;stroke:#1f77b4;\" x=\"79.693773\" xlink:href=\"#m768854c365\" y=\"197.546179\"/>\n     <use style=\"fill:#1f77b4;stroke:#1f77b4;\" x=\"78.780682\" xlink:href=\"#m768854c365\" y=\"203.072592\"/>\n     <use style=\"fill:#1f77b4;stroke:#1f77b4;\" x=\"90.3465\" xlink:href=\"#m768854c365\" y=\"195.111378\"/>\n     <use style=\"fill:#1f77b4;stroke:#1f77b4;\" x=\"78.780682\" xlink:href=\"#m768854c365\" y=\"202.23264\"/>\n     <use style=\"fill:#1f77b4;stroke:#1f77b4;\" x=\"78.780682\" xlink:href=\"#m768854c365\" y=\"192.883175\"/>\n     <use style=\"fill:#1f77b4;stroke:#1f77b4;\" x=\"78.780682\" xlink:href=\"#m768854c365\" y=\"203.854794\"/>\n     <use style=\"fill:#1f77b4;stroke:#1f77b4;\" x=\"78.780682\" xlink:href=\"#m768854c365\" y=\"162.289767\"/>\n     <use style=\"fill:#1f77b4;stroke:#1f77b4;\" x=\"78.780682\" xlink:href=\"#m768854c365\" y=\"208.213837\"/>\n     <use style=\"fill:#1f77b4;stroke:#1f77b4;\" x=\"83.041773\" xlink:href=\"#m768854c365\" y=\"206.196469\"/>\n     <use style=\"fill:#1f77b4;stroke:#1f77b4;\" x=\"92.294427\" xlink:href=\"#m768854c365\" y=\"208.191374\"/>\n     <use style=\"fill:#1f77b4;stroke:#1f77b4;\" x=\"107.938718\" xlink:href=\"#m768854c365\" y=\"209.116016\"/>\n     <use style=\"fill:#1f77b4;stroke:#1f77b4;\" x=\"78.780682\" xlink:href=\"#m768854c365\" y=\"197.994936\"/>\n     <use style=\"fill:#1f77b4;stroke:#1f77b4;\" x=\"78.780682\" xlink:href=\"#m768854c365\" y=\"196.573572\"/>\n     <use style=\"fill:#1f77b4;stroke:#1f77b4;\" x=\"78.780682\" xlink:href=\"#m768854c365\" y=\"194.836218\"/>\n     <use style=\"fill:#1f77b4;stroke:#1f77b4;\" x=\"78.780682\" xlink:href=\"#m768854c365\" y=\"185.891428\"/>\n     <use style=\"fill:#1f77b4;stroke:#1f77b4;\" x=\"78.780682\" xlink:href=\"#m768854c365\" y=\"209.486989\"/>\n     <use style=\"fill:#1f77b4;stroke:#1f77b4;\" x=\"78.780682\" xlink:href=\"#m768854c365\" y=\"161.731144\"/>\n     <use style=\"fill:#1f77b4;stroke:#1f77b4;\" x=\"90.955227\" xlink:href=\"#m768854c365\" y=\"203.409384\"/>\n     <use style=\"fill:#1f77b4;stroke:#1f77b4;\" x=\"113.7825\" xlink:href=\"#m768854c365\" y=\"173.426793\"/>\n     <use style=\"fill:#1f77b4;stroke:#1f77b4;\" x=\"81.154718\" xlink:href=\"#m768854c365\" y=\"191.923142\"/>\n     <use style=\"fill:#1f77b4;stroke:#1f77b4;\" x=\"78.780682\" xlink:href=\"#m768854c365\" y=\"205.494735\"/>\n     <use style=\"fill:#1f77b4;stroke:#1f77b4;\" x=\"120.4785\" xlink:href=\"#m768854c365\" y=\"180.280335\"/>\n     <use style=\"fill:#1f77b4;stroke:#1f77b4;\" x=\"84.563591\" xlink:href=\"#m768854c365\" y=\"214.424519\"/>\n     <use style=\"fill:#1f77b4;stroke:#1f77b4;\" x=\"78.780682\" xlink:href=\"#m768854c365\" y=\"189.594358\"/>\n     <use style=\"fill:#1f77b4;stroke:#1f77b4;\" x=\"326.958791\" xlink:href=\"#m768854c365\" y=\"188.026582\"/>\n     <use style=\"fill:#1f77b4;stroke:#1f77b4;\" x=\"93.0249\" xlink:href=\"#m768854c365\" y=\"201.063136\"/>\n     <use style=\"fill:#1f77b4;stroke:#1f77b4;\" x=\"87.302864\" xlink:href=\"#m768854c365\" y=\"186.408864\"/>\n     <use style=\"fill:#1f77b4;stroke:#1f77b4;\" x=\"105.260318\" xlink:href=\"#m768854c365\" y=\"207.043865\"/>\n     <use style=\"fill:#1f77b4;stroke:#1f77b4;\" x=\"94.607591\" xlink:href=\"#m768854c365\" y=\"194.154335\"/>\n     <use style=\"fill:#1f77b4;stroke:#1f77b4;\" x=\"78.780682\" xlink:href=\"#m768854c365\" y=\"201.389471\"/>\n     <use style=\"fill:#1f77b4;stroke:#1f77b4;\" x=\"84.867955\" xlink:href=\"#m768854c365\" y=\"209.627372\"/>\n     <use style=\"fill:#1f77b4;stroke:#1f77b4;\" x=\"111.712827\" xlink:href=\"#m768854c365\" y=\"186.866794\"/>\n     <use style=\"fill:#1f77b4;stroke:#1f77b4;\" x=\"86.511518\" xlink:href=\"#m768854c365\" y=\"196.123449\"/>\n     <use style=\"fill:#1f77b4;stroke:#1f77b4;\" x=\"78.780682\" xlink:href=\"#m768854c365\" y=\"213.76638\"/>\n     <use style=\"fill:#1f77b4;stroke:#1f77b4;\" x=\"78.780682\" xlink:href=\"#m768854c365\" y=\"209.165749\"/>\n     <use style=\"fill:#1f77b4;stroke:#1f77b4;\" x=\"78.780682\" xlink:href=\"#m768854c365\" y=\"203.361405\"/>\n     <use style=\"fill:#1f77b4;stroke:#1f77b4;\" x=\"78.780682\" xlink:href=\"#m768854c365\" y=\"178.347878\"/>\n     <use style=\"fill:#1f77b4;stroke:#1f77b4;\" x=\"221.648973\" xlink:href=\"#m768854c365\" y=\"212.360634\"/>\n     <use style=\"fill:#1f77b4;stroke:#1f77b4;\" x=\"78.780682\" xlink:href=\"#m768854c365\" y=\"177.424822\"/>\n     <use style=\"fill:#1f77b4;stroke:#1f77b4;\" x=\"198.517336\" xlink:href=\"#m768854c365\" y=\"202.577497\"/>\n     <use style=\"fill:#1f77b4;stroke:#1f77b4;\" x=\"89.737773\" xlink:href=\"#m768854c365\" y=\"178.192442\"/>\n     <use style=\"fill:#1f77b4;stroke:#1f77b4;\" x=\"115.7913\" xlink:href=\"#m768854c365\" y=\"181.624878\"/>\n     <use style=\"fill:#1f77b4;stroke:#1f77b4;\" x=\"91.137845\" xlink:href=\"#m768854c365\" y=\"184.781023\"/>\n     <use style=\"fill:#1f77b4;stroke:#1f77b4;\" x=\"98.259955\" xlink:href=\"#m768854c365\" y=\"195.883706\"/>\n     <use style=\"fill:#1f77b4;stroke:#1f77b4;\" x=\"122.548173\" xlink:href=\"#m768854c365\" y=\"157.439304\"/>\n     <use style=\"fill:#1f77b4;stroke:#1f77b4;\" x=\"79.693773\" xlink:href=\"#m768854c365\" y=\"186.750769\"/>\n     <use style=\"fill:#1f77b4;stroke:#1f77b4;\" x=\"79.693773\" xlink:href=\"#m768854c365\" y=\"182.44338\"/>\n     <use style=\"fill:#1f77b4;stroke:#1f77b4;\" x=\"78.780682\" xlink:href=\"#m768854c365\" y=\"194.214425\"/>\n     <use style=\"fill:#1f77b4;stroke:#1f77b4;\" x=\"78.780682\" xlink:href=\"#m768854c365\" y=\"205.420378\"/>\n     <use style=\"fill:#1f77b4;stroke:#1f77b4;\" x=\"159.497918\" xlink:href=\"#m768854c365\" y=\"214.672462\"/>\n     <use style=\"fill:#1f77b4;stroke:#1f77b4;\" x=\"78.780682\" xlink:href=\"#m768854c365\" y=\"200.462977\"/>\n     <use style=\"fill:#1f77b4;stroke:#1f77b4;\" x=\"78.780682\" xlink:href=\"#m768854c365\" y=\"195.490367\"/>\n     <use style=\"fill:#1f77b4;stroke:#1f77b4;\" x=\"78.780682\" xlink:href=\"#m768854c365\" y=\"175.977736\"/>\n     <use style=\"fill:#1f77b4;stroke:#1f77b4;\" x=\"78.780682\" xlink:href=\"#m768854c365\" y=\"200.378802\"/>\n     <use style=\"fill:#1f77b4;stroke:#1f77b4;\" x=\"114.025991\" xlink:href=\"#m768854c365\" y=\"195.737109\"/>\n     <use style=\"fill:#1f77b4;stroke:#1f77b4;\" x=\"78.780682\" xlink:href=\"#m768854c365\" y=\"211.079367\"/>\n     <use style=\"fill:#1f77b4;stroke:#1f77b4;\" x=\"78.780682\" xlink:href=\"#m768854c365\" y=\"211.238838\"/>\n     <use style=\"fill:#1f77b4;stroke:#1f77b4;\" x=\"78.780682\" xlink:href=\"#m768854c365\" y=\"203.331251\"/>\n     <use style=\"fill:#1f77b4;stroke:#1f77b4;\" x=\"78.780682\" xlink:href=\"#m768854c365\" y=\"211.391689\"/>\n     <use style=\"fill:#1f77b4;stroke:#1f77b4;\" x=\"134.174864\" xlink:href=\"#m768854c365\" y=\"211.333878\"/>\n     <use style=\"fill:#1f77b4;stroke:#1f77b4;\" x=\"102.521045\" xlink:href=\"#m768854c365\" y=\"202.957971\"/>\n     <use style=\"fill:#1f77b4;stroke:#1f77b4;\" x=\"78.780682\" xlink:href=\"#m768854c365\" y=\"199.572495\"/>\n     <use style=\"fill:#1f77b4;stroke:#1f77b4;\" x=\"105.016827\" xlink:href=\"#m768854c365\" y=\"207.314658\"/>\n     <use style=\"fill:#1f77b4;stroke:#1f77b4;\" x=\"117.313118\" xlink:href=\"#m768854c365\" y=\"183.338327\"/>\n     <use style=\"fill:#1f77b4;stroke:#1f77b4;\" x=\"100.451373\" xlink:href=\"#m768854c365\" y=\"183.89939\"/>\n     <use style=\"fill:#1f77b4;stroke:#1f77b4;\" x=\"78.780682\" xlink:href=\"#m768854c365\" y=\"214.756364\"/>\n     <use style=\"fill:#1f77b4;stroke:#1f77b4;\" x=\"100.694864\" xlink:href=\"#m768854c365\" y=\"205.62608\"/>\n     <use style=\"fill:#1f77b4;stroke:#1f77b4;\" x=\"84.685336\" xlink:href=\"#m768854c365\" y=\"183.453503\"/>\n     <use style=\"fill:#1f77b4;stroke:#1f77b4;\" x=\"81.824318\" xlink:href=\"#m768854c365\" y=\"184.593504\"/>\n     <use style=\"fill:#1f77b4;stroke:#1f77b4;\" x=\"78.780682\" xlink:href=\"#m768854c365\" y=\"195.321384\"/>\n     <use style=\"fill:#1f77b4;stroke:#1f77b4;\" x=\"78.780682\" xlink:href=\"#m768854c365\" y=\"199.15601\"/>\n     <use style=\"fill:#1f77b4;stroke:#1f77b4;\" x=\"78.780682\" xlink:href=\"#m768854c365\" y=\"183.799937\"/>\n     <use style=\"fill:#1f77b4;stroke:#1f77b4;\" x=\"78.780682\" xlink:href=\"#m768854c365\" y=\"203.370149\"/>\n     <use style=\"fill:#1f77b4;stroke:#1f77b4;\" x=\"78.780682\" xlink:href=\"#m768854c365\" y=\"204.249201\"/>\n     <use style=\"fill:#1f77b4;stroke:#1f77b4;\" x=\"109.338791\" xlink:href=\"#m768854c365\" y=\"198.485424\"/>\n     <use style=\"fill:#1f77b4;stroke:#1f77b4;\" x=\"104.225482\" xlink:href=\"#m768854c365\" y=\"202.229312\"/>\n     <use style=\"fill:#1f77b4;stroke:#1f77b4;\" x=\"78.780682\" xlink:href=\"#m768854c365\" y=\"202.391861\"/>\n     <use style=\"fill:#1f77b4;stroke:#1f77b4;\" x=\"78.780682\" xlink:href=\"#m768854c365\" y=\"195.4505\"/>\n     <use style=\"fill:#1f77b4;stroke:#1f77b4;\" x=\"78.780682\" xlink:href=\"#m768854c365\" y=\"200.156258\"/>\n     <use style=\"fill:#1f77b4;stroke:#1f77b4;\" x=\"78.780682\" xlink:href=\"#m768854c365\" y=\"193.67161\"/>\n     <use style=\"fill:#1f77b4;stroke:#1f77b4;\" x=\"78.780682\" xlink:href=\"#m768854c365\" y=\"192.953597\"/>\n     <use style=\"fill:#1f77b4;stroke:#1f77b4;\" x=\"88.763809\" xlink:href=\"#m768854c365\" y=\"203.916583\"/>\n     <use style=\"fill:#1f77b4;stroke:#1f77b4;\" x=\"78.780682\" xlink:href=\"#m768854c365\" y=\"206.898197\"/>\n     <use style=\"fill:#1f77b4;stroke:#1f77b4;\" x=\"78.780682\" xlink:href=\"#m768854c365\" y=\"212.034051\"/>\n     <use style=\"fill:#1f77b4;stroke:#1f77b4;\" x=\"78.780682\" xlink:href=\"#m768854c365\" y=\"185.918989\"/>\n     <use style=\"fill:#1f77b4;stroke:#1f77b4;\" x=\"94.242355\" xlink:href=\"#m768854c365\" y=\"208.025522\"/>\n     <use style=\"fill:#1f77b4;stroke:#1f77b4;\" x=\"78.780682\" xlink:href=\"#m768854c365\" y=\"203.312403\"/>\n     <use style=\"fill:#1f77b4;stroke:#1f77b4;\" x=\"99.173045\" xlink:href=\"#m768854c365\" y=\"186.530565\"/>\n     <use style=\"fill:#1f77b4;stroke:#1f77b4;\" x=\"118.043591\" xlink:href=\"#m768854c365\" y=\"183.229282\"/>\n     <use style=\"fill:#1f77b4;stroke:#1f77b4;\" x=\"78.780682\" xlink:href=\"#m768854c365\" y=\"192.133018\"/>\n     <use style=\"fill:#1f77b4;stroke:#1f77b4;\" x=\"115.7913\" xlink:href=\"#m768854c365\" y=\"201.082639\"/>\n     <use style=\"fill:#1f77b4;stroke:#1f77b4;\" x=\"78.780682\" xlink:href=\"#m768854c365\" y=\"187.961834\"/>\n     <use style=\"fill:#1f77b4;stroke:#1f77b4;\" x=\"80.424245\" xlink:href=\"#m768854c365\" y=\"197.31072\"/>\n     <use style=\"fill:#1f77b4;stroke:#1f77b4;\" x=\"78.780682\" xlink:href=\"#m768854c365\" y=\"200.094479\"/>\n     <use style=\"fill:#1f77b4;stroke:#1f77b4;\" x=\"78.780682\" xlink:href=\"#m768854c365\" y=\"195.1491\"/>\n     <use style=\"fill:#1f77b4;stroke:#1f77b4;\" x=\"295.304973\" xlink:href=\"#m768854c365\" y=\"193.413976\"/>\n     <use style=\"fill:#1f77b4;stroke:#1f77b4;\" x=\"78.780682\" xlink:href=\"#m768854c365\" y=\"209.544269\"/>\n     <use style=\"fill:#1f77b4;stroke:#1f77b4;\" x=\"101.364464\" xlink:href=\"#m768854c365\" y=\"199.217837\"/>\n     <use style=\"fill:#1f77b4;stroke:#1f77b4;\" x=\"82.433045\" xlink:href=\"#m768854c365\" y=\"204.004888\"/>\n     <use style=\"fill:#1f77b4;stroke:#1f77b4;\" x=\"80.3025\" xlink:href=\"#m768854c365\" y=\"172.128147\"/>\n     <use style=\"fill:#1f77b4;stroke:#1f77b4;\" x=\"78.780682\" xlink:href=\"#m768854c365\" y=\"193.800401\"/>\n     <use style=\"fill:#1f77b4;stroke:#1f77b4;\" x=\"78.780682\" xlink:href=\"#m768854c365\" y=\"203.595971\"/>\n     <use style=\"fill:#1f77b4;stroke:#1f77b4;\" x=\"90.042136\" xlink:href=\"#m768854c365\" y=\"205.829413\"/>\n     <use style=\"fill:#1f77b4;stroke:#1f77b4;\" x=\"81.276464\" xlink:href=\"#m768854c365\" y=\"204.893433\"/>\n     <use style=\"fill:#1f77b4;stroke:#1f77b4;\" x=\"87.181118\" xlink:href=\"#m768854c365\" y=\"199.834721\"/>\n     <use style=\"fill:#1f77b4;stroke:#1f77b4;\" x=\"78.780682\" xlink:href=\"#m768854c365\" y=\"201.774852\"/>\n     <use style=\"fill:#1f77b4;stroke:#1f77b4;\" x=\"78.780682\" xlink:href=\"#m768854c365\" y=\"170.860362\"/>\n     <use style=\"fill:#1f77b4;stroke:#1f77b4;\" x=\"78.780682\" xlink:href=\"#m768854c365\" y=\"209.473497\"/>\n     <use style=\"fill:#1f77b4;stroke:#1f77b4;\" x=\"98.929555\" xlink:href=\"#m768854c365\" y=\"209.000139\"/>\n     <use style=\"fill:#1f77b4;stroke:#1f77b4;\" x=\"88.459445\" xlink:href=\"#m768854c365\" y=\"175.024268\"/>\n     <use style=\"fill:#1f77b4;stroke:#1f77b4;\" x=\"88.215955\" xlink:href=\"#m768854c365\" y=\"187.264403\"/>\n     <use style=\"fill:#1f77b4;stroke:#1f77b4;\" x=\"78.780682\" xlink:href=\"#m768854c365\" y=\"203.478051\"/>\n     <use style=\"fill:#1f77b4;stroke:#1f77b4;\" x=\"83.346136\" xlink:href=\"#m768854c365\" y=\"184.821156\"/>\n     <use style=\"fill:#1f77b4;stroke:#1f77b4;\" x=\"78.780682\" xlink:href=\"#m768854c365\" y=\"188.449729\"/>\n     <use style=\"fill:#1f77b4;stroke:#1f77b4;\" x=\"78.780682\" xlink:href=\"#m768854c365\" y=\"206.35415\"/>\n     <use style=\"fill:#1f77b4;stroke:#1f77b4;\" x=\"78.780682\" xlink:href=\"#m768854c365\" y=\"205.651408\"/>\n     <use style=\"fill:#1f77b4;stroke:#1f77b4;\" x=\"78.780682\" xlink:href=\"#m768854c365\" y=\"198.41573\"/>\n     <use style=\"fill:#1f77b4;stroke:#1f77b4;\" x=\"78.780682\" xlink:href=\"#m768854c365\" y=\"207.804076\"/>\n     <use style=\"fill:#1f77b4;stroke:#1f77b4;\" x=\"81.824318\" xlink:href=\"#m768854c365\" y=\"208.781166\"/>\n     <use style=\"fill:#1f77b4;stroke:#1f77b4;\" x=\"98.929555\" xlink:href=\"#m768854c365\" y=\"196.890048\"/>\n     <use style=\"fill:#1f77b4;stroke:#1f77b4;\" x=\"78.780682\" xlink:href=\"#m768854c365\" y=\"209.905551\"/>\n     <use style=\"fill:#1f77b4;stroke:#1f77b4;\" x=\"78.780682\" xlink:href=\"#m768854c365\" y=\"203.739608\"/>\n     <use style=\"fill:#1f77b4;stroke:#1f77b4;\" x=\"212.274573\" xlink:href=\"#m768854c365\" y=\"45.153546\"/>\n     <use style=\"fill:#1f77b4;stroke:#1f77b4;\" x=\"78.780682\" xlink:href=\"#m768854c365\" y=\"193.558224\"/>\n     <use style=\"fill:#1f77b4;stroke:#1f77b4;\" x=\"97.225118\" xlink:href=\"#m768854c365\" y=\"199.596215\"/>\n     <use style=\"fill:#1f77b4;stroke:#1f77b4;\" x=\"78.780682\" xlink:href=\"#m768854c365\" y=\"207.635381\"/>\n     <use style=\"fill:#1f77b4;stroke:#1f77b4;\" x=\"93.998864\" xlink:href=\"#m768854c365\" y=\"185.72003\"/>\n     <use style=\"fill:#1f77b4;stroke:#1f77b4;\" x=\"78.780682\" xlink:href=\"#m768854c365\" y=\"211.282997\"/>\n     <use style=\"fill:#1f77b4;stroke:#1f77b4;\" x=\"119.991518\" xlink:href=\"#m768854c365\" y=\"199.558887\"/>\n     <use style=\"fill:#1f77b4;stroke:#1f77b4;\" x=\"78.780682\" xlink:href=\"#m768854c365\" y=\"213.024934\"/>\n     <use style=\"fill:#1f77b4;stroke:#1f77b4;\" x=\"154.810718\" xlink:href=\"#m768854c365\" y=\"184.242855\"/>\n     <use style=\"fill:#1f77b4;stroke:#1f77b4;\" x=\"85.476682\" xlink:href=\"#m768854c365\" y=\"210.292086\"/>\n     <use style=\"fill:#1f77b4;stroke:#1f77b4;\" x=\"87.911591\" xlink:href=\"#m768854c365\" y=\"193.740532\"/>\n     <use style=\"fill:#1f77b4;stroke:#1f77b4;\" x=\"78.780682\" xlink:href=\"#m768854c365\" y=\"189.890225\"/>\n     <use style=\"fill:#1f77b4;stroke:#1f77b4;\" x=\"78.780682\" xlink:href=\"#m768854c365\" y=\"169.139123\"/>\n     <use style=\"fill:#1f77b4;stroke:#1f77b4;\" x=\"78.780682\" xlink:href=\"#m768854c365\" y=\"187.921691\"/>\n     <use style=\"fill:#1f77b4;stroke:#1f77b4;\" x=\"88.763809\" xlink:href=\"#m768854c365\" y=\"200.463028\"/>\n     <use style=\"fill:#1f77b4;stroke:#1f77b4;\" x=\"80.911227\" xlink:href=\"#m768854c365\" y=\"205.928289\"/>\n     <use style=\"fill:#1f77b4;stroke:#1f77b4;\" x=\"78.780682\" xlink:href=\"#m768854c365\" y=\"201.184921\"/>\n     <use style=\"fill:#1f77b4;stroke:#1f77b4;\" x=\"78.780682\" xlink:href=\"#m768854c365\" y=\"187.439718\"/>\n     <use style=\"fill:#1f77b4;stroke:#1f77b4;\" x=\"78.780682\" xlink:href=\"#m768854c365\" y=\"214.756364\"/>\n     <use style=\"fill:#1f77b4;stroke:#1f77b4;\" x=\"78.780682\" xlink:href=\"#m768854c365\" y=\"210.70255\"/>\n     <use style=\"fill:#1f77b4;stroke:#1f77b4;\" x=\"80.3025\" xlink:href=\"#m768854c365\" y=\"205.717594\"/>\n     <use style=\"fill:#1f77b4;stroke:#1f77b4;\" x=\"111.895445\" xlink:href=\"#m768854c365\" y=\"180.624892\"/>\n     <use style=\"fill:#1f77b4;stroke:#1f77b4;\" x=\"78.780682\" xlink:href=\"#m768854c365\" y=\"210.614704\"/>\n     <use style=\"fill:#1f77b4;stroke:#1f77b4;\" x=\"78.780682\" xlink:href=\"#m768854c365\" y=\"196.572138\"/>\n     <use style=\"fill:#1f77b4;stroke:#1f77b4;\" x=\"84.746209\" xlink:href=\"#m768854c365\" y=\"189.959003\"/>\n     <use style=\"fill:#1f77b4;stroke:#1f77b4;\" x=\"122.974282\" xlink:href=\"#m768854c365\" y=\"205.056204\"/>\n     <use style=\"fill:#1f77b4;stroke:#1f77b4;\" x=\"79.815518\" xlink:href=\"#m768854c365\" y=\"213.185331\"/>\n     <use style=\"fill:#1f77b4;stroke:#1f77b4;\" x=\"78.780682\" xlink:href=\"#m768854c365\" y=\"197.224218\"/>\n     <use style=\"fill:#1f77b4;stroke:#1f77b4;\" x=\"78.780682\" xlink:href=\"#m768854c365\" y=\"200.680779\"/>\n     <use style=\"fill:#1f77b4;stroke:#1f77b4;\" x=\"78.780682\" xlink:href=\"#m768854c365\" y=\"201.30854\"/>\n     <use style=\"fill:#1f77b4;stroke:#1f77b4;\" x=\"78.780682\" xlink:href=\"#m768854c365\" y=\"194.905085\"/>\n     <use style=\"fill:#1f77b4;stroke:#1f77b4;\" x=\"85.902791\" xlink:href=\"#m768854c365\" y=\"179.328683\"/>\n     <use style=\"fill:#1f77b4;stroke:#1f77b4;\" x=\"78.780682\" xlink:href=\"#m768854c365\" y=\"207.729638\"/>\n     <use style=\"fill:#1f77b4;stroke:#1f77b4;\" x=\"78.780682\" xlink:href=\"#m768854c365\" y=\"160.082585\"/>\n     <use style=\"fill:#1f77b4;stroke:#1f77b4;\" x=\"78.780682\" xlink:href=\"#m768854c365\" y=\"201.856471\"/>\n     <use style=\"fill:#1f77b4;stroke:#1f77b4;\" x=\"82.737409\" xlink:href=\"#m768854c365\" y=\"205.84238\"/>\n     <use style=\"fill:#1f77b4;stroke:#1f77b4;\" x=\"84.867955\" xlink:href=\"#m768854c365\" y=\"200.648163\"/>\n     <use style=\"fill:#1f77b4;stroke:#1f77b4;\" x=\"148.6017\" xlink:href=\"#m768854c365\" y=\"183.059152\"/>\n     <use style=\"fill:#1f77b4;stroke:#1f77b4;\" x=\"83.6505\" xlink:href=\"#m768854c365\" y=\"191.019142\"/>\n     <use style=\"fill:#1f77b4;stroke:#1f77b4;\" x=\"78.780682\" xlink:href=\"#m768854c365\" y=\"212.201619\"/>\n     <use style=\"fill:#1f77b4;stroke:#1f77b4;\" x=\"78.780682\" xlink:href=\"#m768854c365\" y=\"193.987762\"/>\n     <use style=\"fill:#1f77b4;stroke:#1f77b4;\" x=\"78.780682\" xlink:href=\"#m768854c365\" y=\"214.756364\"/>\n     <use style=\"fill:#1f77b4;stroke:#1f77b4;\" x=\"96.129409\" xlink:href=\"#m768854c365\" y=\"203.776778\"/>\n     <use style=\"fill:#1f77b4;stroke:#1f77b4;\" x=\"91.198718\" xlink:href=\"#m768854c365\" y=\"214.085671\"/>\n     <use style=\"fill:#1f77b4;stroke:#1f77b4;\" x=\"78.780682\" xlink:href=\"#m768854c365\" y=\"195.939438\"/>\n     <use style=\"fill:#1f77b4;stroke:#1f77b4;\" x=\"82.737409\" xlink:href=\"#m768854c365\" y=\"210.9664\"/>\n     <use style=\"fill:#1f77b4;stroke:#1f77b4;\" x=\"78.780682\" xlink:href=\"#m768854c365\" y=\"193.245919\"/>\n     <use style=\"fill:#1f77b4;stroke:#1f77b4;\" x=\"78.780682\" xlink:href=\"#m768854c365\" y=\"198.044066\"/>\n     <use style=\"fill:#1f77b4;stroke:#1f77b4;\" x=\"129.670282\" xlink:href=\"#m768854c365\" y=\"189.586725\"/>\n     <use style=\"fill:#1f77b4;stroke:#1f77b4;\" x=\"78.780682\" xlink:href=\"#m768854c365\" y=\"191.510827\"/>\n     <use style=\"fill:#1f77b4;stroke:#1f77b4;\" x=\"329.576318\" xlink:href=\"#m768854c365\" y=\"151.120338\"/>\n     <use style=\"fill:#1f77b4;stroke:#1f77b4;\" x=\"78.780682\" xlink:href=\"#m768854c365\" y=\"205.645165\"/>\n     <use style=\"fill:#1f77b4;stroke:#1f77b4;\" x=\"124.191736\" xlink:href=\"#m768854c365\" y=\"201.121409\"/>\n     <use style=\"fill:#1f77b4;stroke:#1f77b4;\" x=\"78.780682\" xlink:href=\"#m768854c365\" y=\"206.525151\"/>\n     <use style=\"fill:#1f77b4;stroke:#1f77b4;\" x=\"78.780682\" xlink:href=\"#m768854c365\" y=\"214.756364\"/>\n     <use style=\"fill:#1f77b4;stroke:#1f77b4;\" x=\"78.780682\" xlink:href=\"#m768854c365\" y=\"203.954048\"/>\n     <use style=\"fill:#1f77b4;stroke:#1f77b4;\" x=\"78.780682\" xlink:href=\"#m768854c365\" y=\"202.351984\"/>\n     <use style=\"fill:#1f77b4;stroke:#1f77b4;\" x=\"92.598791\" xlink:href=\"#m768854c365\" y=\"196.322631\"/>\n     <use style=\"fill:#1f77b4;stroke:#1f77b4;\" x=\"93.937991\" xlink:href=\"#m768854c365\" y=\"199.095683\"/>\n     <use style=\"fill:#1f77b4;stroke:#1f77b4;\" x=\"78.780682\" xlink:href=\"#m768854c365\" y=\"148.964979\"/>\n     <use style=\"fill:#1f77b4;stroke:#1f77b4;\" x=\"78.780682\" xlink:href=\"#m768854c365\" y=\"209.393035\"/>\n     <use style=\"fill:#1f77b4;stroke:#1f77b4;\" x=\"78.780682\" xlink:href=\"#m768854c365\" y=\"198.733785\"/>\n     <use style=\"fill:#1f77b4;stroke:#1f77b4;\" x=\"78.780682\" xlink:href=\"#m768854c365\" y=\"178.675501\"/>\n     <use style=\"fill:#1f77b4;stroke:#1f77b4;\" x=\"78.780682\" xlink:href=\"#m768854c365\" y=\"197.066201\"/>\n     <use style=\"fill:#1f77b4;stroke:#1f77b4;\" x=\"78.780682\" xlink:href=\"#m768854c365\" y=\"192.754276\"/>\n     <use style=\"fill:#1f77b4;stroke:#1f77b4;\" x=\"78.780682\" xlink:href=\"#m768854c365\" y=\"204.659749\"/>\n     <use style=\"fill:#1f77b4;stroke:#1f77b4;\" x=\"78.780682\" xlink:href=\"#m768854c365\" y=\"202.570283\"/>\n     <use style=\"fill:#1f77b4;stroke:#1f77b4;\" x=\"78.780682\" xlink:href=\"#m768854c365\" y=\"214.756364\"/>\n     <use style=\"fill:#1f77b4;stroke:#1f77b4;\" x=\"78.780682\" xlink:href=\"#m768854c365\" y=\"214.756364\"/>\n     <use style=\"fill:#1f77b4;stroke:#1f77b4;\" x=\"78.780682\" xlink:href=\"#m768854c365\" y=\"207.469943\"/>\n     <use style=\"fill:#1f77b4;stroke:#1f77b4;\" x=\"78.780682\" xlink:href=\"#m768854c365\" y=\"210.368581\"/>\n     <use style=\"fill:#1f77b4;stroke:#1f77b4;\" x=\"94.790209\" xlink:href=\"#m768854c365\" y=\"203.060009\"/>\n     <use style=\"fill:#1f77b4;stroke:#1f77b4;\" x=\"84.259227\" xlink:href=\"#m768854c365\" y=\"205.782792\"/>\n     <use style=\"fill:#1f77b4;stroke:#1f77b4;\" x=\"78.780682\" xlink:href=\"#m768854c365\" y=\"195.811435\"/>\n     <use style=\"fill:#1f77b4;stroke:#1f77b4;\" x=\"78.780682\" xlink:href=\"#m768854c365\" y=\"206.535855\"/>\n     <use style=\"fill:#1f77b4;stroke:#1f77b4;\" x=\"78.780682\" xlink:href=\"#m768854c365\" y=\"182.780032\"/>\n     <use style=\"fill:#1f77b4;stroke:#1f77b4;\" x=\"78.780682\" xlink:href=\"#m768854c365\" y=\"195.592201\"/>\n     <use style=\"fill:#1f77b4;stroke:#1f77b4;\" x=\"100.999227\" xlink:href=\"#m768854c365\" y=\"204.391336\"/>\n     <use style=\"fill:#1f77b4;stroke:#1f77b4;\" x=\"88.398573\" xlink:href=\"#m768854c365\" y=\"200.304252\"/>\n     <use style=\"fill:#1f77b4;stroke:#1f77b4;\" x=\"78.780682\" xlink:href=\"#m768854c365\" y=\"203.862623\"/>\n     <use style=\"fill:#1f77b4;stroke:#1f77b4;\" x=\"78.780682\" xlink:href=\"#m768854c365\" y=\"192.152433\"/>\n     <use style=\"fill:#1f77b4;stroke:#1f77b4;\" x=\"78.780682\" xlink:href=\"#m768854c365\" y=\"196.489281\"/>\n     <use style=\"fill:#1f77b4;stroke:#1f77b4;\" x=\"78.780682\" xlink:href=\"#m768854c365\" y=\"201.417397\"/>\n     <use style=\"fill:#1f77b4;stroke:#1f77b4;\" x=\"93.451009\" xlink:href=\"#m768854c365\" y=\"184.976236\"/>\n     <use style=\"fill:#1f77b4;stroke:#1f77b4;\" x=\"86.9985\" xlink:href=\"#m768854c365\" y=\"197.763777\"/>\n     <use style=\"fill:#1f77b4;stroke:#1f77b4;\" x=\"87.911591\" xlink:href=\"#m768854c365\" y=\"203.82451\"/>\n     <use style=\"fill:#1f77b4;stroke:#1f77b4;\" x=\"127.722355\" xlink:href=\"#m768854c365\" y=\"187.814252\"/>\n     <use style=\"fill:#1f77b4;stroke:#1f77b4;\" x=\"286.478427\" xlink:href=\"#m768854c365\" y=\"175.494096\"/>\n     <use style=\"fill:#1f77b4;stroke:#1f77b4;\" x=\"94.607591\" xlink:href=\"#m768854c365\" y=\"214.756364\"/>\n     <use style=\"fill:#1f77b4;stroke:#1f77b4;\" x=\"78.780682\" xlink:href=\"#m768854c365\" y=\"201.660123\"/>\n     <use style=\"fill:#1f77b4;stroke:#1f77b4;\" x=\"83.346136\" xlink:href=\"#m768854c365\" y=\"181.510452\"/>\n     <use style=\"fill:#1f77b4;stroke:#1f77b4;\" x=\"89.798645\" xlink:href=\"#m768854c365\" y=\"187.212485\"/>\n     <use style=\"fill:#1f77b4;stroke:#1f77b4;\" x=\"94.729336\" xlink:href=\"#m768854c365\" y=\"208.53697\"/>\n     <use style=\"fill:#1f77b4;stroke:#1f77b4;\" x=\"85.781045\" xlink:href=\"#m768854c365\" y=\"209.685674\"/>\n     <use style=\"fill:#1f77b4;stroke:#1f77b4;\" x=\"78.780682\" xlink:href=\"#m768854c365\" y=\"203.825755\"/>\n     <use style=\"fill:#1f77b4;stroke:#1f77b4;\" x=\"78.780682\" xlink:href=\"#m768854c365\" y=\"205.757131\"/>\n     <use style=\"fill:#1f77b4;stroke:#1f77b4;\" x=\"78.780682\" xlink:href=\"#m768854c365\" y=\"208.173565\"/>\n     <use style=\"fill:#1f77b4;stroke:#1f77b4;\" x=\"96.129409\" xlink:href=\"#m768854c365\" y=\"186.833968\"/>\n     <use style=\"fill:#1f77b4;stroke:#1f77b4;\" x=\"117.008755\" xlink:href=\"#m768854c365\" y=\"198.456237\"/>\n     <use style=\"fill:#1f77b4;stroke:#1f77b4;\" x=\"78.780682\" xlink:href=\"#m768854c365\" y=\"182.258065\"/>\n     <use style=\"fill:#1f77b4;stroke:#1f77b4;\" x=\"78.780682\" xlink:href=\"#m768854c365\" y=\"196.305264\"/>\n     <use style=\"fill:#1f77b4;stroke:#1f77b4;\" x=\"267.973118\" xlink:href=\"#m768854c365\" y=\"184.322048\"/>\n     <use style=\"fill:#1f77b4;stroke:#1f77b4;\" x=\"78.780682\" xlink:href=\"#m768854c365\" y=\"214.756364\"/>\n     <use style=\"fill:#1f77b4;stroke:#1f77b4;\" x=\"86.3289\" xlink:href=\"#m768854c365\" y=\"191.818811\"/>\n     <use style=\"fill:#1f77b4;stroke:#1f77b4;\" x=\"78.780682\" xlink:href=\"#m768854c365\" y=\"202.322564\"/>\n     <use style=\"fill:#1f77b4;stroke:#1f77b4;\" x=\"91.076973\" xlink:href=\"#m768854c365\" y=\"200.038516\"/>\n     <use style=\"fill:#1f77b4;stroke:#1f77b4;\" x=\"78.780682\" xlink:href=\"#m768854c365\" y=\"196.307212\"/>\n     <use style=\"fill:#1f77b4;stroke:#1f77b4;\" x=\"78.780682\" xlink:href=\"#m768854c365\" y=\"196.453064\"/>\n     <use style=\"fill:#1f77b4;stroke:#1f77b4;\" x=\"93.511882\" xlink:href=\"#m768854c365\" y=\"209.445899\"/>\n     <use style=\"fill:#1f77b4;stroke:#1f77b4;\" x=\"88.215955\" xlink:href=\"#m768854c365\" y=\"184.341479\"/>\n     <use style=\"fill:#1f77b4;stroke:#1f77b4;\" x=\"78.780682\" xlink:href=\"#m768854c365\" y=\"207.599742\"/>\n     <use style=\"fill:#1f77b4;stroke:#1f77b4;\" x=\"78.780682\" xlink:href=\"#m768854c365\" y=\"205.400372\"/>\n     <use style=\"fill:#1f77b4;stroke:#1f77b4;\" x=\"78.780682\" xlink:href=\"#m768854c365\" y=\"202.123144\"/>\n     <use style=\"fill:#1f77b4;stroke:#1f77b4;\" x=\"78.780682\" xlink:href=\"#m768854c365\" y=\"165.060739\"/>\n     <use style=\"fill:#1f77b4;stroke:#1f77b4;\" x=\"78.780682\" xlink:href=\"#m768854c365\" y=\"207.967199\"/>\n     <use style=\"fill:#1f77b4;stroke:#1f77b4;\" x=\"78.780682\" xlink:href=\"#m768854c365\" y=\"203.237782\"/>\n     <use style=\"fill:#1f77b4;stroke:#1f77b4;\" x=\"78.780682\" xlink:href=\"#m768854c365\" y=\"205.976698\"/>\n     <use style=\"fill:#1f77b4;stroke:#1f77b4;\" x=\"92.537918\" xlink:href=\"#m768854c365\" y=\"203.127147\"/>\n     <use style=\"fill:#1f77b4;stroke:#1f77b4;\" x=\"78.780682\" xlink:href=\"#m768854c365\" y=\"204.506257\"/>\n     <use style=\"fill:#1f77b4;stroke:#1f77b4;\" x=\"85.537555\" xlink:href=\"#m768854c365\" y=\"214.756364\"/>\n     <use style=\"fill:#1f77b4;stroke:#1f77b4;\" x=\"94.607591\" xlink:href=\"#m768854c365\" y=\"203.067423\"/>\n     <use style=\"fill:#1f77b4;stroke:#1f77b4;\" x=\"78.780682\" xlink:href=\"#m768854c365\" y=\"188.674166\"/>\n     <use style=\"fill:#1f77b4;stroke:#1f77b4;\" x=\"87.607227\" xlink:href=\"#m768854c365\" y=\"191.463725\"/>\n     <use style=\"fill:#1f77b4;stroke:#1f77b4;\" x=\"90.589991\" xlink:href=\"#m768854c365\" y=\"204.916562\"/>\n     <use style=\"fill:#1f77b4;stroke:#1f77b4;\" x=\"80.424245\" xlink:href=\"#m768854c365\" y=\"197.62144\"/>\n     <use style=\"fill:#1f77b4;stroke:#1f77b4;\" x=\"83.346136\" xlink:href=\"#m768854c365\" y=\"197.380259\"/>\n     <use style=\"fill:#1f77b4;stroke:#1f77b4;\" x=\"78.780682\" xlink:href=\"#m768854c365\" y=\"206.441139\"/>\n     <use style=\"fill:#1f77b4;stroke:#1f77b4;\" x=\"78.780682\" xlink:href=\"#m768854c365\" y=\"194.189588\"/>\n     <use style=\"fill:#1f77b4;stroke:#1f77b4;\" x=\"78.780682\" xlink:href=\"#m768854c365\" y=\"204.56496\"/>\n     <use style=\"fill:#1f77b4;stroke:#1f77b4;\" x=\"114.269482\" xlink:href=\"#m768854c365\" y=\"182.190966\"/>\n     <use style=\"fill:#1f77b4;stroke:#1f77b4;\" x=\"100.3905\" xlink:href=\"#m768854c365\" y=\"198.811458\"/>\n     <use style=\"fill:#1f77b4;stroke:#1f77b4;\" x=\"78.780682\" xlink:href=\"#m768854c365\" y=\"186.337092\"/>\n     <use style=\"fill:#1f77b4;stroke:#1f77b4;\" x=\"78.780682\" xlink:href=\"#m768854c365\" y=\"201.24101\"/>\n     <use style=\"fill:#1f77b4;stroke:#1f77b4;\" x=\"83.346136\" xlink:href=\"#m768854c365\" y=\"197.972178\"/>\n     <use style=\"fill:#1f77b4;stroke:#1f77b4;\" x=\"113.1129\" xlink:href=\"#m768854c365\" y=\"194.835628\"/>\n     <use style=\"fill:#1f77b4;stroke:#1f77b4;\" x=\"85.415809\" xlink:href=\"#m768854c365\" y=\"196.359021\"/>\n     <use style=\"fill:#1f77b4;stroke:#1f77b4;\" x=\"78.780682\" xlink:href=\"#m768854c365\" y=\"204.643476\"/>\n     <use style=\"fill:#1f77b4;stroke:#1f77b4;\" x=\"78.780682\" xlink:href=\"#m768854c365\" y=\"204.601666\"/>\n     <use style=\"fill:#1f77b4;stroke:#1f77b4;\" x=\"78.780682\" xlink:href=\"#m768854c365\" y=\"208.504643\"/>\n     <use style=\"fill:#1f77b4;stroke:#1f77b4;\" x=\"86.207155\" xlink:href=\"#m768854c365\" y=\"212.451353\"/>\n     <use style=\"fill:#1f77b4;stroke:#1f77b4;\" x=\"78.780682\" xlink:href=\"#m768854c365\" y=\"204.792008\"/>\n     <use style=\"fill:#1f77b4;stroke:#1f77b4;\" x=\"78.780682\" xlink:href=\"#m768854c365\" y=\"209.082883\"/>\n     <use style=\"fill:#1f77b4;stroke:#1f77b4;\" x=\"78.780682\" xlink:href=\"#m768854c365\" y=\"205.95537\"/>\n     <use style=\"fill:#1f77b4;stroke:#1f77b4;\" x=\"78.780682\" xlink:href=\"#m768854c365\" y=\"194.412333\"/>\n     <use style=\"fill:#1f77b4;stroke:#1f77b4;\" x=\"93.390136\" xlink:href=\"#m768854c365\" y=\"198.338301\"/>\n     <use style=\"fill:#1f77b4;stroke:#1f77b4;\" x=\"82.128682\" xlink:href=\"#m768854c365\" y=\"211.912233\"/>\n     <use style=\"fill:#1f77b4;stroke:#1f77b4;\" x=\"78.780682\" xlink:href=\"#m768854c365\" y=\"200.559166\"/>\n     <use style=\"fill:#1f77b4;stroke:#1f77b4;\" x=\"78.780682\" xlink:href=\"#m768854c365\" y=\"204.693362\"/>\n     <use style=\"fill:#1f77b4;stroke:#1f77b4;\" x=\"95.0337\" xlink:href=\"#m768854c365\" y=\"209.336795\"/>\n     <use style=\"fill:#1f77b4;stroke:#1f77b4;\" x=\"78.780682\" xlink:href=\"#m768854c365\" y=\"195.493355\"/>\n     <use style=\"fill:#1f77b4;stroke:#1f77b4;\" x=\"91.503082\" xlink:href=\"#m768854c365\" y=\"191.420449\"/>\n     <use style=\"fill:#1f77b4;stroke:#1f77b4;\" x=\"80.3025\" xlink:href=\"#m768854c365\" y=\"186.696255\"/>\n     <use style=\"fill:#1f77b4;stroke:#1f77b4;\" x=\"78.780682\" xlink:href=\"#m768854c365\" y=\"202.287327\"/>\n     <use style=\"fill:#1f77b4;stroke:#1f77b4;\" x=\"84.502718\" xlink:href=\"#m768854c365\" y=\"205.427428\"/>\n     <use style=\"fill:#1f77b4;stroke:#1f77b4;\" x=\"81.276464\" xlink:href=\"#m768854c365\" y=\"199.038394\"/>\n     <use style=\"fill:#1f77b4;stroke:#1f77b4;\" x=\"80.059009\" xlink:href=\"#m768854c365\" y=\"158.517975\"/>\n     <use style=\"fill:#1f77b4;stroke:#1f77b4;\" x=\"383.144318\" xlink:href=\"#m768854c365\" y=\"103.204713\"/>\n     <use style=\"fill:#1f77b4;stroke:#1f77b4;\" x=\"101.668827\" xlink:href=\"#m768854c365\" y=\"201.144774\"/>\n     <use style=\"fill:#1f77b4;stroke:#1f77b4;\" x=\"78.780682\" xlink:href=\"#m768854c365\" y=\"200.279658\"/>\n     <use style=\"fill:#1f77b4;stroke:#1f77b4;\" x=\"78.780682\" xlink:href=\"#m768854c365\" y=\"183.827394\"/>\n     <use style=\"fill:#1f77b4;stroke:#1f77b4;\" x=\"78.780682\" xlink:href=\"#m768854c365\" y=\"181.795172\"/>\n     <use style=\"fill:#1f77b4;stroke:#1f77b4;\" x=\"78.780682\" xlink:href=\"#m768854c365\" y=\"170.277974\"/>\n     <use style=\"fill:#1f77b4;stroke:#1f77b4;\" x=\"78.780682\" xlink:href=\"#m768854c365\" y=\"183.874043\"/>\n     <use style=\"fill:#1f77b4;stroke:#1f77b4;\" x=\"95.155445\" xlink:href=\"#m768854c365\" y=\"193.852347\"/>\n     <use style=\"fill:#1f77b4;stroke:#1f77b4;\" x=\"84.015736\" xlink:href=\"#m768854c365\" y=\"160.048029\"/>\n     <use style=\"fill:#1f77b4;stroke:#1f77b4;\" x=\"78.780682\" xlink:href=\"#m768854c365\" y=\"193.437991\"/>\n     <use style=\"fill:#1f77b4;stroke:#1f77b4;\" x=\"86.085409\" xlink:href=\"#m768854c365\" y=\"185.753796\"/>\n     <use style=\"fill:#1f77b4;stroke:#1f77b4;\" x=\"78.780682\" xlink:href=\"#m768854c365\" y=\"192.591538\"/>\n     <use style=\"fill:#1f77b4;stroke:#1f77b4;\" x=\"78.780682\" xlink:href=\"#m768854c365\" y=\"201.017415\"/>\n     <use style=\"fill:#1f77b4;stroke:#1f77b4;\" x=\"78.780682\" xlink:href=\"#m768854c365\" y=\"191.128913\"/>\n     <use style=\"fill:#1f77b4;stroke:#1f77b4;\" x=\"83.772245\" xlink:href=\"#m768854c365\" y=\"191.289851\"/>\n     <use style=\"fill:#1f77b4;stroke:#1f77b4;\" x=\"115.913045\" xlink:href=\"#m768854c365\" y=\"205.384234\"/>\n     <use style=\"fill:#1f77b4;stroke:#1f77b4;\" x=\"78.780682\" xlink:href=\"#m768854c365\" y=\"187.662819\"/>\n     <use style=\"fill:#1f77b4;stroke:#1f77b4;\" x=\"78.780682\" xlink:href=\"#m768854c365\" y=\"201.64618\"/>\n     <use style=\"fill:#1f77b4;stroke:#1f77b4;\" x=\"78.780682\" xlink:href=\"#m768854c365\" y=\"207.46981\"/>\n     <use style=\"fill:#1f77b4;stroke:#1f77b4;\" x=\"78.780682\" xlink:href=\"#m768854c365\" y=\"201.921135\"/>\n     <use style=\"fill:#1f77b4;stroke:#1f77b4;\" x=\"162.6633\" xlink:href=\"#m768854c365\" y=\"188.735149\"/>\n     <use style=\"fill:#1f77b4;stroke:#1f77b4;\" x=\"78.780682\" xlink:href=\"#m768854c365\" y=\"195.402947\"/>\n     <use style=\"fill:#1f77b4;stroke:#1f77b4;\" x=\"86.450645\" xlink:href=\"#m768854c365\" y=\"204.419433\"/>\n     <use style=\"fill:#1f77b4;stroke:#1f77b4;\" x=\"86.755009\" xlink:href=\"#m768854c365\" y=\"197.957405\"/>\n     <use style=\"fill:#1f77b4;stroke:#1f77b4;\" x=\"99.173045\" xlink:href=\"#m768854c365\" y=\"194.349086\"/>\n     <use style=\"fill:#1f77b4;stroke:#1f77b4;\" x=\"81.459082\" xlink:href=\"#m768854c365\" y=\"193.691819\"/>\n     <use style=\"fill:#1f77b4;stroke:#1f77b4;\" x=\"122.609045\" xlink:href=\"#m768854c365\" y=\"187.231153\"/>\n     <use style=\"fill:#1f77b4;stroke:#1f77b4;\" x=\"93.451009\" xlink:href=\"#m768854c365\" y=\"200.462118\"/>\n     <use style=\"fill:#1f77b4;stroke:#1f77b4;\" x=\"78.780682\" xlink:href=\"#m768854c365\" y=\"203.841635\"/>\n     <use style=\"fill:#1f77b4;stroke:#1f77b4;\" x=\"82.859155\" xlink:href=\"#m768854c365\" y=\"203.276178\"/>\n     <use style=\"fill:#1f77b4;stroke:#1f77b4;\" x=\"99.294791\" xlink:href=\"#m768854c365\" y=\"206.485937\"/>\n     <use style=\"fill:#1f77b4;stroke:#1f77b4;\" x=\"78.780682\" xlink:href=\"#m768854c365\" y=\"206.258713\"/>\n     <use style=\"fill:#1f77b4;stroke:#1f77b4;\" x=\"78.780682\" xlink:href=\"#m768854c365\" y=\"195.690371\"/>\n     <use style=\"fill:#1f77b4;stroke:#1f77b4;\" x=\"79.876391\" xlink:href=\"#m768854c365\" y=\"162.399363\"/>\n     <use style=\"fill:#1f77b4;stroke:#1f77b4;\" x=\"78.780682\" xlink:href=\"#m768854c365\" y=\"205.062396\"/>\n     <use style=\"fill:#1f77b4;stroke:#1f77b4;\" x=\"80.545991\" xlink:href=\"#m768854c365\" y=\"186.422283\"/>\n     <use style=\"fill:#1f77b4;stroke:#1f77b4;\" x=\"78.780682\" xlink:href=\"#m768854c365\" y=\"192.800116\"/>\n     <use style=\"fill:#1f77b4;stroke:#1f77b4;\" x=\"87.6681\" xlink:href=\"#m768854c365\" y=\"198.052972\"/>\n     <use style=\"fill:#1f77b4;stroke:#1f77b4;\" x=\"78.780682\" xlink:href=\"#m768854c365\" y=\"206.417392\"/>\n     <use style=\"fill:#1f77b4;stroke:#1f77b4;\" x=\"78.780682\" xlink:href=\"#m768854c365\" y=\"191.310686\"/>\n     <use style=\"fill:#1f77b4;stroke:#1f77b4;\" x=\"78.780682\" xlink:href=\"#m768854c365\" y=\"209.648427\"/>\n     <use style=\"fill:#1f77b4;stroke:#1f77b4;\" x=\"78.780682\" xlink:href=\"#m768854c365\" y=\"198.287963\"/>\n     <use style=\"fill:#1f77b4;stroke:#1f77b4;\" x=\"78.780682\" xlink:href=\"#m768854c365\" y=\"214.756364\"/>\n     <use style=\"fill:#1f77b4;stroke:#1f77b4;\" x=\"87.181118\" xlink:href=\"#m768854c365\" y=\"196.242208\"/>\n     <use style=\"fill:#1f77b4;stroke:#1f77b4;\" x=\"78.780682\" xlink:href=\"#m768854c365\" y=\"187.102982\"/>\n     <use style=\"fill:#1f77b4;stroke:#1f77b4;\" x=\"95.825045\" xlink:href=\"#m768854c365\" y=\"203.70916\"/>\n     <use style=\"fill:#1f77b4;stroke:#1f77b4;\" x=\"78.780682\" xlink:href=\"#m768854c365\" y=\"205.302017\"/>\n     <use style=\"fill:#1f77b4;stroke:#1f77b4;\" x=\"78.780682\" xlink:href=\"#m768854c365\" y=\"202.654033\"/>\n     <use style=\"fill:#1f77b4;stroke:#1f77b4;\" x=\"82.615664\" xlink:href=\"#m768854c365\" y=\"196.509642\"/>\n     <use style=\"fill:#1f77b4;stroke:#1f77b4;\" x=\"85.172318\" xlink:href=\"#m768854c365\" y=\"206.287798\"/>\n     <use style=\"fill:#1f77b4;stroke:#1f77b4;\" x=\"90.833482\" xlink:href=\"#m768854c365\" y=\"187.46377\"/>\n     <use style=\"fill:#1f77b4;stroke:#1f77b4;\" x=\"156.089045\" xlink:href=\"#m768854c365\" y=\"204.028731\"/>\n     <use style=\"fill:#1f77b4;stroke:#1f77b4;\" x=\"78.780682\" xlink:href=\"#m768854c365\" y=\"194.119648\"/>\n     <use style=\"fill:#1f77b4;stroke:#1f77b4;\" x=\"78.780682\" xlink:href=\"#m768854c365\" y=\"197.05964\"/>\n     <use style=\"fill:#1f77b4;stroke:#1f77b4;\" x=\"124.4961\" xlink:href=\"#m768854c365\" y=\"203.038997\"/>\n     <use style=\"fill:#1f77b4;stroke:#1f77b4;\" x=\"78.780682\" xlink:href=\"#m768854c365\" y=\"200.67675\"/>\n     <use style=\"fill:#1f77b4;stroke:#1f77b4;\" x=\"78.780682\" xlink:href=\"#m768854c365\" y=\"156.319616\"/>\n     <use style=\"fill:#1f77b4;stroke:#1f77b4;\" x=\"86.694136\" xlink:href=\"#m768854c365\" y=\"192.643302\"/>\n     <use style=\"fill:#1f77b4;stroke:#1f77b4;\" x=\"78.780682\" xlink:href=\"#m768854c365\" y=\"202.625392\"/>\n     <use style=\"fill:#1f77b4;stroke:#1f77b4;\" x=\"78.780682\" xlink:href=\"#m768854c365\" y=\"196.263233\"/>\n     <use style=\"fill:#1f77b4;stroke:#1f77b4;\" x=\"78.780682\" xlink:href=\"#m768854c365\" y=\"206.4325\"/>\n     <use style=\"fill:#1f77b4;stroke:#1f77b4;\" x=\"154.749845\" xlink:href=\"#m768854c365\" y=\"185.629505\"/>\n     <use style=\"fill:#1f77b4;stroke:#1f77b4;\" x=\"78.780682\" xlink:href=\"#m768854c365\" y=\"196.652658\"/>\n     <use style=\"fill:#1f77b4;stroke:#1f77b4;\" x=\"78.780682\" xlink:href=\"#m768854c365\" y=\"200.984451\"/>\n     <use style=\"fill:#1f77b4;stroke:#1f77b4;\" x=\"78.780682\" xlink:href=\"#m768854c365\" y=\"204.018587\"/>\n     <use style=\"fill:#1f77b4;stroke:#1f77b4;\" x=\"81.519955\" xlink:href=\"#m768854c365\" y=\"185.584892\"/>\n     <use style=\"fill:#1f77b4;stroke:#1f77b4;\" x=\"78.780682\" xlink:href=\"#m768854c365\" y=\"198.385227\"/>\n     <use style=\"fill:#1f77b4;stroke:#1f77b4;\" x=\"78.780682\" xlink:href=\"#m768854c365\" y=\"199.804904\"/>\n     <use style=\"fill:#1f77b4;stroke:#1f77b4;\" x=\"107.329991\" xlink:href=\"#m768854c365\" y=\"193.713257\"/>\n     <use style=\"fill:#1f77b4;stroke:#1f77b4;\" x=\"98.442573\" xlink:href=\"#m768854c365\" y=\"131.863972\"/>\n     <use style=\"fill:#1f77b4;stroke:#1f77b4;\" x=\"78.780682\" xlink:href=\"#m768854c365\" y=\"196.09729\"/>\n     <use style=\"fill:#1f77b4;stroke:#1f77b4;\" x=\"118.652318\" xlink:href=\"#m768854c365\" y=\"186.325862\"/>\n     <use style=\"fill:#1f77b4;stroke:#1f77b4;\" x=\"78.780682\" xlink:href=\"#m768854c365\" y=\"191.104408\"/>\n     <use style=\"fill:#1f77b4;stroke:#1f77b4;\" x=\"78.780682\" xlink:href=\"#m768854c365\" y=\"200.29004\"/>\n     <use style=\"fill:#1f77b4;stroke:#1f77b4;\" x=\"90.042136\" xlink:href=\"#m768854c365\" y=\"189.268145\"/>\n     <use style=\"fill:#1f77b4;stroke:#1f77b4;\" x=\"78.780682\" xlink:href=\"#m768854c365\" y=\"196.134392\"/>\n     <use style=\"fill:#1f77b4;stroke:#1f77b4;\" x=\"80.424245\" xlink:href=\"#m768854c365\" y=\"201.686786\"/>\n     <use style=\"fill:#1f77b4;stroke:#1f77b4;\" x=\"82.3113\" xlink:href=\"#m768854c365\" y=\"187.606968\"/>\n     <use style=\"fill:#1f77b4;stroke:#1f77b4;\" x=\"78.780682\" xlink:href=\"#m768854c365\" y=\"200.377285\"/>\n     <use style=\"fill:#1f77b4;stroke:#1f77b4;\" x=\"86.511518\" xlink:href=\"#m768854c365\" y=\"185.381696\"/>\n     <use style=\"fill:#1f77b4;stroke:#1f77b4;\" x=\"108.243082\" xlink:href=\"#m768854c365\" y=\"195.811148\"/>\n     <use style=\"fill:#1f77b4;stroke:#1f77b4;\" x=\"90.833482\" xlink:href=\"#m768854c365\" y=\"165.437402\"/>\n     <use style=\"fill:#1f77b4;stroke:#1f77b4;\" x=\"78.780682\" xlink:href=\"#m768854c365\" y=\"184.689574\"/>\n     <use style=\"fill:#1f77b4;stroke:#1f77b4;\" x=\"97.346864\" xlink:href=\"#m768854c365\" y=\"183.589732\"/>\n     <use style=\"fill:#1f77b4;stroke:#1f77b4;\" x=\"137.096755\" xlink:href=\"#m768854c365\" y=\"183.999639\"/>\n     <use style=\"fill:#1f77b4;stroke:#1f77b4;\" x=\"78.780682\" xlink:href=\"#m768854c365\" y=\"206.979685\"/>\n     <use style=\"fill:#1f77b4;stroke:#1f77b4;\" x=\"130.826864\" xlink:href=\"#m768854c365\" y=\"198.203252\"/>\n     <use style=\"fill:#1f77b4;stroke:#1f77b4;\" x=\"78.780682\" xlink:href=\"#m768854c365\" y=\"205.174974\"/>\n     <use style=\"fill:#1f77b4;stroke:#1f77b4;\" x=\"83.589627\" xlink:href=\"#m768854c365\" y=\"169.726635\"/>\n     <use style=\"fill:#1f77b4;stroke:#1f77b4;\" x=\"78.780682\" xlink:href=\"#m768854c365\" y=\"206.874582\"/>\n     <use style=\"fill:#1f77b4;stroke:#1f77b4;\" x=\"78.780682\" xlink:href=\"#m768854c365\" y=\"204.898104\"/>\n     <use style=\"fill:#1f77b4;stroke:#1f77b4;\" x=\"107.877845\" xlink:href=\"#m768854c365\" y=\"200.098332\"/>\n     <use style=\"fill:#1f77b4;stroke:#1f77b4;\" x=\"88.155082\" xlink:href=\"#m768854c365\" y=\"206.052631\"/>\n     <use style=\"fill:#1f77b4;stroke:#1f77b4;\" x=\"78.780682\" xlink:href=\"#m768854c365\" y=\"205.239367\"/>\n     <use style=\"fill:#1f77b4;stroke:#1f77b4;\" x=\"83.711373\" xlink:href=\"#m768854c365\" y=\"214.756364\"/>\n     <use style=\"fill:#1f77b4;stroke:#1f77b4;\" x=\"89.433409\" xlink:href=\"#m768854c365\" y=\"202.016717\"/>\n     <use style=\"fill:#1f77b4;stroke:#1f77b4;\" x=\"80.606864\" xlink:href=\"#m768854c365\" y=\"209.743276\"/>\n     <use style=\"fill:#1f77b4;stroke:#1f77b4;\" x=\"120.721991\" xlink:href=\"#m768854c365\" y=\"187.646453\"/>\n     <use style=\"fill:#1f77b4;stroke:#1f77b4;\" x=\"96.129409\" xlink:href=\"#m768854c365\" y=\"200.888463\"/>\n     <use style=\"fill:#1f77b4;stroke:#1f77b4;\" x=\"78.780682\" xlink:href=\"#m768854c365\" y=\"212.434883\"/>\n     <use style=\"fill:#1f77b4;stroke:#1f77b4;\" x=\"117.739227\" xlink:href=\"#m768854c365\" y=\"192.12107\"/>\n     <use style=\"fill:#1f77b4;stroke:#1f77b4;\" x=\"97.651227\" xlink:href=\"#m768854c365\" y=\"205.09566\"/>\n     <use style=\"fill:#1f77b4;stroke:#1f77b4;\" x=\"89.433409\" xlink:href=\"#m768854c365\" y=\"201.103664\"/>\n     <use style=\"fill:#1f77b4;stroke:#1f77b4;\" x=\"78.780682\" xlink:href=\"#m768854c365\" y=\"207.371584\"/>\n     <use style=\"fill:#1f77b4;stroke:#1f77b4;\" x=\"118.347955\" xlink:href=\"#m768854c365\" y=\"187.723025\"/>\n     <use style=\"fill:#1f77b4;stroke:#1f77b4;\" x=\"96.129409\" xlink:href=\"#m768854c365\" y=\"185.995428\"/>\n     <use style=\"fill:#1f77b4;stroke:#1f77b4;\" x=\"104.955955\" xlink:href=\"#m768854c365\" y=\"183.884819\"/>\n     <use style=\"fill:#1f77b4;stroke:#1f77b4;\" x=\"78.780682\" xlink:href=\"#m768854c365\" y=\"195.957759\"/>\n     <use style=\"fill:#1f77b4;stroke:#1f77b4;\" x=\"97.346864\" xlink:href=\"#m768854c365\" y=\"196.623867\"/>\n     <use style=\"fill:#1f77b4;stroke:#1f77b4;\" x=\"96.859882\" xlink:href=\"#m768854c365\" y=\"204.383327\"/>\n     <use style=\"fill:#1f77b4;stroke:#1f77b4;\" x=\"78.780682\" xlink:href=\"#m768854c365\" y=\"206.874778\"/>\n     <use style=\"fill:#1f77b4;stroke:#1f77b4;\" x=\"105.0777\" xlink:href=\"#m768854c365\" y=\"201.494709\"/>\n     <use style=\"fill:#1f77b4;stroke:#1f77b4;\" x=\"78.780682\" xlink:href=\"#m768854c365\" y=\"195.028875\"/>\n     <use style=\"fill:#1f77b4;stroke:#1f77b4;\" x=\"78.780682\" xlink:href=\"#m768854c365\" y=\"186.766166\"/>\n    </g>\n   </g>\n   <g id=\"matplotlib.axis_1\">\n    <g id=\"xtick_1\">\n     <g id=\"line2d_1\">\n      <defs>\n       <path d=\"M 0 0 \nL 0 3.5 \n\" id=\"m77f93eb5f8\" style=\"stroke:#000000;stroke-width:0.8;\"/>\n      </defs>\n      <g>\n       <use style=\"stroke:#000000;stroke-width:0.8;\" x=\"78.780682\" xlink:href=\"#m77f93eb5f8\" y=\"224.64\"/>\n      </g>\n     </g>\n     <g id=\"text_1\">\n      <!-- 0 -->\n      <g transform=\"translate(75.599432 239.238437)scale(0.1 -0.1)\">\n       <defs>\n        <path d=\"M 31.78125 66.40625 \nQ 24.171875 66.40625 20.328125 58.90625 \nQ 16.5 51.421875 16.5 36.375 \nQ 16.5 21.390625 20.328125 13.890625 \nQ 24.171875 6.390625 31.78125 6.390625 \nQ 39.453125 6.390625 43.28125 13.890625 \nQ 47.125 21.390625 47.125 36.375 \nQ 47.125 51.421875 43.28125 58.90625 \nQ 39.453125 66.40625 31.78125 66.40625 \nz\nM 31.78125 74.21875 \nQ 44.046875 74.21875 50.515625 64.515625 \nQ 56.984375 54.828125 56.984375 36.375 \nQ 56.984375 17.96875 50.515625 8.265625 \nQ 44.046875 -1.421875 31.78125 -1.421875 \nQ 19.53125 -1.421875 13.0625 8.265625 \nQ 6.59375 17.96875 6.59375 36.375 \nQ 6.59375 54.828125 13.0625 64.515625 \nQ 19.53125 74.21875 31.78125 74.21875 \nz\n\" id=\"DejaVuSans-48\"/>\n       </defs>\n       <use xlink:href=\"#DejaVuSans-48\"/>\n      </g>\n     </g>\n    </g>\n    <g id=\"xtick_2\">\n     <g id=\"line2d_2\">\n      <g>\n       <use style=\"stroke:#000000;stroke-width:0.8;\" x=\"139.653409\" xlink:href=\"#m77f93eb5f8\" y=\"224.64\"/>\n      </g>\n     </g>\n     <g id=\"text_2\">\n      <!-- 1000 -->\n      <g transform=\"translate(126.928409 239.238437)scale(0.1 -0.1)\">\n       <defs>\n        <path d=\"M 12.40625 8.296875 \nL 28.515625 8.296875 \nL 28.515625 63.921875 \nL 10.984375 60.40625 \nL 10.984375 69.390625 \nL 28.421875 72.90625 \nL 38.28125 72.90625 \nL 38.28125 8.296875 \nL 54.390625 8.296875 \nL 54.390625 0 \nL 12.40625 0 \nz\n\" id=\"DejaVuSans-49\"/>\n       </defs>\n       <use xlink:href=\"#DejaVuSans-49\"/>\n       <use x=\"63.623047\" xlink:href=\"#DejaVuSans-48\"/>\n       <use x=\"127.246094\" xlink:href=\"#DejaVuSans-48\"/>\n       <use x=\"190.869141\" xlink:href=\"#DejaVuSans-48\"/>\n      </g>\n     </g>\n    </g>\n    <g id=\"xtick_3\">\n     <g id=\"line2d_3\">\n      <g>\n       <use style=\"stroke:#000000;stroke-width:0.8;\" x=\"200.526136\" xlink:href=\"#m77f93eb5f8\" y=\"224.64\"/>\n      </g>\n     </g>\n     <g id=\"text_3\">\n      <!-- 2000 -->\n      <g transform=\"translate(187.801136 239.238437)scale(0.1 -0.1)\">\n       <defs>\n        <path d=\"M 19.1875 8.296875 \nL 53.609375 8.296875 \nL 53.609375 0 \nL 7.328125 0 \nL 7.328125 8.296875 \nQ 12.9375 14.109375 22.625 23.890625 \nQ 32.328125 33.6875 34.8125 36.53125 \nQ 39.546875 41.84375 41.421875 45.53125 \nQ 43.3125 49.21875 43.3125 52.78125 \nQ 43.3125 58.59375 39.234375 62.25 \nQ 35.15625 65.921875 28.609375 65.921875 \nQ 23.96875 65.921875 18.8125 64.3125 \nQ 13.671875 62.703125 7.8125 59.421875 \nL 7.8125 69.390625 \nQ 13.765625 71.78125 18.9375 73 \nQ 24.125 74.21875 28.421875 74.21875 \nQ 39.75 74.21875 46.484375 68.546875 \nQ 53.21875 62.890625 53.21875 53.421875 \nQ 53.21875 48.921875 51.53125 44.890625 \nQ 49.859375 40.875 45.40625 35.40625 \nQ 44.1875 33.984375 37.640625 27.21875 \nQ 31.109375 20.453125 19.1875 8.296875 \nz\n\" id=\"DejaVuSans-50\"/>\n       </defs>\n       <use xlink:href=\"#DejaVuSans-50\"/>\n       <use x=\"63.623047\" xlink:href=\"#DejaVuSans-48\"/>\n       <use x=\"127.246094\" xlink:href=\"#DejaVuSans-48\"/>\n       <use x=\"190.869141\" xlink:href=\"#DejaVuSans-48\"/>\n      </g>\n     </g>\n    </g>\n    <g id=\"xtick_4\">\n     <g id=\"line2d_4\">\n      <g>\n       <use style=\"stroke:#000000;stroke-width:0.8;\" x=\"261.398864\" xlink:href=\"#m77f93eb5f8\" y=\"224.64\"/>\n      </g>\n     </g>\n     <g id=\"text_4\">\n      <!-- 3000 -->\n      <g transform=\"translate(248.673864 239.238437)scale(0.1 -0.1)\">\n       <defs>\n        <path d=\"M 40.578125 39.3125 \nQ 47.65625 37.796875 51.625 33 \nQ 55.609375 28.21875 55.609375 21.1875 \nQ 55.609375 10.40625 48.1875 4.484375 \nQ 40.765625 -1.421875 27.09375 -1.421875 \nQ 22.515625 -1.421875 17.65625 -0.515625 \nQ 12.796875 0.390625 7.625 2.203125 \nL 7.625 11.71875 \nQ 11.71875 9.328125 16.59375 8.109375 \nQ 21.484375 6.890625 26.8125 6.890625 \nQ 36.078125 6.890625 40.9375 10.546875 \nQ 45.796875 14.203125 45.796875 21.1875 \nQ 45.796875 27.640625 41.28125 31.265625 \nQ 36.765625 34.90625 28.71875 34.90625 \nL 20.21875 34.90625 \nL 20.21875 43.015625 \nL 29.109375 43.015625 \nQ 36.375 43.015625 40.234375 45.921875 \nQ 44.09375 48.828125 44.09375 54.296875 \nQ 44.09375 59.90625 40.109375 62.90625 \nQ 36.140625 65.921875 28.71875 65.921875 \nQ 24.65625 65.921875 20.015625 65.03125 \nQ 15.375 64.15625 9.8125 62.3125 \nL 9.8125 71.09375 \nQ 15.4375 72.65625 20.34375 73.4375 \nQ 25.25 74.21875 29.59375 74.21875 \nQ 40.828125 74.21875 47.359375 69.109375 \nQ 53.90625 64.015625 53.90625 55.328125 \nQ 53.90625 49.265625 50.4375 45.09375 \nQ 46.96875 40.921875 40.578125 39.3125 \nz\n\" id=\"DejaVuSans-51\"/>\n       </defs>\n       <use xlink:href=\"#DejaVuSans-51\"/>\n       <use x=\"63.623047\" xlink:href=\"#DejaVuSans-48\"/>\n       <use x=\"127.246094\" xlink:href=\"#DejaVuSans-48\"/>\n       <use x=\"190.869141\" xlink:href=\"#DejaVuSans-48\"/>\n      </g>\n     </g>\n    </g>\n    <g id=\"xtick_5\">\n     <g id=\"line2d_5\">\n      <g>\n       <use style=\"stroke:#000000;stroke-width:0.8;\" x=\"322.271591\" xlink:href=\"#m77f93eb5f8\" y=\"224.64\"/>\n      </g>\n     </g>\n     <g id=\"text_5\">\n      <!-- 4000 -->\n      <g transform=\"translate(309.546591 239.238437)scale(0.1 -0.1)\">\n       <defs>\n        <path d=\"M 37.796875 64.3125 \nL 12.890625 25.390625 \nL 37.796875 25.390625 \nz\nM 35.203125 72.90625 \nL 47.609375 72.90625 \nL 47.609375 25.390625 \nL 58.015625 25.390625 \nL 58.015625 17.1875 \nL 47.609375 17.1875 \nL 47.609375 0 \nL 37.796875 0 \nL 37.796875 17.1875 \nL 4.890625 17.1875 \nL 4.890625 26.703125 \nz\n\" id=\"DejaVuSans-52\"/>\n       </defs>\n       <use xlink:href=\"#DejaVuSans-52\"/>\n       <use x=\"63.623047\" xlink:href=\"#DejaVuSans-48\"/>\n       <use x=\"127.246094\" xlink:href=\"#DejaVuSans-48\"/>\n       <use x=\"190.869141\" xlink:href=\"#DejaVuSans-48\"/>\n      </g>\n     </g>\n    </g>\n    <g id=\"xtick_6\">\n     <g id=\"line2d_6\">\n      <g>\n       <use style=\"stroke:#000000;stroke-width:0.8;\" x=\"383.144318\" xlink:href=\"#m77f93eb5f8\" y=\"224.64\"/>\n      </g>\n     </g>\n     <g id=\"text_6\">\n      <!-- 5000 -->\n      <g transform=\"translate(370.419318 239.238437)scale(0.1 -0.1)\">\n       <defs>\n        <path d=\"M 10.796875 72.90625 \nL 49.515625 72.90625 \nL 49.515625 64.59375 \nL 19.828125 64.59375 \nL 19.828125 46.734375 \nQ 21.96875 47.46875 24.109375 47.828125 \nQ 26.265625 48.1875 28.421875 48.1875 \nQ 40.625 48.1875 47.75 41.5 \nQ 54.890625 34.8125 54.890625 23.390625 \nQ 54.890625 11.625 47.5625 5.09375 \nQ 40.234375 -1.421875 26.90625 -1.421875 \nQ 22.3125 -1.421875 17.546875 -0.640625 \nQ 12.796875 0.140625 7.71875 1.703125 \nL 7.71875 11.625 \nQ 12.109375 9.234375 16.796875 8.0625 \nQ 21.484375 6.890625 26.703125 6.890625 \nQ 35.15625 6.890625 40.078125 11.328125 \nQ 45.015625 15.765625 45.015625 23.390625 \nQ 45.015625 31 40.078125 35.4375 \nQ 35.15625 39.890625 26.703125 39.890625 \nQ 22.75 39.890625 18.8125 39.015625 \nQ 14.890625 38.140625 10.796875 36.28125 \nz\n\" id=\"DejaVuSans-53\"/>\n       </defs>\n       <use xlink:href=\"#DejaVuSans-53\"/>\n       <use x=\"63.623047\" xlink:href=\"#DejaVuSans-48\"/>\n       <use x=\"127.246094\" xlink:href=\"#DejaVuSans-48\"/>\n       <use x=\"190.869141\" xlink:href=\"#DejaVuSans-48\"/>\n      </g>\n     </g>\n    </g>\n    <g id=\"text_7\">\n     <!-- y_test -->\n     <g transform=\"translate(200.840625 259.95875)scale(0.2 -0.2)\">\n      <defs>\n       <path d=\"M 32.171875 -5.078125 \nQ 28.375 -14.84375 24.75 -17.8125 \nQ 21.140625 -20.796875 15.09375 -20.796875 \nL 7.90625 -20.796875 \nL 7.90625 -13.28125 \nL 13.1875 -13.28125 \nQ 16.890625 -13.28125 18.9375 -11.515625 \nQ 21 -9.765625 23.484375 -3.21875 \nL 25.09375 0.875 \nL 2.984375 54.6875 \nL 12.5 54.6875 \nL 29.59375 11.921875 \nL 46.6875 54.6875 \nL 56.203125 54.6875 \nz\n\" id=\"DejaVuSans-121\"/>\n       <path d=\"M 50.984375 -16.609375 \nL 50.984375 -23.578125 \nL -0.984375 -23.578125 \nL -0.984375 -16.609375 \nz\n\" id=\"DejaVuSans-95\"/>\n       <path d=\"M 18.3125 70.21875 \nL 18.3125 54.6875 \nL 36.8125 54.6875 \nL 36.8125 47.703125 \nL 18.3125 47.703125 \nL 18.3125 18.015625 \nQ 18.3125 11.328125 20.140625 9.421875 \nQ 21.96875 7.515625 27.59375 7.515625 \nL 36.8125 7.515625 \nL 36.8125 0 \nL 27.59375 0 \nQ 17.1875 0 13.234375 3.875 \nQ 9.28125 7.765625 9.28125 18.015625 \nL 9.28125 47.703125 \nL 2.6875 47.703125 \nL 2.6875 54.6875 \nL 9.28125 54.6875 \nL 9.28125 70.21875 \nz\n\" id=\"DejaVuSans-116\"/>\n       <path d=\"M 56.203125 29.59375 \nL 56.203125 25.203125 \nL 14.890625 25.203125 \nQ 15.484375 15.921875 20.484375 11.0625 \nQ 25.484375 6.203125 34.421875 6.203125 \nQ 39.59375 6.203125 44.453125 7.46875 \nQ 49.3125 8.734375 54.109375 11.28125 \nL 54.109375 2.78125 \nQ 49.265625 0.734375 44.1875 -0.34375 \nQ 39.109375 -1.421875 33.890625 -1.421875 \nQ 20.796875 -1.421875 13.15625 6.1875 \nQ 5.515625 13.8125 5.515625 26.8125 \nQ 5.515625 40.234375 12.765625 48.109375 \nQ 20.015625 56 32.328125 56 \nQ 43.359375 56 49.78125 48.890625 \nQ 56.203125 41.796875 56.203125 29.59375 \nz\nM 47.21875 32.234375 \nQ 47.125 39.59375 43.09375 43.984375 \nQ 39.0625 48.390625 32.421875 48.390625 \nQ 24.90625 48.390625 20.390625 44.140625 \nQ 15.875 39.890625 15.1875 32.171875 \nz\n\" id=\"DejaVuSans-101\"/>\n       <path d=\"M 44.28125 53.078125 \nL 44.28125 44.578125 \nQ 40.484375 46.53125 36.375 47.5 \nQ 32.28125 48.484375 27.875 48.484375 \nQ 21.1875 48.484375 17.84375 46.4375 \nQ 14.5 44.390625 14.5 40.28125 \nQ 14.5 37.15625 16.890625 35.375 \nQ 19.28125 33.59375 26.515625 31.984375 \nL 29.59375 31.296875 \nQ 39.15625 29.25 43.1875 25.515625 \nQ 47.21875 21.78125 47.21875 15.09375 \nQ 47.21875 7.46875 41.1875 3.015625 \nQ 35.15625 -1.421875 24.609375 -1.421875 \nQ 20.21875 -1.421875 15.453125 -0.5625 \nQ 10.6875 0.296875 5.421875 2 \nL 5.421875 11.28125 \nQ 10.40625 8.6875 15.234375 7.390625 \nQ 20.0625 6.109375 24.8125 6.109375 \nQ 31.15625 6.109375 34.5625 8.28125 \nQ 37.984375 10.453125 37.984375 14.40625 \nQ 37.984375 18.0625 35.515625 20.015625 \nQ 33.0625 21.96875 24.703125 23.78125 \nL 21.578125 24.515625 \nQ 13.234375 26.265625 9.515625 29.90625 \nQ 5.8125 33.546875 5.8125 39.890625 \nQ 5.8125 47.609375 11.28125 51.796875 \nQ 16.75 56 26.8125 56 \nQ 31.78125 56 36.171875 55.265625 \nQ 40.578125 54.546875 44.28125 53.078125 \nz\n\" id=\"DejaVuSans-115\"/>\n      </defs>\n      <use xlink:href=\"#DejaVuSans-121\"/>\n      <use x=\"59.179688\" xlink:href=\"#DejaVuSans-95\"/>\n      <use x=\"109.179688\" xlink:href=\"#DejaVuSans-116\"/>\n      <use x=\"148.388672\" xlink:href=\"#DejaVuSans-101\"/>\n      <use x=\"209.912109\" xlink:href=\"#DejaVuSans-115\"/>\n      <use x=\"262.011719\" xlink:href=\"#DejaVuSans-116\"/>\n     </g>\n    </g>\n   </g>\n   <g id=\"matplotlib.axis_2\">\n    <g id=\"ytick_1\">\n     <g id=\"line2d_7\">\n      <defs>\n       <path d=\"M 0 0 \nL -3.5 0 \n\" id=\"m0128d805cf\" style=\"stroke:#000000;stroke-width:0.8;\"/>\n      </defs>\n      <g>\n       <use style=\"stroke:#000000;stroke-width:0.8;\" x=\"63.5625\" xlink:href=\"#m0128d805cf\" y=\"214.756364\"/>\n      </g>\n     </g>\n     <g id=\"text_8\">\n      <!-- 0 -->\n      <g transform=\"translate(50.2 218.555582)scale(0.1 -0.1)\">\n       <use xlink:href=\"#DejaVuSans-48\"/>\n      </g>\n     </g>\n    </g>\n    <g id=\"ytick_2\">\n     <g id=\"line2d_8\">\n      <g>\n       <use style=\"stroke:#000000;stroke-width:0.8;\" x=\"63.5625\" xlink:href=\"#m0128d805cf\" y=\"171.808739\"/>\n      </g>\n     </g>\n     <g id=\"text_9\">\n      <!-- 500 -->\n      <g transform=\"translate(37.475 175.607958)scale(0.1 -0.1)\">\n       <use xlink:href=\"#DejaVuSans-53\"/>\n       <use x=\"63.623047\" xlink:href=\"#DejaVuSans-48\"/>\n       <use x=\"127.246094\" xlink:href=\"#DejaVuSans-48\"/>\n      </g>\n     </g>\n    </g>\n    <g id=\"ytick_3\">\n     <g id=\"line2d_9\">\n      <g>\n       <use style=\"stroke:#000000;stroke-width:0.8;\" x=\"63.5625\" xlink:href=\"#m0128d805cf\" y=\"128.861115\"/>\n      </g>\n     </g>\n     <g id=\"text_10\">\n      <!-- 1000 -->\n      <g transform=\"translate(31.1125 132.660333)scale(0.1 -0.1)\">\n       <use xlink:href=\"#DejaVuSans-49\"/>\n       <use x=\"63.623047\" xlink:href=\"#DejaVuSans-48\"/>\n       <use x=\"127.246094\" xlink:href=\"#DejaVuSans-48\"/>\n       <use x=\"190.869141\" xlink:href=\"#DejaVuSans-48\"/>\n      </g>\n     </g>\n    </g>\n    <g id=\"ytick_4\">\n     <g id=\"line2d_10\">\n      <g>\n       <use style=\"stroke:#000000;stroke-width:0.8;\" x=\"63.5625\" xlink:href=\"#m0128d805cf\" y=\"85.91349\"/>\n      </g>\n     </g>\n     <g id=\"text_11\">\n      <!-- 1500 -->\n      <g transform=\"translate(31.1125 89.712709)scale(0.1 -0.1)\">\n       <use xlink:href=\"#DejaVuSans-49\"/>\n       <use x=\"63.623047\" xlink:href=\"#DejaVuSans-53\"/>\n       <use x=\"127.246094\" xlink:href=\"#DejaVuSans-48\"/>\n       <use x=\"190.869141\" xlink:href=\"#DejaVuSans-48\"/>\n      </g>\n     </g>\n    </g>\n    <g id=\"ytick_5\">\n     <g id=\"line2d_11\">\n      <g>\n       <use style=\"stroke:#000000;stroke-width:0.8;\" x=\"63.5625\" xlink:href=\"#m0128d805cf\" y=\"42.965865\"/>\n      </g>\n     </g>\n     <g id=\"text_12\">\n      <!-- 2000 -->\n      <g transform=\"translate(31.1125 46.765084)scale(0.1 -0.1)\">\n       <use xlink:href=\"#DejaVuSans-50\"/>\n       <use x=\"63.623047\" xlink:href=\"#DejaVuSans-48\"/>\n       <use x=\"127.246094\" xlink:href=\"#DejaVuSans-48\"/>\n       <use x=\"190.869141\" xlink:href=\"#DejaVuSans-48\"/>\n      </g>\n     </g>\n    </g>\n    <g id=\"text_13\">\n     <!-- y_pred -->\n     <g transform=\"translate(22.396875 149.574687)rotate(-90)scale(0.2 -0.2)\">\n      <defs>\n       <path d=\"M 18.109375 8.203125 \nL 18.109375 -20.796875 \nL 9.078125 -20.796875 \nL 9.078125 54.6875 \nL 18.109375 54.6875 \nL 18.109375 46.390625 \nQ 20.953125 51.265625 25.265625 53.625 \nQ 29.59375 56 35.59375 56 \nQ 45.5625 56 51.78125 48.09375 \nQ 58.015625 40.1875 58.015625 27.296875 \nQ 58.015625 14.40625 51.78125 6.484375 \nQ 45.5625 -1.421875 35.59375 -1.421875 \nQ 29.59375 -1.421875 25.265625 0.953125 \nQ 20.953125 3.328125 18.109375 8.203125 \nz\nM 48.6875 27.296875 \nQ 48.6875 37.203125 44.609375 42.84375 \nQ 40.53125 48.484375 33.40625 48.484375 \nQ 26.265625 48.484375 22.1875 42.84375 \nQ 18.109375 37.203125 18.109375 27.296875 \nQ 18.109375 17.390625 22.1875 11.75 \nQ 26.265625 6.109375 33.40625 6.109375 \nQ 40.53125 6.109375 44.609375 11.75 \nQ 48.6875 17.390625 48.6875 27.296875 \nz\n\" id=\"DejaVuSans-112\"/>\n       <path d=\"M 41.109375 46.296875 \nQ 39.59375 47.171875 37.8125 47.578125 \nQ 36.03125 48 33.890625 48 \nQ 26.265625 48 22.1875 43.046875 \nQ 18.109375 38.09375 18.109375 28.8125 \nL 18.109375 0 \nL 9.078125 0 \nL 9.078125 54.6875 \nL 18.109375 54.6875 \nL 18.109375 46.1875 \nQ 20.953125 51.171875 25.484375 53.578125 \nQ 30.03125 56 36.53125 56 \nQ 37.453125 56 38.578125 55.875 \nQ 39.703125 55.765625 41.0625 55.515625 \nz\n\" id=\"DejaVuSans-114\"/>\n       <path d=\"M 45.40625 46.390625 \nL 45.40625 75.984375 \nL 54.390625 75.984375 \nL 54.390625 0 \nL 45.40625 0 \nL 45.40625 8.203125 \nQ 42.578125 3.328125 38.25 0.953125 \nQ 33.9375 -1.421875 27.875 -1.421875 \nQ 17.96875 -1.421875 11.734375 6.484375 \nQ 5.515625 14.40625 5.515625 27.296875 \nQ 5.515625 40.1875 11.734375 48.09375 \nQ 17.96875 56 27.875 56 \nQ 33.9375 56 38.25 53.625 \nQ 42.578125 51.265625 45.40625 46.390625 \nz\nM 14.796875 27.296875 \nQ 14.796875 17.390625 18.875 11.75 \nQ 22.953125 6.109375 30.078125 6.109375 \nQ 37.203125 6.109375 41.296875 11.75 \nQ 45.40625 17.390625 45.40625 27.296875 \nQ 45.40625 37.203125 41.296875 42.84375 \nQ 37.203125 48.484375 30.078125 48.484375 \nQ 22.953125 48.484375 18.875 42.84375 \nQ 14.796875 37.203125 14.796875 27.296875 \nz\n\" id=\"DejaVuSans-100\"/>\n      </defs>\n      <use xlink:href=\"#DejaVuSans-121\"/>\n      <use x=\"59.179688\" xlink:href=\"#DejaVuSans-95\"/>\n      <use x=\"109.179688\" xlink:href=\"#DejaVuSans-112\"/>\n      <use x=\"172.65625\" xlink:href=\"#DejaVuSans-114\"/>\n      <use x=\"211.519531\" xlink:href=\"#DejaVuSans-101\"/>\n      <use x=\"273.042969\" xlink:href=\"#DejaVuSans-100\"/>\n     </g>\n    </g>\n   </g>\n   <g id=\"patch_3\">\n    <path d=\"M 63.5625 224.64 \nL 63.5625 7.2 \n\" style=\"fill:none;stroke:#000000;stroke-linecap:square;stroke-linejoin:miter;stroke-width:0.8;\"/>\n   </g>\n   <g id=\"patch_4\">\n    <path d=\"M 398.3625 224.64 \nL 398.3625 7.2 \n\" style=\"fill:none;stroke:#000000;stroke-linecap:square;stroke-linejoin:miter;stroke-width:0.8;\"/>\n   </g>\n   <g id=\"patch_5\">\n    <path d=\"M 63.5625 224.64 \nL 398.3625 224.64 \n\" style=\"fill:none;stroke:#000000;stroke-linecap:square;stroke-linejoin:miter;stroke-width:0.8;\"/>\n   </g>\n   <g id=\"patch_6\">\n    <path d=\"M 63.5625 7.2 \nL 398.3625 7.2 \n\" style=\"fill:none;stroke:#000000;stroke-linecap:square;stroke-linejoin:miter;stroke-width:0.8;\"/>\n   </g>\n  </g>\n </g>\n <defs>\n  <clipPath id=\"pae95ae9a6e\">\n   <rect height=\"217.44\" width=\"334.8\" x=\"63.5625\" y=\"7.2\"/>\n  </clipPath>\n </defs>\n</svg>\n",
      "image/png": "[encoded data removed]"
     },
     "metadata": {
      "needs_background": "light"
     }
    }
   ],
   "metadata": {}
  },
  {
   "cell_type": "code",
   "execution_count": 177,
   "source": [
    "model = Sequential()\n",
    "model.add(Dense(256, input_dim=X.shape[1], activation='relu'))\n",
    "model.add(Dense(128, activation='relu'))\n",
    "model.add(Dense(1, activation='linear'))\n",
    "\n",
    "\n",
    "model.compile(loss='mean_squared_error', optimizer='adam', metrics=['mse'])\n",
    "es = EarlyStopping(monitor='mse', mode='min', verbose=1, patience=3)\n",
    "model.fit(X_train,\n",
    "            y_train,\n",
    "            epochs = 100,\n",
    "            batch_size = 10,\n",
    "            validation_split = .2,\n",
    "            callbacks = [es])"
   ],
   "outputs": [
    {
     "output_type": "stream",
     "name": "stdout",
     "text": [
      "WARNING:tensorflow:Falling back from v2 loop because of error: Failed to find data adapter that can handle input: <class 'pandas.core.frame.DataFrame'>, <class 'NoneType'>\n",
      "Train on 1902 samples, validate on 476 samples\n",
      "Epoch 1/100\n",
      "1902/1902 [==============================] - 1s 758us/sample - loss: 280920.7839 - mse: 280920.7812 - val_loss: 152448.7782 - val_mse: 152448.8125\n",
      "Epoch 2/100\n",
      "1902/1902 [==============================] - 1s 411us/sample - loss: 270270.4444 - mse: 270270.4375 - val_loss: 151623.1211 - val_mse: 151623.1094\n",
      "Epoch 3/100\n",
      "1902/1902 [==============================] - 1s 402us/sample - loss: 265785.0402 - mse: 265785.0000 - val_loss: 153958.4689 - val_mse: 153958.4375\n",
      "Epoch 4/100\n",
      "1902/1902 [==============================] - 1s 395us/sample - loss: 264043.5206 - mse: 264043.5312 - val_loss: 154307.8170 - val_mse: 154307.8438\n",
      "Epoch 5/100\n",
      "1902/1902 [==============================] - 1s 424us/sample - loss: 259613.8748 - mse: 259613.9375 - val_loss: 148913.3825 - val_mse: 148913.3906\n",
      "Epoch 6/100\n",
      "1902/1902 [==============================] - 1s 416us/sample - loss: 257341.5240 - mse: 257341.5156 - val_loss: 151614.1630 - val_mse: 151614.1562\n",
      "Epoch 7/100\n",
      "1902/1902 [==============================] - 1s 443us/sample - loss: 255726.4322 - mse: 255726.5000 - val_loss: 148405.9500 - val_mse: 148405.9531\n",
      "Epoch 8/100\n",
      "1902/1902 [==============================] - 1s 493us/sample - loss: 255404.5912 - mse: 255404.5625 - val_loss: 146608.1299 - val_mse: 146608.1406\n",
      "Epoch 9/100\n",
      "1902/1902 [==============================] - 1s 437us/sample - loss: 252128.3852 - mse: 252128.4219 - val_loss: 147001.7772 - val_mse: 147001.7656\n",
      "Epoch 10/100\n",
      "1902/1902 [==============================] - 1s 470us/sample - loss: 251085.8301 - mse: 251085.8594 - val_loss: 145891.0786 - val_mse: 145891.0938\n",
      "Epoch 11/100\n",
      "1902/1902 [==============================] - 1s 513us/sample - loss: 251469.1923 - mse: 251469.2188 - val_loss: 146701.5082 - val_mse: 146701.5156\n",
      "Epoch 12/100\n",
      "1902/1902 [==============================] - 1s 489us/sample - loss: 248592.8644 - mse: 248592.8906 - val_loss: 145007.2892 - val_mse: 145007.2969\n",
      "Epoch 13/100\n",
      "1902/1902 [==============================] - 1s 510us/sample - loss: 247285.8438 - mse: 247285.8594 - val_loss: 145550.2838 - val_mse: 145550.2812\n",
      "Epoch 14/100\n",
      "1902/1902 [==============================] - 1s 546us/sample - loss: 246704.2936 - mse: 246704.3125 - val_loss: 144957.4074 - val_mse: 144957.3906\n",
      "Epoch 15/100\n",
      "1902/1902 [==============================] - 1s 509us/sample - loss: 243893.1624 - mse: 243893.0938 - val_loss: 147322.4072 - val_mse: 147322.4062\n",
      "Epoch 16/100\n",
      "1902/1902 [==============================] - 1s 571us/sample - loss: 243378.6064 - mse: 243378.5781 - val_loss: 142663.2686 - val_mse: 142663.2969\n",
      "Epoch 17/100\n",
      "1902/1902 [==============================] - 1s 746us/sample - loss: 240581.2594 - mse: 240581.2188 - val_loss: 171190.9848 - val_mse: 171190.9531\n",
      "Epoch 18/100\n",
      "1902/1902 [==============================] - 1s 578us/sample - loss: 242312.6682 - mse: 242312.5938 - val_loss: 142556.1995 - val_mse: 142556.1875\n",
      "Epoch 19/100\n",
      "1902/1902 [==============================] - 1s 584us/sample - loss: 237452.4166 - mse: 237452.4531 - val_loss: 141334.4738 - val_mse: 141334.4844\n",
      "Epoch 20/100\n",
      "1902/1902 [==============================] - 1s 589us/sample - loss: 237199.5568 - mse: 237199.4688 - val_loss: 141287.8768 - val_mse: 141287.8281\n",
      "Epoch 21/100\n",
      "1902/1902 [==============================] - 1s 581us/sample - loss: 238144.4450 - mse: 238144.3906 - val_loss: 142744.0044 - val_mse: 142744.0156\n",
      "Epoch 22/100\n",
      "1902/1902 [==============================] - 1s 610us/sample - loss: 238498.0853 - mse: 238498.0312 - val_loss: 140685.4983 - val_mse: 140685.5000\n",
      "Epoch 23/100\n",
      "1902/1902 [==============================] - 1s 556us/sample - loss: 233324.5913 - mse: 233324.5625 - val_loss: 142656.4587 - val_mse: 142656.4531\n",
      "Epoch 24/100\n",
      "1902/1902 [==============================] - 1s 567us/sample - loss: 232893.6697 - mse: 232893.6875 - val_loss: 140003.9301 - val_mse: 140003.9062\n",
      "Epoch 25/100\n",
      "1902/1902 [==============================] - 1s 560us/sample - loss: 230408.7862 - mse: 230408.8281 - val_loss: 155881.8790 - val_mse: 155881.8594\n",
      "Epoch 26/100\n",
      "1902/1902 [==============================] - 1s 591us/sample - loss: 228485.3348 - mse: 228485.2500 - val_loss: 139476.3548 - val_mse: 139476.3594\n",
      "Epoch 27/100\n",
      "1902/1902 [==============================] - 1s 605us/sample - loss: 228412.6743 - mse: 228412.6719 - val_loss: 140013.3669 - val_mse: 140013.3438\n",
      "Epoch 28/100\n",
      "1902/1902 [==============================] - 1s 610us/sample - loss: 228553.2776 - mse: 228553.2656 - val_loss: 144086.2189 - val_mse: 144086.2188\n",
      "Epoch 29/100\n",
      "1902/1902 [==============================] - 1s 623us/sample - loss: 227010.8667 - mse: 227010.8750 - val_loss: 144518.5621 - val_mse: 144518.5781\n",
      "Epoch 30/100\n",
      "1902/1902 [==============================] - 1s 631us/sample - loss: 224951.9698 - mse: 224952.0312 - val_loss: 140441.3818 - val_mse: 140441.3750\n",
      "Epoch 31/100\n",
      "1902/1902 [==============================] - 1s 601us/sample - loss: 221405.5915 - mse: 221405.6406 - val_loss: 143214.2931 - val_mse: 143214.2812\n",
      "Epoch 32/100\n",
      "1902/1902 [==============================] - 1s 668us/sample - loss: 223220.0298 - mse: 223219.9844 - val_loss: 144028.1428 - val_mse: 144028.1406\n",
      "Epoch 33/100\n",
      "1902/1902 [==============================] - 3s 2ms/sample - loss: 222751.3319 - mse: 222751.4062 - val_loss: 148211.0119 - val_mse: 148211.0312\n",
      "Epoch 34/100\n",
      "1902/1902 [==============================] - 1s 751us/sample - loss: 220633.8498 - mse: 220633.8438 - val_loss: 144237.5839 - val_mse: 144237.5625\n",
      "Epoch 35/100\n",
      "1902/1902 [==============================] - 3s 1ms/sample - loss: 220109.7481 - mse: 220109.7500 - val_loss: 142874.5924 - val_mse: 142874.5781\n",
      "Epoch 36/100\n",
      "1902/1902 [==============================] - 2s 1ms/sample - loss: 220566.6929 - mse: 220566.7812 - val_loss: 143831.2973 - val_mse: 143831.3125\n",
      "Epoch 37/100\n",
      "1902/1902 [==============================] - 2s 816us/sample - loss: 218268.6573 - mse: 218268.6719 - val_loss: 154013.8225 - val_mse: 154013.8281\n",
      "Epoch 38/100\n",
      "1902/1902 [==============================] - 2s 849us/sample - loss: 218179.2007 - mse: 218179.2500 - val_loss: 144725.8514 - val_mse: 144725.8281\n",
      "Epoch 39/100\n",
      "1902/1902 [==============================] - 2s 859us/sample - loss: 211909.0490 - mse: 211909.0156 - val_loss: 142800.5630 - val_mse: 142800.5469\n",
      "Epoch 40/100\n",
      "1902/1902 [==============================] - 2s 858us/sample - loss: 214070.2046 - mse: 214070.2031 - val_loss: 156116.8904 - val_mse: 156116.9219\n",
      "Epoch 41/100\n",
      "1902/1902 [==============================] - 2s 927us/sample - loss: 211944.8417 - mse: 211944.7969 - val_loss: 143923.2781 - val_mse: 143923.2812\n",
      "Epoch 42/100\n",
      "1902/1902 [==============================] - 2s 838us/sample - loss: 213227.7463 - mse: 213227.7344 - val_loss: 147220.5634 - val_mse: 147220.5469\n",
      "Epoch 00042: early stopping\n"
     ]
    },
    {
     "output_type": "execute_result",
     "data": {
      "text/plain": [
       "<tensorflow.python.keras.callbacks.History at 0x7fdb0af0cc50>"
      ]
     },
     "metadata": {},
     "execution_count": 177
    }
   ],
   "metadata": {
    "collapsed": false,
    "pycharm": {
     "name": "#%%\n"
    }
   }
  },
  {
   "cell_type": "code",
   "execution_count": 230,
   "source": [
    "import sklearn.metrics as metrics\n",
    "#Generate predictions with the model using our X values\n",
    "y_pred = model.predict(X_test)\n",
    "y_pred = [0 if x < 0 else x[0] for x in y_pred]\n",
    "mae = metrics.mean_absolute_error(y_test, y_pred)\n",
    "mse = metrics.mean_squared_error(y_test, y_pred)\n",
    "rmse = np.sqrt(mse) # or mse**(0.5)  \n",
    "r2 = metrics.r2_score(y_test,y_pred)\n",
    "\n",
    "print(\"Results of sklearn.metrics:\")\n",
    "print(\"MAE:\",np.round(mae,1))\n",
    "print(\"MSE:\", np.round(mse,1))\n",
    "print(\"RMSE:\", np.round(rmse,1))\n",
    "print(\"R-Squared:\", np.round(r2,2))"
   ],
   "outputs": [
    {
     "output_type": "stream",
     "name": "stdout",
     "text": [
      "WARNING:tensorflow:Falling back from v2 loop because of error: Failed to find data adapter that can handle input: <class 'pandas.core.frame.DataFrame'>, <class 'NoneType'>\n",
      "Results of sklearn.metrics:\n",
      "MAE: 2.8\n",
      "MSE: 11.6\n",
      "RMSE: 3.4\n",
      "R-Squared: -0.46\n"
     ]
    }
   ],
   "metadata": {
    "pycharm": {
     "name": "#%%\n"
    }
   }
  },
  {
   "cell_type": "code",
   "execution_count": 231,
   "source": [
    "len(X_train)"
   ],
   "outputs": [
    {
     "output_type": "execute_result",
     "data": {
      "text/plain": [
       "532"
      ]
     },
     "metadata": {},
     "execution_count": 231
    }
   ],
   "metadata": {}
  },
  {
   "cell_type": "code",
   "execution_count": 232,
   "source": [
    "len(X_test)"
   ],
   "outputs": [
    {
     "output_type": "execute_result",
     "data": {
      "text/plain": [
       "133"
      ]
     },
     "metadata": {},
     "execution_count": 232
    }
   ],
   "metadata": {}
  },
  {
   "cell_type": "code",
   "execution_count": null,
   "source": [],
   "outputs": [],
   "metadata": {}
  }
 ],
 "metadata": {
  "kernelspec": {
   "name": "python3",
   "display_name": "Python 3.7.10 64-bit ('trade': conda)"
  },
  "language_info": {
   "name": "python",
   "version": "3.7.10",
   "mimetype": "text/x-python",
   "codemirror_mode": {
    "name": "ipython",
    "version": 3
   },
   "pygments_lexer": "ipython3",
   "nbconvert_exporter": "python",
   "file_extension": ".py"
  },
  "metadata": {
   "interpreter": {
    "hash": "dca0ade3e726a953b501b15e8e990130d2b7799f14cfd9f4271676035ebe5511"
   }
  },
  "interpreter": {
   "hash": "ac65f96676c5b7145773354f66d22ac6977fed541995035ec11358af846eeb6e"
  }
 },
 "nbformat": 4,
 "nbformat_minor": 2
}